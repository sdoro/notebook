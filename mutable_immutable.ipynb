{
  "nbformat": 4,
  "nbformat_minor": 0,
  "metadata": {
    "colab": {
      "name": "mutable-immutable.ipynb",
      "version": "0.3.2",
      "provenance": [],
      "collapsed_sections": []
    },
    "kernelspec": {
      "name": "python3",
      "display_name": "Python 3"
    }
  },
  "cells": [
    {
      "metadata": {
        "id": "sN5zj22Gh77k",
        "colab_type": "text"
      },
      "cell_type": "markdown",
      "source": [
        "# mutable and immutable\n",
        "\n",
        "### le stringhe sono immutabili\n",
        "\n",
        "Il tentativo di usare l'operatore [] alla sinistra di un assegnamento con l'intenzione di cambiare il carattere nella stringa porta ad un errore in esecuzione:\n",
        "\n"
      ]
    },
    {
      "metadata": {
        "id": "IsXp_WLgh7D2",
        "colab_type": "code",
        "colab": {
          "base_uri": "https://localhost:8080/",
          "height": 185
        },
        "outputId": "768d32a9-a235-48ff-a947-e07b6c06d458"
      },
      "cell_type": "code",
      "source": [
        "greeting = 'Hello, world!'\n",
        "greeting[0] = 'J'"
      ],
      "execution_count": 1,
      "outputs": [
        {
          "output_type": "error",
          "ename": "TypeError",
          "evalue": "ignored",
          "traceback": [
            "\u001b[0;31m---------------------------------------------------------------------------\u001b[0m",
            "\u001b[0;31mTypeError\u001b[0m                                 Traceback (most recent call last)",
            "\u001b[0;32m<ipython-input-1-217c78420f62>\u001b[0m in \u001b[0;36m<module>\u001b[0;34m()\u001b[0m\n\u001b[1;32m      1\u001b[0m \u001b[0mgreeting\u001b[0m \u001b[0;34m=\u001b[0m \u001b[0;34m'Hello, world!'\u001b[0m\u001b[0;34m\u001b[0m\u001b[0m\n\u001b[0;32m----> 2\u001b[0;31m \u001b[0mgreeting\u001b[0m\u001b[0;34m[\u001b[0m\u001b[0;36m0\u001b[0m\u001b[0;34m]\u001b[0m \u001b[0;34m=\u001b[0m \u001b[0;34m'J'\u001b[0m\u001b[0;34m\u001b[0m\u001b[0m\n\u001b[0m",
            "\u001b[0;31mTypeError\u001b[0m: 'str' object does not support item assignment"
          ]
        }
      ]
    },
    {
      "metadata": {
        "id": "SmNL17jvjI10",
        "colab_type": "text"
      },
      "cell_type": "markdown",
      "source": [
        "L'oggetto (“object”) citato è la stringa e il pezzo (“item”) è il carattere che si voleva assegnare.\n",
        "\n",
        "La ragione del verificarsi dell'errore è che le stringhe sono immutabili, cioè non si può modificare una stringa già esistente. La miglior cosa che si possa fare in questo caso è quella di creare una nuova stringa come variante di quella originale:"
      ]
    },
    {
      "metadata": {
        "id": "rko6LijOkJM0",
        "colab_type": "code",
        "colab": {
          "base_uri": "https://localhost:8080/",
          "height": 34
        },
        "outputId": "083a9c1e-1ea1-4137-81dc-8b78d0a518a6"
      },
      "cell_type": "code",
      "source": [
        "greeting = 'Hello, world!'\n",
        "new_greeting = 'J' + greeting[1:]\n",
        "new_greeting"
      ],
      "execution_count": 2,
      "outputs": [
        {
          "output_type": "execute_result",
          "data": {
            "text/plain": [
              "'Jello, world!'"
            ]
          },
          "metadata": {
            "tags": []
          },
          "execution_count": 2
        }
      ]
    },
    {
      "metadata": {
        "id": "QuEghnsRkc1E",
        "colab_type": "text"
      },
      "cell_type": "markdown",
      "source": [
        "Tale esempio concatena una nuova prima lettera con una fetta (slice) della stringa greeting. Non ha dunque effetto sulla stringa originale."
      ]
    },
    {
      "metadata": {
        "id": "kbM21kWDp1qE",
        "colab_type": "text"
      },
      "cell_type": "markdown",
      "source": [
        "### Le liste sono mutabili\n",
        "\n",
        "La sintassi per accedere agli elementi di una lista è la stessa di quella per accedere ai caratteri di una stringa -- l'operatore parentesi quadrata. L'espressione all'interno delle parentesi specifica l'indice. Ricorda che l'indice inizia da 0.\n",
        "\n",
        "A differenza delle stringhe, le liste sono mutabili. Quando l'operatore parentesi quadrata appare alla sinistra di un assegnamento, identifica l'elemento della lista che sarà modificato.\n"
      ]
    },
    {
      "metadata": {
        "id": "GG9_xF1BqGkh",
        "colab_type": "code",
        "colab": {
          "base_uri": "https://localhost:8080/",
          "height": 34
        },
        "outputId": "11f52060-8182-4223-eb99-23932f102bda"
      },
      "cell_type": "code",
      "source": [
        "numbers = [42, 123]\n",
        "numbers[1] = 5\n",
        "numbers"
      ],
      "execution_count": 3,
      "outputs": [
        {
          "output_type": "execute_result",
          "data": {
            "text/plain": [
              "[42, 5]"
            ]
          },
          "metadata": {
            "tags": []
          },
          "execution_count": 3
        }
      ]
    },
    {
      "metadata": {
        "id": "sDgQZoX1rmD5",
        "colab_type": "text"
      },
      "cell_type": "markdown",
      "source": [
        "### I dizionari sono mutabili"
      ]
    },
    {
      "metadata": {
        "id": "lcCdKadXsVEv",
        "colab_type": "text"
      },
      "cell_type": "markdown",
      "source": [
        "### Variabili globali\n",
        "\n",
        "Capita spesso di usare variabili locali per flags; cioè variabili logiche (booleane) che indicano (flag) quando una data condizione è vera. Per esempio, alcuni programmi usano un flag chiamato *verbose* per controllare il livello di dettaglio dell'output.\n"
      ]
    },
    {
      "metadata": {
        "id": "J99UkwTnsgbe",
        "colab_type": "code",
        "colab": {
          "base_uri": "https://localhost:8080/",
          "height": 34
        },
        "outputId": "3d33841a-e0cf-4819-c6c1-0e10b6ff17ae"
      },
      "cell_type": "code",
      "source": [
        "verbose = True\n",
        "\n",
        "def example1():\n",
        "  if verbose:\n",
        "    print('Running example1')\n",
        "\n",
        "example1()"
      ],
      "execution_count": 4,
      "outputs": [
        {
          "output_type": "stream",
          "text": [
            "Running example1\n"
          ],
          "name": "stdout"
        }
      ]
    },
    {
      "metadata": {
        "id": "08aeCfC6tD8y",
        "colab_type": "text"
      },
      "cell_type": "markdown",
      "source": [
        "Ma se provi a riassegnare il valore alla variabile globale avrai una sorpresa. L'esempio seguente dovrebbe tener traccia del fatto che la funzione è stata chiamata:\n"
      ]
    },
    {
      "metadata": {
        "id": "8rL0mLZGtIsI",
        "colab_type": "code",
        "colab": {}
      },
      "cell_type": "code",
      "source": [
        "been_called = False\n",
        "\n",
        "def example2():\n",
        "  been_called = True     # WRONG"
      ],
      "execution_count": 0,
      "outputs": []
    },
    {
      "metadata": {
        "id": "jzweiFE5tknB",
        "colab_type": "text"
      },
      "cell_type": "markdown",
      "source": [
        "Ma se lo esegui noterai che il valore di been_called non cambia. Il problema è che example2 crea una nuova variabile chiamata been_called. La variabile locale scompare quando la funzione terminina e non avrà effetto sulla variabile globale.\n"
      ]
    },
    {
      "metadata": {
        "id": "gjo-U1yMtoo1",
        "colab_type": "code",
        "colab": {}
      },
      "cell_type": "code",
      "source": [
        "been_called = False\n",
        "\n",
        "def example2():\n",
        "  global been_called\n",
        "  been_called = True"
      ],
      "execution_count": 0,
      "outputs": []
    },
    {
      "metadata": {
        "id": "kkaWxQ8dtsXH",
        "colab_type": "text"
      },
      "cell_type": "markdown",
      "source": [
        "L'istruzione global istruisce l'interprete che in questa funzione ogni volta si utilizza been_called sarà quello globale e non quello locale.\n",
        "\n",
        "Ora proviamo un esempio che cerca di modificare una variabile gloabale:\n"
      ]
    },
    {
      "metadata": {
        "id": "QG5KahsfwrJA",
        "colab_type": "code",
        "colab": {
          "base_uri": "https://localhost:8080/",
          "height": 324
        },
        "outputId": "70fd0962-644c-4e79-e49a-a184af5bf10d"
      },
      "cell_type": "code",
      "source": [
        "count = 0\n",
        "\n",
        "def example3():\n",
        "  count = count + 1   # WRONG\n",
        "\n",
        "example3()"
      ],
      "execution_count": 7,
      "outputs": [
        {
          "output_type": "error",
          "ename": "UnboundLocalError",
          "evalue": "ignored",
          "traceback": [
            "\u001b[0;31m---------------------------------------------------------------------------\u001b[0m",
            "\u001b[0;31mUnboundLocalError\u001b[0m                         Traceback (most recent call last)",
            "\u001b[0;32m<ipython-input-7-83d5cd4be862>\u001b[0m in \u001b[0;36m<module>\u001b[0;34m()\u001b[0m\n\u001b[1;32m      4\u001b[0m   \u001b[0mcount\u001b[0m \u001b[0;34m=\u001b[0m \u001b[0mcount\u001b[0m \u001b[0;34m+\u001b[0m \u001b[0;36m1\u001b[0m   \u001b[0;31m# WRONG\u001b[0m\u001b[0;34m\u001b[0m\u001b[0m\n\u001b[1;32m      5\u001b[0m \u001b[0;34m\u001b[0m\u001b[0m\n\u001b[0;32m----> 6\u001b[0;31m \u001b[0mexample3\u001b[0m\u001b[0;34m(\u001b[0m\u001b[0;34m)\u001b[0m\u001b[0;34m\u001b[0m\u001b[0m\n\u001b[0m",
            "\u001b[0;32m<ipython-input-7-83d5cd4be862>\u001b[0m in \u001b[0;36mexample3\u001b[0;34m()\u001b[0m\n\u001b[1;32m      2\u001b[0m \u001b[0;34m\u001b[0m\u001b[0m\n\u001b[1;32m      3\u001b[0m \u001b[0;32mdef\u001b[0m \u001b[0mexample3\u001b[0m\u001b[0;34m(\u001b[0m\u001b[0;34m)\u001b[0m\u001b[0;34m:\u001b[0m\u001b[0;34m\u001b[0m\u001b[0m\n\u001b[0;32m----> 4\u001b[0;31m   \u001b[0mcount\u001b[0m \u001b[0;34m=\u001b[0m \u001b[0mcount\u001b[0m \u001b[0;34m+\u001b[0m \u001b[0;36m1\u001b[0m   \u001b[0;31m# WRONG\u001b[0m\u001b[0;34m\u001b[0m\u001b[0m\n\u001b[0m\u001b[1;32m      5\u001b[0m \u001b[0;34m\u001b[0m\u001b[0m\n\u001b[1;32m      6\u001b[0m \u001b[0mexample3\u001b[0m\u001b[0;34m(\u001b[0m\u001b[0;34m)\u001b[0m\u001b[0;34m\u001b[0m\u001b[0m\n",
            "\u001b[0;31mUnboundLocalError\u001b[0m: local variable 'count' referenced before assignment"
          ]
        }
      ]
    },
    {
      "metadata": {
        "id": "fRWhkQm3xHCM",
        "colab_type": "text"
      },
      "cell_type": "markdown",
      "source": [
        "Python assume che count sia locale e in questa ipotesi si sta leggendo prima di aver scritto. La soluzione è, ancora, quella di dichiarare count globale.\n",
        "\n"
      ]
    },
    {
      "metadata": {
        "id": "1g9XUucTxmyW",
        "colab_type": "code",
        "colab": {}
      },
      "cell_type": "code",
      "source": [
        "count = 0\n",
        "\n",
        "def example3():\n",
        "  global count\n",
        "  count = count + 1   # WRONG\n",
        "\n",
        "example3()"
      ],
      "execution_count": 0,
      "outputs": []
    },
    {
      "metadata": {
        "id": "eBF8IL9Txsb8",
        "colab_type": "text"
      },
      "cell_type": "markdown",
      "source": [
        "Se una variabile globale si riferisce a valori mutabile, allora puoi modificare il valore senza dover dichiarare la variabile:\n"
      ]
    },
    {
      "metadata": {
        "id": "W1E48BGrx0gg",
        "colab_type": "code",
        "colab": {}
      },
      "cell_type": "code",
      "source": [
        "known = {0:0, 1:1}\n",
        "\n",
        "def example4():\n",
        "  known[2] = 1\n",
        "\n",
        "example4()"
      ],
      "execution_count": 0,
      "outputs": []
    },
    {
      "metadata": {
        "id": "O4T7rZiBx3nV",
        "colab_type": "text"
      },
      "cell_type": "markdown",
      "source": [
        "Quindi puoi aggiungere, rimuovere e rimpiazzare elementi di una lista globale o di un dizionario globale, ma se tu vuoi riassegnare la variabile allora la devi dichiarare:\n"
      ]
    },
    {
      "metadata": {
        "id": "P9ccR9q5x7HC",
        "colab_type": "code",
        "colab": {}
      },
      "cell_type": "code",
      "source": [
        "def example5():\n",
        "  global known\n",
        "  known = dict()\n",
        "  \n",
        "example5()"
      ],
      "execution_count": 0,
      "outputs": []
    }
  ]
}