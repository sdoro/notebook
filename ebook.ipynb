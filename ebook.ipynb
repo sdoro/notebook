{
  "nbformat": 4,
  "nbformat_minor": 0,
  "metadata": {
    "colab": {
      "name": "ebook.ipynb",
      "version": "0.3.2",
      "provenance": [],
      "collapsed_sections": []
    },
    "kernelspec": {
      "name": "python3",
      "display_name": "Python 3"
    }
  },
  "cells": [
    {
      "metadata": {
        "id": "X7V98dSj0bKN",
        "colab_type": "text"
      },
      "cell_type": "markdown",
      "source": [
        "# Libro su Python\n",
        "\n",
        "Ci sono molti libri sul linguaggio Python, uno tra i migliori è \"Pensare da Informatico\" di Allen B. Downey.\n",
        "\n",
        "### Versione tradotta in italiano\n",
        "\n",
        "Il file PDF si trova nel seguente link: \n",
        "[Pensare da informatico - Imparare Python](https://www.python.it/doc/Howtothink/HowToThink_ITA.pdf)\n",
        "mentre la versione html è [qui](https://www.python.it/doc/Howtothink/Howtothink-html-it/index.htm) ed è più agevole per la proiezione su schermo mentre la versione PDF è utile quando manca la connessione internet.\n",
        "\n",
        "Sono disponibili [i sorgenti dei programmi](https://www.python.it/doc/Howtothink/Howtothink-html-it/app03.htm).\n",
        "\n",
        "Questa versione è **vecchia** e si riferisce alla versione **2**.X di Python.\n",
        "\n",
        "### Versione tradotta in inglese\n",
        "\n",
        "Il file PDF si trova nel seguente link: \n",
        "[Think Python - \n",
        "How to Think Like a Computer Scientist -\n",
        "2nd Edition, Version 2.2.23](http://greenteapress.com/thinkpython2/thinkpython2.pdf)\n",
        "mentre la versione html è [qui](http://greenteapress.com/thinkpython2/html/index.html) ed è più agevole per la proiezione su schermo mentre la versione PDF è utile quando manca la connessione internet.\n",
        "\n",
        "Sono disponibili alcuni programmi di esempio e alcune soluzioni in [github.com](https://github.com/AllenDowney/ThinkPython2/tree/master/code).\n",
        "\n",
        "Questa versione è **aggiornata** e si riferisce alla versione **3**.X di Python."
      ]
    }
  ]
}