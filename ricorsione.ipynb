{
  "nbformat": 4,
  "nbformat_minor": 0,
  "metadata": {
    "colab": {
      "name": "ricorsione.ipynb",
      "version": "0.3.2",
      "provenance": [],
      "collapsed_sections": []
    },
    "kernelspec": {
      "name": "python3",
      "display_name": "Python 3"
    }
  },
  "cells": [
    {
      "metadata": {
        "id": "kv6iK-YtkA29",
        "colab_type": "text"
      },
      "cell_type": "markdown",
      "source": [
        "[![Colab](https://colab.research.google.com/assets/colab-badge.svg)](https://colab.research.google.com/github/sdoro/notebooks/blob/master/ricorsione.ipynb)   [![Binder](http://mybinder.org/badge.svg)](http://mybinder.org/v2/gh/sdoro/notebooks/master?filepath=ricorsione.ipynb)\n",
        "\n",
        "\n",
        "### Esercizio\n",
        "\n",
        "\n",
        "Copia ricorsiva di una lista in due modi:\n",
        "\n",
        "\n",
        "*   mantenendo l'ordine\n",
        "*   invertendo l'ordine (in due modi)\n",
        "\n"
      ]
    },
    {
      "metadata": {
        "id": "cjtElneXkBQN",
        "colab_type": "code",
        "outputId": "aea0c144-87cf-43eb-cf60-0904efef9fe1",
        "colab": {
          "base_uri": "https://localhost:8080/",
          "height": 68
        }
      },
      "cell_type": "code",
      "source": [
        "def copiaOrdine(lst):\n",
        "  if len(lst) == 1:\n",
        "    return lst[:]   # va bene anche: return [lst[0]]\n",
        "  else:\n",
        "    return [lst[0]] + copiaOrdine(lst[1:])\n",
        "\n",
        "\n",
        "def copiaInversa(lst):\n",
        "  if len(lst) == 1:\n",
        "    return lst[:]   # va bene anche: return [lst[0]]\n",
        "  else:\n",
        "    return copiaInversa(lst[1:]) + [lst[0]]   # rispetto a prima: scambio degli operandi\n",
        "\n",
        "def copiaInversa2(lst):\n",
        "  if len(lst) == 1:\n",
        "    return lst[:]   # va bene anche: return [lst[0]]\n",
        "  else:\n",
        "    return [lst[-1]] + copiaInversa(lst[:-1])   # altra variante\n",
        "\n",
        "\n",
        "# test\n",
        "v = [1, 3, 6, 2, 10, 14, 90, 2]\n",
        "print(copiaOrdine(v))\n",
        "print(copiaInversa(v))\n",
        "print(copiaInversa2(v))"
      ],
      "execution_count": 0,
      "outputs": [
        {
          "output_type": "stream",
          "text": [
            "[1, 3, 6, 2, 10, 14, 90, 2]\n",
            "[2, 90, 14, 10, 2, 6, 3, 1]\n",
            "[2, 90, 14, 10, 2, 6, 3, 1]\n"
          ],
          "name": "stdout"
        }
      ]
    },
    {
      "metadata": {
        "id": "LB6QdUs-U-Rd",
        "colab_type": "text"
      },
      "cell_type": "markdown",
      "source": [
        "Estremizziamo introducendo la possibilità di avere una lista vuota:"
      ]
    },
    {
      "metadata": {
        "id": "mhbf_Z3CUs9i",
        "colab_type": "code",
        "colab": {
          "base_uri": "https://localhost:8080/",
          "height": 68
        },
        "outputId": "31c6ae93-4c40-4b9a-8238-764e49c135dc"
      },
      "cell_type": "code",
      "source": [
        "def copiaOrdine(lst):\n",
        "  if len(lst) == 0:\n",
        "    return []\n",
        "  else:\n",
        "    return [lst[0]] + copiaOrdine(lst[1:])\n",
        "\n",
        "\n",
        "def copiaInversa(lst):\n",
        "  if len(lst) == 0:\n",
        "    return []\n",
        "  else:\n",
        "    return copiaInversa(lst[1:]) + [lst[0]]   # rispetto a prima: scambio degli operandi\n",
        "\n",
        "def copiaInversa2(lst):\n",
        "  if len(lst) == 1:\n",
        "    return []\n",
        "  else:\n",
        "    return [lst[-1]] + copiaInversa(lst[:-1])   # altra variante\n",
        "\n",
        "\n",
        "# test\n",
        "v = [1, 3, 6, 2, 10, 14, 90, 2]\n",
        "print(copiaOrdine(v))\n",
        "print(copiaInversa(v))\n",
        "print(copiaInversa2(v))"
      ],
      "execution_count": 3,
      "outputs": [
        {
          "output_type": "stream",
          "text": [
            "[1, 3, 6, 2, 10, 14, 90, 2]\n",
            "[2, 90, 14, 10, 2, 6, 3, 1]\n",
            "[2, 90, 14, 10, 2, 6, 3, 1]\n"
          ],
          "name": "stdout"
        }
      ]
    },
    {
      "metadata": {
        "id": "dWHhfkMZW7hB",
        "colab_type": "text"
      },
      "cell_type": "markdown",
      "source": [
        "Mi pare bene :-)"
      ]
    }
  ]
}