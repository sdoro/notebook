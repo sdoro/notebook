{
  "nbformat": 4,
  "nbformat_minor": 0,
  "metadata": {
    "colab": {
      "name": "decorator.ipynb",
      "version": "0.3.2",
      "provenance": [],
      "collapsed_sections": []
    },
    "kernelspec": {
      "name": "python3",
      "display_name": "Python 3"
    }
  },
  "cells": [
    {
      "metadata": {
        "id": "B0XnpqOpkQHM",
        "colab_type": "text"
      },
      "cell_type": "markdown",
      "source": [
        "[from: https://realpython.com/primer-on-python-decorators/ ] Python allows you to use decorators in a simpler way with the @ symbol"
      ]
    },
    {
      "metadata": {
        "id": "gIiNJ_ZEkVM-",
        "colab_type": "code",
        "outputId": "0c7ffc37-dc90-4ef5-db1b-dd297479263e",
        "colab": {
          "base_uri": "https://localhost:8080/",
          "height": 69
        }
      },
      "cell_type": "code",
      "source": [
        "def my_decorator(func):\n",
        "    def wrapper():\n",
        "        print(\"Something is happening before the function is called.\")\n",
        "        func()\n",
        "        print(\"Something is happening after the function is called.\")\n",
        "    return wrapper\n",
        "\n",
        "@my_decorator\n",
        "def say_whee():\n",
        "    print(\"Whee!\")\n",
        "\n",
        "say_whee()"
      ],
      "execution_count": 1,
      "outputs": [
        {
          "output_type": "stream",
          "text": [
            "Something is happening before the function is called.\n",
            "Whee!\n",
            "Something is happening after the function is called.\n"
          ],
          "name": "stdout"
        }
      ]
    }
  ]
}