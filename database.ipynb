{
  "nbformat": 4,
  "nbformat_minor": 0,
  "metadata": {
    "colab": {
      "name": "database.ipynb",
      "version": "0.3.2",
      "provenance": [],
      "collapsed_sections": []
    },
    "kernelspec": {
      "name": "python3",
      "display_name": "Python 3"
    }
  },
  "cells": [
    {
      "metadata": {
        "id": "EE-gYCUj1W1R",
        "colab_type": "text"
      },
      "cell_type": "markdown",
      "source": [
        "[![Colab](https://colab.research.google.com/assets/colab-badge.svg)](https://colab.research.google.com/github/sdoro/notebooks/blob/master/database.ipynb)   [![Binder](http://mybinder.org/badge.svg)](http://mybinder.org/v2/gh/sdoro/notebooks/master?filepath=database.ipynb)"
      ]
    },
    {
      "metadata": {
        "id": "6yvzEYx8Zb9B",
        "colab_type": "code",
        "colab": {
          "base_uri": "https://localhost:8080/",
          "height": 34
        },
        "outputId": "1edf424c-b5cb-428b-e158-9188603577eb"
      },
      "cell_type": "code",
      "source": [
        "# Deletes sales sql database in case we need to start from scratch\n",
        "#import os\n",
        "#os.remove('Sales.db')\n",
        "\n",
        "# rewrite/create a file\n",
        "open('Sales.db', 'w')\n"
      ],
      "execution_count": 1,
      "outputs": [
        {
          "output_type": "execute_result",
          "data": {
            "text/plain": [
              "<_io.TextIOWrapper name='Sales.db' mode='w' encoding='UTF-8'>"
            ]
          },
          "metadata": {
            "tags": []
          },
          "execution_count": 1
        }
      ]
    },
    {
      "metadata": {
        "id": "Saat_-35xPbe",
        "colab_type": "code",
        "colab": {}
      },
      "cell_type": "code",
      "source": [
        "# to download a previous file database\n",
        "from google.colab import files\n",
        "files.download('Sales.db')"
      ],
      "execution_count": 0,
      "outputs": []
    },
    {
      "metadata": {
        "id": "JPvIEFplxTob",
        "colab_type": "code",
        "colab": {}
      },
      "cell_type": "code",
      "source": [
        "# to upload a previous downloaded file\n",
        "#from google.colab import files\n",
        "#uploaded = files.upload()"
      ],
      "execution_count": 0,
      "outputs": []
    },
    {
      "metadata": {
        "id": "nwmKL2_KtJyI",
        "colab_type": "code",
        "colab": {}
      },
      "cell_type": "code",
      "source": [
        "from google.colab import files\n",
        "# download a 0 size file\n",
        "files.download('Sales.db')"
      ],
      "execution_count": 0,
      "outputs": []
    },
    {
      "metadata": {
        "id": "aA1Y2y3eQP_u",
        "colab_type": "code",
        "colab": {}
      },
      "cell_type": "code",
      "source": [
        "import sqlite3\n",
        "\n",
        "db_filename = 'Sales.db'\n",
        "conn = sqlite3.connect(db_filename, timeout=10)\n",
        "\n",
        "c = conn.cursor()\n"
      ],
      "execution_count": 0,
      "outputs": []
    },
    {
      "metadata": {
        "id": "qhcf6Z1JV5bA",
        "colab_type": "code",
        "colab": {}
      },
      "cell_type": "code",
      "source": [
        "# costruzione db\n",
        "c.execute('''CREATE TABLE Bill (Cliente TEXT,\n",
        "                                Alloggio INTEGER, \n",
        "                                Cibo INTEGER,\n",
        "                                Bevande INTEGER)''')\n",
        "conn.commit()"
      ],
      "execution_count": 0,
      "outputs": []
    },
    {
      "metadata": {
        "id": "sNLIwSnTV-Dh",
        "colab_type": "code",
        "colab": {
          "base_uri": "https://localhost:8080/",
          "height": 34
        },
        "outputId": "498c62c1-bd8e-4045-afb7-1d13dd452b06"
      },
      "cell_type": "code",
      "source": [
        "# popolamento\n",
        "c.execute('''INSERT INTO Bill (Cliente, Alloggio, Cibo) \n",
        "             VALUES ('C35', 162, 75 )''')\n",
        "c.execute('''INSERT INTO Bill (Cliente, Cibo, Bevande) \n",
        "             VALUES ('C41', 38, 7 )''')\n",
        "conn.commit()\n",
        "\n",
        "c.execute('''SELECT * \n",
        "             FROM Bill''')\n",
        "print(c.fetchall())"
      ],
      "execution_count": 4,
      "outputs": [
        {
          "output_type": "stream",
          "text": [
            "[('C35', 162, 75, None), ('C41', None, 38, 7)]\n"
          ],
          "name": "stdout"
        }
      ]
    },
    {
      "metadata": {
        "id": "59VBEP02a9U4",
        "colab_type": "code",
        "colab": {}
      },
      "cell_type": "code",
      "source": [
        "# Costruzione db\n",
        "cmd = 'CREATE TABLE Alloggi (Cliente TEXT, Costo INTEGER)'\n",
        "c.execute(cmd)\n",
        "cmd = 'CREATE TABLE Cibo (Cliente TEXT, Costo INTEGER)'\n",
        "c.execute(cmd)\n",
        "cmd = 'CREATE TABLE Bevande (Cliente TEXT, Costo INTEGER)'\n",
        "c.execute(cmd)\n"
      ],
      "execution_count": 0,
      "outputs": []
    },
    {
      "metadata": {
        "id": "sZnlKQNPbxx6",
        "colab_type": "code",
        "colab": {}
      },
      "cell_type": "code",
      "source": [
        "# popolamento db\n",
        "cmd ='''INSERT INTO Alloggi (Cliente, Costo) \n",
        "        VALUES ('C35', 162)'''\n",
        "c.execute(cmd)\n",
        "c.execute('''SELECT * \n",
        "             FROM Alloggi''')\n",
        "print(c.fetchall())\n",
        "\n",
        "cmd = \"INSERT INTO Cibo (Cliente, Costo) VALUES ('C35', 75)\"\n",
        "c.execute(cmd)\n",
        "cmd = \"INSERT INTO Cibo (Cliente, Costo) VALUES ('C41', 38)\"\n",
        "c.execute(cmd)\n",
        "c.execute('SELECT * FROM Cibo')\n",
        "print(c.fetchall())\n",
        "\n",
        "cmd = \"INSERT INTO Bevande (Cliente, Costo) VALUES ('C41', 7)\"\n",
        "c.execute(cmd)\n",
        "c.execute('SELECT * FROM Bevande')\n",
        "print(c.fetchall())\n"
      ],
      "execution_count": 0,
      "outputs": []
    },
    {
      "metadata": {
        "id": "8_BJsliYlxJY",
        "colab_type": "code",
        "colab": {}
      },
      "cell_type": "code",
      "source": [
        "# Costruzione db\n",
        "cmd = 'CREATE TABLE Costi (Cliente TEXT, Categoria TEXT, Costo INTEGER)'\n",
        "c.execute(cmd)"
      ],
      "execution_count": 0,
      "outputs": []
    },
    {
      "metadata": {
        "id": "75GMwb79l6_m",
        "colab_type": "code",
        "colab": {}
      },
      "cell_type": "code",
      "source": [
        "# popolamento db\n",
        "co = [\n",
        "  ('C35', 'Alloggio', 162),\n",
        "  ('C35', 'Cibo', 75),\n",
        "  ('C41', 'Cibo', 38),\n",
        "  ('C41', 'Bevanda', 7)\n",
        "]\n",
        "\n",
        "\n",
        "c.executemany('INSERT INTO Costi VALUES (?,?,?)', co)\n",
        "c.execute('SELECT * FROM Costi')\n",
        "print(c.fetchall())"
      ],
      "execution_count": 0,
      "outputs": []
    },
    {
      "metadata": {
        "id": "Zt4yDodyaoc8",
        "colab_type": "code",
        "colab": {}
      },
      "cell_type": "code",
      "source": [
        "conn.commit()\n",
        "conn.close()"
      ],
      "execution_count": 0,
      "outputs": []
    }
  ]
}