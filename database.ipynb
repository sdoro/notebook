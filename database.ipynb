{
  "nbformat": 4,
  "nbformat_minor": 0,
  "metadata": {
    "colab": {
      "name": "database.ipynb",
      "version": "0.3.2",
      "provenance": [],
      "collapsed_sections": [],
      "include_colab_link": true
    },
    "kernelspec": {
      "name": "python3",
      "display_name": "Python 3"
    }
  },
  "cells": [
    {
      "cell_type": "markdown",
      "metadata": {
        "id": "view-in-github",
        "colab_type": "text"
      },
      "source": [
        "[View in Colaboratory](https://colab.research.google.com/github/sdoro/notebook/blob/master/database.ipynb)"
      ]
    },
    {
      "metadata": {
        "id": "6yvzEYx8Zb9B",
        "colab_type": "code",
        "colab": {
          "base_uri": "https://localhost:8080/",
          "height": 34
        },
        "outputId": "a59b563f-bb36-4828-af56-e606d9b11f24"
      },
      "cell_type": "code",
      "source": [
        "# Deletes sales sql database in case we need to start from scratch\n",
        "#import os\n",
        "#os.remove('Sales.db')\n",
        "\n",
        "# rewrite/create a file\n",
        "open('Sales.db', 'w')\n"
      ],
      "execution_count": 1,
      "outputs": [
        {
          "output_type": "execute_result",
          "data": {
            "text/plain": [
              "<_io.TextIOWrapper name='Sales.db' mode='w' encoding='UTF-8'>"
            ]
          },
          "metadata": {
            "tags": []
          },
          "execution_count": 1
        }
      ]
    },
    {
      "metadata": {
        "id": "aA1Y2y3eQP_u",
        "colab_type": "code",
        "colab": {}
      },
      "cell_type": "code",
      "source": [
        "import sqlite3\n",
        "\n",
        "db_filename = 'Sales.db'\n",
        "conn = sqlite3.connect(db_filename)\n",
        "\n",
        "c = conn.cursor()\n"
      ],
      "execution_count": 0,
      "outputs": []
    },
    {
      "metadata": {
        "id": "qhcf6Z1JV5bA",
        "colab_type": "code",
        "colab": {
          "base_uri": "https://localhost:8080/",
          "height": 34
        },
        "outputId": "3bf97d81-1a6f-4208-cfe2-4372f92df0d8"
      },
      "cell_type": "code",
      "source": [
        "# costruzione db\n",
        "c.execute('CREATE TABLE Bill (Cliente TEXT, Alloggio INTEGER, Cibo INTEGER, Bevande INTEGER)')"
      ],
      "execution_count": 3,
      "outputs": [
        {
          "output_type": "execute_result",
          "data": {
            "text/plain": [
              "<sqlite3.Cursor at 0x7eff549e2420>"
            ]
          },
          "metadata": {
            "tags": []
          },
          "execution_count": 3
        }
      ]
    },
    {
      "metadata": {
        "id": "sNLIwSnTV-Dh",
        "colab_type": "code",
        "colab": {
          "base_uri": "https://localhost:8080/",
          "height": 34
        },
        "outputId": "dbd85b9e-7a8d-4593-ca84-f3636854e082"
      },
      "cell_type": "code",
      "source": [
        "# popolamento\n",
        "c.execute(\"INSERT INTO Bill (Cliente, Alloggio, Cibo) VALUES ('C35', 162, 75 )\")\n",
        "c.execute(\"INSERT INTO Bill (Cliente, Cibo, Bevande) VALUES ('C41', 38, 7 )\")\n",
        "\n",
        "c.execute('SELECT * FROM Bill')\n",
        "print(c.fetchall())"
      ],
      "execution_count": 4,
      "outputs": [
        {
          "output_type": "stream",
          "text": [
            "[('C35', 162, 75, None), ('C41', None, 38, 7)]\n"
          ],
          "name": "stdout"
        }
      ]
    },
    {
      "metadata": {
        "id": "59VBEP02a9U4",
        "colab_type": "code",
        "colab": {
          "base_uri": "https://localhost:8080/",
          "height": 34
        },
        "outputId": "6cb9891c-0bd1-4a8b-9c28-272340a5993d"
      },
      "cell_type": "code",
      "source": [
        "# Costruzione db\n",
        "cmd = 'CREATE TABLE Alloggi (Cliente TEXT, Costo INTEGER)'\n",
        "c.execute(cmd)\n",
        "cmd = 'CREATE TABLE Cibo (Cliente TEXT, Costo INTEGER)'\n",
        "c.execute(cmd)\n",
        "cmd = 'CREATE TABLE Bevande (Cliente TEXT, Costo INTEGER)'\n",
        "c.execute(cmd)\n"
      ],
      "execution_count": 5,
      "outputs": [
        {
          "output_type": "execute_result",
          "data": {
            "text/plain": [
              "<sqlite3.Cursor at 0x7eff549e2420>"
            ]
          },
          "metadata": {
            "tags": []
          },
          "execution_count": 5
        }
      ]
    },
    {
      "metadata": {
        "id": "sZnlKQNPbxx6",
        "colab_type": "code",
        "colab": {
          "base_uri": "https://localhost:8080/",
          "height": 69
        },
        "outputId": "9d3ba99d-85d7-44f4-cf9c-a808e6bc2b77"
      },
      "cell_type": "code",
      "source": [
        "# popolamento db\n",
        "cmd =\"INSERT INTO Alloggi (Cliente, Costo) VALUES ('C35', 162)\"\n",
        "c.execute(cmd)\n",
        "c.execute('SELECT * FROM Alloggi')\n",
        "print(c.fetchall())\n",
        "\n",
        "cmd = \"INSERT INTO Cibo (Cliente, Costo) VALUES ('C35', 75)\"\n",
        "c.execute(cmd)\n",
        "cmd = \"INSERT INTO Cibo (Cliente, Costo) VALUES ('C41', 38)\"\n",
        "c.execute(cmd)\n",
        "c.execute('SELECT * FROM Cibo')\n",
        "print(c.fetchall())\n",
        "\n",
        "cmd = \"INSERT INTO Bevande (Cliente, Costo) VALUES ('C41', 7)\"\n",
        "c.execute(cmd)\n",
        "c.execute('SELECT * FROM Bevande')\n",
        "print(c.fetchall())\n"
      ],
      "execution_count": 6,
      "outputs": [
        {
          "output_type": "stream",
          "text": [
            "[('C35', 162)]\n",
            "[('C35', 75), ('C41', 38)]\n",
            "[('C41', 7)]\n"
          ],
          "name": "stdout"
        }
      ]
    },
    {
      "metadata": {
        "id": "8_BJsliYlxJY",
        "colab_type": "code",
        "colab": {
          "base_uri": "https://localhost:8080/",
          "height": 34
        },
        "outputId": "ff5180f0-5f42-487a-d87f-03127318aa40"
      },
      "cell_type": "code",
      "source": [
        "# Costruzione db\n",
        "cmd = 'CREATE TABLE Costi (Cliente TEXT, Categoria TEXT, Costo INTEGER)'\n",
        "c.execute(cmd)"
      ],
      "execution_count": 7,
      "outputs": [
        {
          "output_type": "execute_result",
          "data": {
            "text/plain": [
              "<sqlite3.Cursor at 0x7eff549e2420>"
            ]
          },
          "metadata": {
            "tags": []
          },
          "execution_count": 7
        }
      ]
    },
    {
      "metadata": {
        "id": "75GMwb79l6_m",
        "colab_type": "code",
        "colab": {
          "base_uri": "https://localhost:8080/",
          "height": 34
        },
        "outputId": "ba872459-dc8b-47fc-f889-e42fb432f7f6"
      },
      "cell_type": "code",
      "source": [
        "# popolamento db\n",
        "co = [\n",
        "  ('C35', 'Alloggio', 162),\n",
        "  ('C35', 'Cibo', 75),\n",
        "  ('C41', 'Cibo', 38),\n",
        "  ('C41', 'Bevanda', 7)\n",
        "]\n",
        "\n",
        "\n",
        "c.executemany('INSERT INTO Costi VALUES (?,?,?)', co)\n",
        "c.execute('SELECT * FROM Costi')\n",
        "print(c.fetchall())"
      ],
      "execution_count": 8,
      "outputs": [
        {
          "output_type": "stream",
          "text": [
            "[('C35', 'Alloggio', 162), ('C35', 'Cibo', 75), ('C41', 'Cibo', 38), ('C41', 'Bevanda', 7)]\n"
          ],
          "name": "stdout"
        }
      ]
    },
    {
      "metadata": {
        "id": "Zt4yDodyaoc8",
        "colab_type": "code",
        "colab": {}
      },
      "cell_type": "code",
      "source": [
        "conn.commit()\n",
        "conn.close()"
      ],
      "execution_count": 0,
      "outputs": []
    }
  ]
}