{
  "nbformat": 4,
  "nbformat_minor": 0,
  "metadata": {
    "colab": {
      "name": "database.ipynb",
      "version": "0.3.2",
      "provenance": [],
      "collapsed_sections": []
    },
    "kernelspec": {
      "name": "python3",
      "display_name": "Python 3"
    }
  },
  "cells": [
    {
      "metadata": {
        "id": "EE-gYCUj1W1R",
        "colab_type": "text"
      },
      "cell_type": "markdown",
      "source": [
        "[![Colab](https://colab.research.google.com/assets/colab-badge.svg)](https://colab.research.google.com/github/sdoro/notebooks/blob/master/database.ipynb)   [![Binder](http://mybinder.org/badge.svg)](http://mybinder.org/v2/gh/sdoro/notebooks/master?filepath=database.ipynb)\n",
        "\n",
        "# Esempio\n",
        "\n",
        "Un hotel mette a disposizione delle stanze, cibo e bevande e vuole registrare quanto spende ogni cliente per ogni categaria di costo in modo tale che quando il cliente lascia l'hotel gli si presenta il conto ragruppato per tutto quello che ha preso."
      ]
    },
    {
      "metadata": {
        "id": "wC1CMRgLfzJt",
        "colab_type": "text"
      },
      "cell_type": "markdown",
      "source": [
        "# Soluzione 1\n",
        "\n",
        "In questa soluzione c'è una unica tabella Vendite, che ha una riga per ogni cliente e una colonna per ogni categoria di costo. Se un cliente non spende soldi per una categoria, allora non esiste la riga corrispondente."
      ]
    },
    {
      "metadata": {
        "id": "6yvzEYx8Zb9B",
        "colab_type": "code",
        "colab": {}
      },
      "cell_type": "code",
      "source": [
        "# to delets sales sql database in case we need to start from scratch\n",
        "import os\n",
        "os.remove('S1.db')"
      ],
      "execution_count": 0,
      "outputs": []
    },
    {
      "metadata": {
        "id": "PRy0rXYcSqE-",
        "colab_type": "code",
        "colab": {}
      },
      "cell_type": "code",
      "source": [
        "# to rewrite/create sales sql database in case we need to start from scratch\n",
        "open('S1.db', 'w')"
      ],
      "execution_count": 0,
      "outputs": []
    },
    {
      "metadata": {
        "id": "Saat_-35xPbe",
        "colab_type": "code",
        "colab": {}
      },
      "cell_type": "code",
      "source": [
        "# to download a previous file database\n",
        "from google.colab import files\n",
        "files.download('S1.db')"
      ],
      "execution_count": 0,
      "outputs": []
    },
    {
      "metadata": {
        "id": "JPvIEFplxTob",
        "colab_type": "code",
        "colab": {}
      },
      "cell_type": "code",
      "source": [
        "# to upload a previous downloaded file\n",
        "from google.colab import files\n",
        "uploaded = files.upload()"
      ],
      "execution_count": 0,
      "outputs": []
    },
    {
      "metadata": {
        "id": "nwmKL2_KtJyI",
        "colab_type": "code",
        "colab": {}
      },
      "cell_type": "code",
      "source": [
        "from google.colab import files\n",
        "# download a 0 size file\n",
        "files.download('S1.db')"
      ],
      "execution_count": 0,
      "outputs": []
    },
    {
      "metadata": {
        "id": "O0_xWl85apuV",
        "colab_type": "code",
        "colab": {}
      },
      "cell_type": "code",
      "source": [
        "%%bash\n",
        "ls -l\n",
        "rm -f *.db"
      ],
      "execution_count": 0,
      "outputs": []
    },
    {
      "metadata": {
        "id": "aA1Y2y3eQP_u",
        "colab_type": "code",
        "colab": {}
      },
      "cell_type": "code",
      "source": [
        "import sqlite3\n",
        "\n",
        "db_filename = 'S1.db'\n",
        "conn = sqlite3.connect(db_filename, timeout=10)\n",
        "\n",
        "c = conn.cursor()\n"
      ],
      "execution_count": 0,
      "outputs": []
    },
    {
      "metadata": {
        "id": "qhcf6Z1JV5bA",
        "colab_type": "code",
        "colab": {}
      },
      "cell_type": "code",
      "source": [
        "# costruzione db\n",
        "c.execute('''CREATE TABLE Vendite (Cliente TEXT,\n",
        "                                   Alloggio INTEGER, \n",
        "                                   Cibo INTEGER,\n",
        "                                   Bevande INTEGER)''')\n",
        "conn.commit()"
      ],
      "execution_count": 0,
      "outputs": []
    },
    {
      "metadata": {
        "id": "sNLIwSnTV-Dh",
        "colab_type": "code",
        "colab": {}
      },
      "cell_type": "code",
      "source": [
        "# popolamento\n",
        "c.execute('''INSERT INTO Vendite (Cliente, Alloggio, Cibo) \n",
        "             VALUES ('C35', 162, 75 )''')\n",
        "c.execute('''INSERT INTO Vendite (Cliente, Cibo, Bevande) \n",
        "             VALUES ('C41', 38, 7 )''')\n",
        "conn.commit()\n",
        "\n",
        "c.execute('''SELECT * \n",
        "             FROM Vendite''')\n",
        "print(c.fetchall())"
      ],
      "execution_count": 0,
      "outputs": []
    },
    {
      "metadata": {
        "id": "JL9Tm-E_hplX",
        "colab_type": "text"
      },
      "cell_type": "markdown",
      "source": [
        "# Soluzione 2\n",
        "\n",
        "In questa soluzione ci sono tre tabelle,  Alloggi, Cibo e Bevande, corrispondenti alle tre categorie di costo e dove ogni ogni tabella ha una riga per un cliente solo se quel cliente ha speso in quella categoria. Le tre tabelle sono:\n",
        "\n",
        "* Alloggi con colonne Cliente (campo testo) e Costo (campo intero);\n",
        "\n",
        "* Cibo con colonne Cliente (campo testo) e Costo (campo intero)\n",
        "\n",
        "* Bevande con colonne Cliente (campo testo) e Costo (campo intero).\n"
      ]
    },
    {
      "metadata": {
        "id": "Rp6EfEr3pvCv",
        "colab_type": "code",
        "colab": {}
      },
      "cell_type": "code",
      "source": [
        "import sqlite3\n",
        "\n",
        "db_filename = 'S2.db'\n",
        "conn = sqlite3.connect(db_filename, timeout=10)\n",
        "\n",
        "c = conn.cursor()"
      ],
      "execution_count": 0,
      "outputs": []
    },
    {
      "metadata": {
        "id": "59VBEP02a9U4",
        "colab_type": "code",
        "colab": {}
      },
      "cell_type": "code",
      "source": [
        "# Costruzione db\n",
        "cmd = 'CREATE TABLE Alloggi (Cliente TEXT, Costo INTEGER)'\n",
        "c.execute(cmd)\n",
        "cmd = 'CREATE TABLE Cibo (Cliente TEXT, Costo INTEGER)'\n",
        "c.execute(cmd)\n",
        "cmd = 'CREATE TABLE Bevande (Cliente TEXT, Costo INTEGER)'\n",
        "c.execute(cmd)\n"
      ],
      "execution_count": 0,
      "outputs": []
    },
    {
      "metadata": {
        "id": "sZnlKQNPbxx6",
        "colab_type": "code",
        "colab": {}
      },
      "cell_type": "code",
      "source": [
        "# popolamento db\n",
        "cmd ='''INSERT INTO Alloggi (Cliente, Costo) \n",
        "        VALUES ('C35', 162)'''\n",
        "c.execute(cmd)\n",
        "c.execute('''SELECT * \n",
        "             FROM Alloggi''')\n",
        "print(c.fetchall())\n",
        "\n",
        "\n",
        "cmd = \"INSERT INTO Cibo (Cliente, Costo) VALUES ('C35', 75)\"\n",
        "c.execute(cmd)\n",
        "cmd = \"INSERT INTO Cibo (Cliente, Costo) VALUES ('C41', 38)\"\n",
        "c.execute(cmd)\n",
        "c.execute('SELECT * FROM Cibo')\n",
        "print(c.fetchall())\n",
        "\n",
        "\n",
        "cmd = \"INSERT INTO Bevande (Cliente, Costo) VALUES ('C41', 7)\"\n",
        "c.execute(cmd)\n",
        "c.execute('SELECT * FROM Bevande')\n",
        "print(c.fetchall())"
      ],
      "execution_count": 0,
      "outputs": []
    },
    {
      "metadata": {
        "id": "MX1B9KRVljC1",
        "colab_type": "text"
      },
      "cell_type": "markdown",
      "source": [
        "# Soluzione 3\n",
        "\n",
        "In questa soluzione c'è una singola tabella,  di nome Costi, che ha una riga per ogni componente di costo, con una relativa colonna che descrive la categoria di quel costo. La tabella ha dunque una prima colonna di nome Cliente (campo di testo), la seconda colonna di nome Categoria (campo di testo) e la terza colonna Costo (campo intero).\n",
        "\n"
      ]
    },
    {
      "metadata": {
        "id": "ie-Z_7r6nbpQ",
        "colab_type": "code",
        "colab": {}
      },
      "cell_type": "code",
      "source": [
        "import sqlite3\n",
        "\n",
        "db_filename = 'S3.db'\n",
        "conn = sqlite3.connect(db_filename, timeout=10)\n",
        "\n",
        "c = conn.cursor()"
      ],
      "execution_count": 0,
      "outputs": []
    },
    {
      "metadata": {
        "id": "7jmfqgaqnr4u",
        "colab_type": "code",
        "colab": {}
      },
      "cell_type": "code",
      "source": [
        "# costruzione db\n",
        "c.execute('''CREATE TABLE Costi (Cliente TEXT,\n",
        "                                 Categoria TEXT, \n",
        "                                 Costo INTEGER)''')\n",
        "conn.commit()"
      ],
      "execution_count": 0,
      "outputs": []
    },
    {
      "metadata": {
        "id": "75GMwb79l6_m",
        "colab_type": "code",
        "colab": {}
      },
      "cell_type": "code",
      "source": [
        "# popolamento db\n",
        "co = [\n",
        "  ('C35', 'Alloggio', 162),\n",
        "  ('C35', 'Cibo', 75),\n",
        "  ('C41', 'Cibo', 38),\n",
        "  ('C41', 'Bevande', 7)\n",
        "]\n",
        "\n",
        "\n",
        "c.executemany('INSERT INTO Costi VALUES (?,?,?)', co)\n",
        "c.execute('SELECT * FROM Costi')\n",
        "print(c.fetchall())"
      ],
      "execution_count": 0,
      "outputs": []
    },
    {
      "metadata": {
        "id": "ZQoG3m4Tn91V",
        "colab_type": "code",
        "colab": {}
      },
      "cell_type": "code",
      "source": [
        "# popolamento db\n",
        "cmd ='''INSERT INTO Costi (Cliente, Categoria, Costo) \n",
        "        VALUES ('C35', 'Alloggi', 162)'''\n",
        "c.execute(cmd)\n",
        "cmd ='''INSERT INTO Costi (Cliente, Categoria, Costo) \n",
        "        VALUES ('C35', 'Cibo', 75)'''\n",
        "c.execute(cmd)\n",
        "cmd ='''INSERT INTO Costi (Cliente, Categoria, Costo) \n",
        "        VALUES ('C41', 'Cibo', 38)'''\n",
        "c.execute(cmd)\n",
        "cmd ='''INSERT INTO Costi (Cliente, Categoria, Costo) \n",
        "        VALUES ('C41', 'Bevande', 7)'''\n",
        "c.execute(cmd)"
      ],
      "execution_count": 0,
      "outputs": []
    },
    {
      "metadata": {
        "id": "nKgEWm-yosI2",
        "colab_type": "code",
        "colab": {}
      },
      "cell_type": "code",
      "source": [
        "c.execute('SELECT * FROM Costi')\n",
        "print(c.fetchall())"
      ],
      "execution_count": 0,
      "outputs": []
    },
    {
      "metadata": {
        "id": "Zt4yDodyaoc8",
        "colab_type": "code",
        "colab": {}
      },
      "cell_type": "code",
      "source": [
        "conn.commit()\n",
        "conn.close()"
      ],
      "execution_count": 0,
      "outputs": []
    }
  ]
}