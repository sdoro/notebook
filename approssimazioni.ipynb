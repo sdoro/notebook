{
  "nbformat": 4,
  "nbformat_minor": 0,
  "metadata": {
    "colab": {
      "name": "approssimazioni.ipynb",
      "version": "0.3.2",
      "provenance": [],
      "collapsed_sections": []
    },
    "kernelspec": {
      "name": "python3",
      "display_name": "Python 3"
    }
  },
  "cells": [
    {
      "cell_type": "markdown",
      "metadata": {
        "id": "-54iuK0hZbax",
        "colab_type": "text"
      },
      "source": [
        "[![Colab](https://colab.research.google.com/assets/colab-badge.svg)](https://colab.research.google.com/github/sdoro/notebooks/blob/master/approssimazioni.ipynb)             [![Binder](http://mybinder.org/badge.svg)](http://mybinder.org/v2/gh/sdoro/notebooks/master?filepath=approssimazioni.ipynb)"
      ]
    },
    {
      "cell_type": "code",
      "metadata": {
        "id": "hQd3kkWdWm47",
        "colab_type": "code",
        "colab": {
          "base_uri": "https://localhost:8080/",
          "height": 221
        },
        "outputId": "aefed118-7958-497d-a0ba-a49a934f4b99"
      },
      "source": [
        "def f(x) :\n",
        "  return (1.-1./(1.+x))*(1.+x)\n",
        "\n",
        "for x in [0.1, 0.01, 0.001, 0.0001, 0.00001, 0.000001, 0.0000001, \\\n",
        "          0.00000001, 0.000000001, 0.0000000001, 0.00000000001, 0.0625] :\n",
        "  #print(\"x: %-35.25f f: %-65.60f\" % (x, f(x)))\n",
        "  print(\"%20s, %-20s\" %(repr(x),repr(f(x))))"
      ],
      "execution_count": 39,
      "outputs": [
        {
          "output_type": "stream",
          "text": [
            "                 0.1, 0.10000000000000005 \n",
            "                0.01, 0.010000000000000009\n",
            "               0.001, 0.000999999999999855\n",
            "              0.0001, 0.0001000000000000166\n",
            "               1e-05, 1.000000000005645e-05\n",
            "               1e-06, 9.99999999938855e-07\n",
            "               1e-07, 1.0000000006637851e-07\n",
            "               1e-08, 9.999999928202986e-09\n",
            "               1e-09, 1.0000000837403711e-09\n",
            "               1e-10, 1.000000082840371e-10\n",
            "               1e-11, 1.000000082750371e-11\n",
            "              0.0625, 0.06250000000000001 \n"
          ],
          "name": "stdout"
        }
      ]
    },
    {
      "cell_type": "code",
      "metadata": {
        "id": "M8Naug_Ea-n_",
        "colab_type": "code",
        "colab": {
          "base_uri": "https://localhost:8080/",
          "height": 88
        },
        "outputId": "67146789-8f48-4f57-8b6d-755d1cc3b8a4"
      },
      "source": [
        "# I numeri in virgola mobile float vanno da\n",
        "# -1.797693134862316e308 a 1.797693134862316e308.\n",
        "print(sys.float_info.min)\n",
        "print(sys.float_info.max)\n",
        "\n",
        "# Il massimo valore rappresentabile dipende dalla piattaforma utilizzata ed è:\n",
        "# accessibile grazie al modulo sys ed alla struttura float_info in particolare \n",
        "import sys\n",
        "print(sys.float_info)\n"
      ],
      "execution_count": 6,
      "outputs": [
        {
          "output_type": "stream",
          "text": [
            "2.2250738585072014e-308\n",
            "1.7976931348623157e+308\n",
            "sys.float_info(max=1.7976931348623157e+308, max_exp=1024, max_10_exp=308, min=2.2250738585072014e-308, min_exp=-1021, min_10_exp=-307, dig=15, mant_dig=53, epsilon=2.220446049250313e-16, radix=2, rounds=1)\n"
          ],
          "name": "stdout"
        }
      ]
    }
  ]
}