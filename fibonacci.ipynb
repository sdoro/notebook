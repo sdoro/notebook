{
  "nbformat": 4,
  "nbformat_minor": 0,
  "metadata": {
    "colab": {
      "name": "fibonacci.ipynb",
      "version": "0.3.2",
      "provenance": [],
      "collapsed_sections": [],
      "include_colab_link": true
    },
    "kernelspec": {
      "name": "python3",
      "display_name": "Python 3"
    }
  },
  "cells": [
    {
      "cell_type": "markdown",
      "metadata": {
        "id": "view-in-github",
        "colab_type": "text"
      },
      "source": [
        "<a href=\"https://colab.research.google.com/github/sdoro/notebooks/blob/master/fibonacci.ipynb\" target=\"_parent\"><img src=\"https://colab.research.google.com/assets/colab-badge.svg\" alt=\"Open In Colab\"/></a>"
      ]
    },
    {
      "metadata": {
        "id": "yH5Ed4gXx-qs",
        "colab_type": "text"
      },
      "cell_type": "markdown",
      "source": [
        "[![Colab](https://colab.research.google.com/assets/colab-badge.svg)](https://colab.research.google.com/github/sdoro/notebooks/blob/master/fibonacci.ipynb)             [![Binder](http://mybinder.org/badge.svg)](http://mybinder.org/v2/gh/sdoro/notebooks/master?filepath=fibonacci.ipynb)\n",
        "\n",
        "\n",
        "from [I Python, You R, We Julia](https://blog.jupyter.org/i-python-you-r-we-julia-baf064ca1fb6)\n",
        "\n",
        "###  The Tail of Fibonacci \n",
        "\n",
        "A famous example of recursion in Computer Science is the Fibonacci series, its ubiquity allows the reader not to focus on the sequence itself but on the environment around it. As a reminder, the Fib sequence is defined with its first two terms being one, then each subsequent term as the sum of the two preceding terms; i.e F(1)= 1, F(2)=1, F(n) = F(n-1)+F(n-2)\n",
        "\n",
        "We can calculate the first few terms: 1, 1, 2, 3, 5, 8 … note that F(5) is a fixed point F(5) = 5, and trust that asymptotically the sequence behaves like exp(n)."
      ]
    },
    {
      "metadata": {
        "id": "6o8zxqzxosfr",
        "colab_type": "code",
        "colab": {}
      },
      "cell_type": "code",
      "source": [
        "def fib(n):\n",
        "    \"\"\"\n",
        "    A simple definition of fibonacci manually unrolled\n",
        "    \"\"\"\n",
        "    if n<2:\n",
        "        return 1\n",
        "    x,y = 1,1\n",
        "    for i in range(n-2):\n",
        "        x,y = y,x+y\n",
        "    return y\n"
      ],
      "execution_count": 0,
      "outputs": []
    },
    {
      "metadata": {
        "id": "2fQ5Pq4_yaHh",
        "colab_type": "text"
      },
      "cell_type": "markdown",
      "source": [
        "We can check that the fib function works correctly.\n",
        "\n"
      ]
    },
    {
      "metadata": {
        "id": "_gw-3f9Dybq8",
        "colab_type": "code",
        "colab": {
          "base_uri": "https://localhost:8080/",
          "height": 34
        },
        "outputId": "450ec5f5-6621-47b7-fefb-ca0422e49f75"
      },
      "cell_type": "code",
      "source": [
        "[fib(i) for i in range(1,10)]"
      ],
      "execution_count": 2,
      "outputs": [
        {
          "output_type": "execute_result",
          "data": {
            "text/plain": [
              "[1, 1, 2, 3, 5, 8, 13, 21, 34]"
            ]
          },
          "metadata": {
            "tags": []
          },
          "execution_count": 2
        }
      ]
    },
    {
      "metadata": {
        "id": "yaRG4D6myhSE",
        "colab_type": "text"
      },
      "cell_type": "markdown",
      "source": [
        "And plot it:"
      ]
    },
    {
      "metadata": {
        "id": "yuJcvpVfyj-A",
        "colab_type": "code",
        "colab": {
          "base_uri": "https://localhost:8080/",
          "height": 345
        },
        "outputId": "2e142f8a-40ba-4ae4-e818-f9b5255f205c"
      },
      "cell_type": "code",
      "source": [
        "%matplotlib inline\n",
        "import numpy as np\n",
        "X = np.arange(1,30)\n",
        "Y = np.array([fib(x) for x in X])\n",
        "import matplotlib.pyplot as plt\n",
        "fig, ax = plt.subplots()\n",
        "ax.scatter(X, Y)\n",
        "ax.set(xlabel='n', ylabel='fib(n)',\n",
        "       title='The Fibonacci sequence grows fast !')"
      ],
      "execution_count": 3,
      "outputs": [
        {
          "output_type": "execute_result",
          "data": {
            "text/plain": [
              "[Text(0,0.5,'fib(n)'),\n",
              " Text(0.5,0,'n'),\n",
              " Text(0.5,1,'The Fibonacci sequence grows fast !')]"
            ]
          },
          "metadata": {
            "tags": []
          },
          "execution_count": 3
        },
        {
          "output_type": "display_data",
          "data": {
            "image/png": "[encoded data removed]",
            "text/plain": [
              "<matplotlib.figure.Figure at 0x7fae96db3550>"
            ]
          },
          "metadata": {
            "tags": []
          }
        }
      ]
    },
    {
      "metadata": {
        "id": "TK-Kxfvbyqqn",
        "colab_type": "text"
      },
      "cell_type": "markdown",
      "source": [
        "As you can see it grows quite quickly, actually it’s exponential. Now let’s see how we can check this exponential behavior using multi-language integration."
      ]
    }
  ]
}