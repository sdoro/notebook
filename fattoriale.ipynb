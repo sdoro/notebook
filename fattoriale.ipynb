{
  "nbformat": 4,
  "nbformat_minor": 0,
  "metadata": {
    "colab": {
      "name": "fattoriale.ipynb",
      "version": "0.3.2",
      "provenance": [],
      "collapsed_sections": []
    },
    "kernelspec": {
      "name": "python3",
      "display_name": "Python 3"
    }
  },
  "cells": [
    {
      "metadata": {
        "id": "2CK7FGEJum7g",
        "colab_type": "text"
      },
      "cell_type": "markdown",
      "source": [
        "[![Colab](https://colab.research.google.com/assets/colab-badge.svg)](https://colab.research.google.com/github/sdoro/notebooks/blob/master/fattoriale.ipynb)   [![Binder](http://mybinder.org/badge.svg)](http://mybinder.org/v2/gh/sdoro/notebooks/master?filepath=fattoriale.ipynb)\n",
        "\n",
        "# Definizione matematica del fattoriale\n",
        "\n",
        "In matematica ([Wikipedia](https://it.wikipedia.org/wiki/Fattoriale)) si definisce fattoriale di un numero naturale $n$￼, indicato con $n!$￼, il prodotto dei numeri interi positivi minori o uguali a tale numero. In formula:\n",
        "\n",
        "$$n! := \\prod_{k=1}^{n} k =  1 \\cdot 2 \\cdot 3 \\cdots (n-1) \\cdot n$$\n",
        "\n",
        "per la convenzione del prodotto vuoto si definisce inoltre $ 0!:=1$.\n",
        "\n",
        "La funzione fattoriale può anche essere definita in modo ricorsivo:\n",
        "\n",
        "\n",
        "\n",
        "$$n!:=\\begin{cases} 1, & \\mbox{se }n\\mbox{ = 0}, \\\\ n \\cdot (n-1)! , & \\mbox{se }n\\mbox{ $\\ge$ 1.}\n",
        "\\end{cases}$$"
      ]
    },
    {
      "metadata": {
        "id": "sg2i8pU-bOxE",
        "colab_type": "text"
      },
      "cell_type": "markdown",
      "source": [
        "### Calcolo del fattoriale in modo iterativo"
      ]
    },
    {
      "metadata": {
        "id": "REC7_N0LbIuL",
        "colab_type": "code",
        "outputId": "b7c00c37-a08f-4926-ff7d-db6a3cacdcc2",
        "colab": {
          "base_uri": "https://localhost:8080/",
          "height": 51
        }
      },
      "cell_type": "code",
      "source": [
        "def fIterativo(n):\n",
        "  fat = n\n",
        "  for i in range(1,n):\n",
        "    fat *= i\n",
        "  return fat\n",
        "\n",
        "# test\n",
        "print(fIterativo(5))\n",
        "print(fIterativo(3))"
      ],
      "execution_count": 0,
      "outputs": [
        {
          "output_type": "stream",
          "text": [
            "120\n",
            "6\n"
          ],
          "name": "stdout"
        }
      ]
    },
    {
      "metadata": {
        "id": "DTD4Qgc7bVfx",
        "colab_type": "text"
      },
      "cell_type": "markdown",
      "source": [
        "### Calcolo del fattoriale in modo ricorsivo"
      ]
    },
    {
      "metadata": {
        "id": "D8JkCa9ybZg0",
        "colab_type": "code",
        "outputId": "f3c19a27-8d26-4c9b-ca50-da311b97defc",
        "colab": {
          "base_uri": "https://localhost:8080/",
          "height": 51
        }
      },
      "cell_type": "code",
      "source": [
        "def fRicorsivo(n):\n",
        "  if n == 0:\n",
        "    return 1\n",
        "  else:\n",
        "    return n*fRicorsivo(n-1)\n",
        "\n",
        "# test\n",
        "print(fRicorsivo(5))\n",
        "print(fRicorsivo(3))"
      ],
      "execution_count": 0,
      "outputs": [
        {
          "output_type": "stream",
          "text": [
            "120\n",
            "6\n"
          ],
          "name": "stdout"
        }
      ]
    }
  ]
}