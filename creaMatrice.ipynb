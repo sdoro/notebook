{
  "nbformat": 4,
  "nbformat_minor": 0,
  "metadata": {
    "colab": {
      "name": "creaMatrice.ipynb",
      "version": "0.3.2",
      "provenance": [],
      "collapsed_sections": []
    },
    "kernelspec": {
      "name": "python3",
      "display_name": "Python 3"
    }
  },
  "cells": [
    {
      "metadata": {
        "id": "y4fAZhS35d0-",
        "colab_type": "text"
      },
      "cell_type": "markdown",
      "source": [
        "# Costruzione di matrici\n",
        "\n",
        "Come faccio a costruire una matrice 'da zero' ?\n",
        "\n",
        "Inizializzo la matrice con n elementi (3) che sono i capostipiti delle righe.\n",
        "\n",
        "In un loop successivo costruisco, per ogni riga, le corrispondenti colonne.\n",
        "\n",
        "Costruiamo a scopo dimostrativo la matrice unitaria 3x3:\n",
        "\n",
        "$\\begin{pmatrix}\n",
        " 1 & 0 & 0 \\\\\n",
        " 0 & 1 & 0 \\\\\n",
        " 0 & 0 & 1 \\\\\n",
        " \\end{pmatrix}$"
      ]
    },
    {
      "metadata": {
        "id": "sJ00ij465UrG",
        "colab_type": "code",
        "outputId": "4fafde3b-64e1-4c95-865e-7c6b0559d410",
        "colab": {
          "base_uri": "https://localhost:8080/",
          "height": 34
        }
      },
      "cell_type": "code",
      "source": [
        "# costruisco la matrice con 3 righe (liste) vuote\n",
        "mat = [[],[],[]]\n",
        "\n",
        "# costruisco la matrice identità\n",
        "n = 3\n",
        "for c in range(n):\n",
        "  for r in range(n):\n",
        "    if c == r:\n",
        "      mat[r].append(1)\n",
        "    else:\n",
        "      mat[r].append(0)\n",
        "print(mat)\n"
      ],
      "execution_count": 1,
      "outputs": [
        {
          "output_type": "stream",
          "text": [
            "[[1, 0, 0], [0, 1, 0], [0, 0, 1]]\n"
          ],
          "name": "stdout"
        }
      ]
    },
    {
      "metadata": {
        "id": "vn9wkena-Cqf",
        "colab_type": "text"
      },
      "cell_type": "markdown",
      "source": [
        "Nella versione successiva miglioro la generazione iniziale della matrice attraverso un ciclo for e NON una istruzione che era in realta' costante.\n",
        "Costruiamo a scopo dimostrativo la matrice unitaria 4x4:\n",
        "\n",
        "$\\begin{pmatrix}\n",
        " 1 & 0 & 0 & 0 \\\\\n",
        " 0 & 1 & 0 & 0 \\\\\n",
        " 0 & 0 & 1 & 0 \\\\\n",
        " 0 & 0 & 0 & 1 \\\\\n",
        " \\end{pmatrix}$"
      ]
    },
    {
      "metadata": {
        "id": "qplz2MHy97wh",
        "colab_type": "code",
        "outputId": "f7c6fe85-f3ef-4e29-8785-5861aa72286b",
        "colab": {
          "base_uri": "https://localhost:8080/",
          "height": 34
        }
      },
      "cell_type": "code",
      "source": [
        "# costruisco la matrice vuota\n",
        "mat = []\n",
        "# costruisco la lista delle righe (liste) vuote\n",
        "n = 4\n",
        "for i in range(n):\n",
        "  mat.append([])\n",
        "\n",
        "# costruisco la matrice identità\n",
        "for c in range(n):\n",
        "  for r in range(n):\n",
        "    if c == r:\n",
        "      mat[r].append(1)\n",
        "    else:\n",
        "      mat[r].append(0)\n",
        "print(mat)\n"
      ],
      "execution_count": 2,
      "outputs": [
        {
          "output_type": "stream",
          "text": [
            "[[1, 0, 0, 0], [0, 1, 0, 0], [0, 0, 1, 0], [0, 0, 0, 1]]\n"
          ],
          "name": "stdout"
        }
      ]
    }
  ]
}