{
  "nbformat": 4,
  "nbformat_minor": 0,
  "metadata": {
    "colab": {
      "name": "creaMatrice.ipynb",
      "version": "0.3.2",
      "provenance": [],
      "collapsed_sections": []
    },
    "kernelspec": {
      "name": "python3",
      "display_name": "Python 3"
    }
  },
  "cells": [
    {
      "metadata": {
        "id": "y4fAZhS35d0-",
        "colab_type": "text"
      },
      "cell_type": "markdown",
      "source": [
        "# Costruzione di matrici\n",
        "\n",
        "Come faccio a costruire una matrice 'da zero' ?\n",
        "\n",
        "\n",
        "1.   Inizializzo la matrice con n elementi (ad esempio 3) che sono i capostipiti delle righe.\n",
        "\n",
        "2.   In un loop successivo costruisco, per ogni riga, le corrispondenti colonne.\n",
        "\n",
        "\n",
        "\n",
        "\n",
        "\n",
        "\n",
        "Costruiamo a scopo dimostrativo la matrice unitaria 3x3:\n",
        "\n",
        "$$\\begin{pmatrix}\n",
        " 1 & 0 & 0 \\\\\n",
        " 0 & 1 & 0 \\\\\n",
        " 0 & 0 & 1 \\\\\n",
        " \\end{pmatrix}$$"
      ]
    },
    {
      "metadata": {
        "id": "sJ00ij465UrG",
        "colab_type": "code",
        "outputId": "c583f00e-1de2-4518-a606-b5f3e0531963",
        "colab": {
          "base_uri": "https://localhost:8080/",
          "height": 34
        }
      },
      "cell_type": "code",
      "source": [
        "# costruisco la matrice con 3 righe (liste) vuote\n",
        "mat = [[],[],[]]\n",
        "\n",
        "# costruisco la matrice identità\n",
        "n = 3\n",
        "for c in range(n):\n",
        "  for r in range(n):\n",
        "    if c == r:\n",
        "      mat[c].append(1)\n",
        "    else:\n",
        "      mat[c].append(0)\n",
        "print(mat)\n"
      ],
      "execution_count": 1,
      "outputs": [
        {
          "output_type": "stream",
          "text": [
            "[[1, 0, 0], [0, 1, 0], [0, 0, 1]]\n"
          ],
          "name": "stdout"
        }
      ]
    },
    {
      "metadata": {
        "id": "vn9wkena-Cqf",
        "colab_type": "text"
      },
      "cell_type": "markdown",
      "source": [
        "Nella versione successiva miglioro (generalizzo) la generazione iniziale della matrice attraverso un ciclo *for* e NON come prima con una istruzione che era in realta' una costante.\n",
        "Costruiamo a scopo dimostrativo la matrice unitaria 4x4:\n",
        "\n",
        "$$\\begin{pmatrix}\n",
        " 1 & 0 & 0 & 0 \\\\\n",
        " 0 & 1 & 0 & 0 \\\\\n",
        " 0 & 0 & 1 & 0 \\\\\n",
        " 0 & 0 & 0 & 1 \\\\\n",
        " \\end{pmatrix}$$"
      ]
    },
    {
      "metadata": {
        "id": "qplz2MHy97wh",
        "colab_type": "code",
        "outputId": "2c979261-90dd-4689-fe5d-a1bd53ac84b9",
        "colab": {
          "base_uri": "https://localhost:8080/",
          "height": 34
        }
      },
      "cell_type": "code",
      "source": [
        "# costruisco la matrice vuota\n",
        "mat = []\n",
        "# costruisco la lista delle righe (liste) vuote\n",
        "n = 4\n",
        "for i in range(n):\n",
        "  mat.append([])\n",
        "\n",
        "# costruisco la matrice identità\n",
        "for c in range(n):\n",
        "  for r in range(n):\n",
        "    if c == r:\n",
        "      mat[c].append(1)\n",
        "    else:\n",
        "      mat[c].append(0)\n",
        "print(mat)\n"
      ],
      "execution_count": 2,
      "outputs": [
        {
          "output_type": "stream",
          "text": [
            "[[1, 0, 0, 0], [0, 1, 0, 0], [0, 0, 1, 0], [0, 0, 0, 1]]\n"
          ],
          "name": "stdout"
        }
      ]
    },
    {
      "metadata": {
        "id": "zV78nfZsBrdV",
        "colab_type": "text"
      },
      "cell_type": "markdown",
      "source": [
        "Ottimizzazione (rimuovo il ciclo for in fase di costruzione):"
      ]
    },
    {
      "metadata": {
        "id": "LVUq-UfeBHlK",
        "colab_type": "code",
        "colab": {
          "base_uri": "https://localhost:8080/",
          "height": 34
        },
        "outputId": "e464ec12-20b4-4377-d2b4-bca8a15b0848"
      },
      "cell_type": "code",
      "source": [
        "# costruisco la matrice vuota\n",
        "mat = []\n",
        "\n",
        "n = 4\n",
        "# costruisco la matrice identità\n",
        "for c in range(n):\n",
        "  mat.append([])         # costruisco la riga (lista) vuota\n",
        "  for r in range(n):\n",
        "    if c == r:\n",
        "      mat[c].append(1)\n",
        "    else:\n",
        "      mat[c].append(0)\n",
        "print(mat)\n"
      ],
      "execution_count": 3,
      "outputs": [
        {
          "output_type": "stream",
          "text": [
            "[[1, 0, 0, 0], [0, 1, 0, 0], [0, 0, 1, 0], [0, 0, 0, 1]]\n"
          ],
          "name": "stdout"
        }
      ]
    }
  ]
}