{
  "nbformat": 4,
  "nbformat_minor": 0,
  "metadata": {
    "colab": {
      "name": "boot.ipynb",
      "version": "0.3.2",
      "provenance": [],
      "collapsed_sections": []
    },
    "kernelspec": {
      "name": "python3",
      "display_name": "Python 3"
    }
  },
  "cells": [
    {
      "metadata": {
        "id": "bXa5t3j2F7iZ",
        "colab_type": "text"
      },
      "cell_type": "markdown",
      "source": [
        "# Il processo di boot\n",
        "\n",
        "### Struttura del processo di bootstrap\n",
        "\n",
        "All'accensione di un computer, il processore resta inizialmente sospeso nello stato di RESET dall'hardware che tiene attivo il corrispondente ingresso della CPU finché le tensioni di alimentazione non sono stabili. Appena il segnale di RESET viene disattivato, il processore esegue la sua prima istruzione da una locazione fissa del suo spazio di memoria, a cui di solito corrisponde una ROM o altra memoria non volatile. Si tratta quasi sempre di una istruzione di salto incondizionato (JMP) che porta l'esecuzione al vero inizio del programma di firmware (o del BIOS, se si tratta di un personal IBM compatibile) il quale, successivamente, prende il controllo del computer.\n",
        "\n",
        "Nel caso di dispositivi embedded dotati di semplice firmware, le procedure di bootstrap sono estremamente variabili da caso a caso. Nei personal computer IBM-compatibili, il firmware è costituito dal BIOS, che compie una serie di operazioni ben definite prima di caricare in memoria primaria il sistema operativo e trasferire ad esso il controllo.\n",
        "\n",
        "### Bootstrap\n",
        "\n",
        "Tutti i processori IA32 caricano la prima istruzione dopo il RESET dall'indirizzo esadecimale 0xFFFFFFF0 (i loro predecessori a 16 bit dall'indirizzo 0xFFF0), a cui corrisponde una locazione di memoria non volatile. I passi compiuti dal BIOS sono:\n",
        "\n",
        "1. il POST (Power On Self Test), una serie di test diagnostici per verificare il corretto funzionamento dell'hardware e della scheda madre: se tutti i dispositivi controllati sono funzionanti emette un solo \"beep\" dall'altoparlantino di sistema e prosegue, ma se uno o più dispositivi fra quelli testati non funzionano, l'altoparlante emetterà una serie di bip, lunghi o corti, in numero variabile secondo un codice ben preciso che indica la periferica guasta e il tipo di problema riscontrato.\n",
        "\n",
        "2. cerca una scheda video installata, prima di tutto quella che secondo i suoi dati interni dovrebbe essere presente, ed esegue il POST video che si trova nella ROM interna della scheda video.\n",
        "\n",
        "3. cerca eventuali ROM di altri dispositivi installati e ne esegue le routine POST.\n",
        "\n",
        "4. esegue altri test, come il conteggio della memoria e lo stato della tastiera. Se incontra degli errori, non ricorre al codice sonoro dei bip ma (ora può farlo) mostra un messaggio a video.\n",
        "\n",
        "5. mostra a video una schermata di presentazione, con alcuni dati sull'hardware di quel particolare computer.\n",
        "\n",
        "6. compila l'inventario completo del tipo di hardware installato e delle capacità riscontrate: registra i timing della memoria, i parametri fisici dei dischi rigidi e i modi di accesso che questi supportano, le porte seriali e parallele e le loro velocità, se hanno una FIFO, e altri.\n",
        "\n",
        "7. (se il BIOS supporta il Plug and Play) configura automaticamente i dispositivi Plug and Play presenti e mostra un messaggio a video per ciascuno di essi.\n",
        "\n",
        "8. si interfaccia con la memoria CMOS, contenente i parametri di configurazione suscettibili di modifica, ed esegue le relative istruzioni dopo averne verificato l'integrità attraverso un algoritmo di checksum.\n",
        "\n",
        "9. Infine, cerca una unità a disco da cui caricare il sistema operativo. Se c'è, carica in RAM, all'indirizzo 0000:7C00, il primo settore del disco (cilindro 0, testina 0, settore 1), che corrisponde al master boot record (MBR) e l'esecuzione continua da lì.\n",
        "\n",
        "Da questo punto in poi il processo di bootstrap dipende dal particolare sistema operativo installato.\n",
        "\n",
        "\n",
        "### Il boot manager e il boot loader\n",
        "\n",
        "Se sono installati più sistemi operativi sulla stessa macchina la selezione del sistema operativo desiderato è lasciata all'utente o su impostazione di default, in entrambi i casi attraverso il boot manager.\n",
        "\n",
        "Talvolta quindi il codice nel primo settore di un disco non è quello del sistema operativo, ma quello di questo particolare programma, il cui compito è di mostrare a video un menu da cui l'utente può scegliere quale, fra più sistemi operativi installati, far partire: una volta fatta la scelta un altro programma detto boot loader carica il codice del primo settore del sistema operativo scelto, che inizia l'esecuzione come fosse stato lanciato dallo stesso BIOS.\n",
        "\n",
        "Alcuni sistemi operativi possono ricevere dei parametri di boot: il boot loader può permettere di definire questi parametri sia in un file di configurazione che al momento del boot.\n",
        "\n",
        "\n",
        "### Boot da rete\n",
        "\n",
        "Molte schede di rete ethernet dispongono di una funzionalità denominata Preboot Execution Environment (PXE), che permette di caricare un sistema operativo (o più spesso un boot loader) dalla rete invece che da un disco locale.\n",
        "\n",
        "---\n",
        "Estratto da [WIKIPEDIA](https://it.wikipedia.org/wiki/Boot)\n",
        "\n",
        "Il testo è disponibile secondo la [licenza Creative Commons Attribuzione-Condividi allo stesso modo](https://creativecommons.org/licenses/by-sa/3.0/deed.it); possono applicarsi condizioni ulteriori. Vedi le [condizioni d'uso](https://foundation.wikimedia.org/wiki/Special:MyLanguage/Terms_of_Use/it) per i dettagli."
      ]
    }
  ]
}