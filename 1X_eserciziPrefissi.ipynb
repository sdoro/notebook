{
  "nbformat": 4,
  "nbformat_minor": 0,
  "metadata": {
    "colab": {
      "name": "1X_eserciziPrefissi.ipynb",
      "version": "0.3.2",
      "provenance": [],
      "collapsed_sections": []
    },
    "kernelspec": {
      "name": "python3",
      "display_name": "Python 3"
    }
  },
  "cells": [
    {
      "metadata": {
        "id": "FswgKNDKcsvf",
        "colab_type": "text"
      },
      "cell_type": "markdown",
      "source": [
        "[![Colab](https://colab.research.google.com/assets/colab-badge.svg)](https://colab.research.google.com/github/sdoro/notebooks/blob/master/1X_eserciziPrefissi.ipynb)      [![Binder](http://mybinder.org/badge.svg)](http://mybinder.org/v2/gh/sdoro/notebooks/master?filepath=1X_eserciziPrefissi.ipynb)\n",
        "\n",
        "### Esercizi di calcolo su grandezze in uso in informatica"
      ]
    },
    {
      "metadata": {
        "id": "k1ouMBO8cpgX",
        "colab_type": "code",
        "colab": {
          "base_uri": "https://localhost:8080/",
          "height": 68
        },
        "outputId": "0e45a1fa-3692-43bf-a269-7e6b306a265a"
      },
      "cell_type": "code",
      "source": [
        "# Dato un file da 5GByte, quanti minuti prima una periferica USB 3.0 con \n",
        "# velocità reale di 3.2 Gbps termina il trasferimento rispetto ad una periferica\n",
        "# USB 2.0 con velocità reale di 7Mbps ?\n",
        "kB = 2**10\n",
        "MB = 2**20\n",
        "GB = 2**30\n",
        "TB = 2**40\n",
        "#t_usb3_bsec = 5 * 10**9 * 8 / (3.2 * 10**9)\n",
        "t_usb3_bsec = 5 * GB * 8 / (3.2 * GB)\n",
        "\n",
        "print(t_usb3_bsec, \"secondi, ossia in minuti: \", t_usb3_bsec/60)\n",
        "#t_usb2_bsec = 5 * 10**9 * 8 / (7 * 10**6)\n",
        "t_usb2_bsec = 5 * GB * 8 / (7 * MB)\n",
        "print(t_usb2_bsec, \"secondi, ossia in minuti: \", t_usb2_bsec/60)\n",
        "\n",
        "delta = (t_usb2_bsec - t_usb3_bsec) / 60\n",
        "print(delta, \"minuti prima\")"
      ],
      "execution_count": 1,
      "outputs": [
        {
          "output_type": "stream",
          "text": [
            "12.5 secondi, ossia in minuti:  0.20833333333333334\n",
            "5851.428571428572 secondi, ossia in minuti:  97.52380952380953\n",
            "97.31547619047619 minuti prima\n"
          ],
          "name": "stdout"
        }
      ]
    },
    {
      "metadata": {
        "id": "yTXFySB0g2Th",
        "colab_type": "code",
        "colab": {
          "base_uri": "https://localhost:8080/",
          "height": 68
        },
        "outputId": "52bb5357-1a5d-4f64-d9fc-220281a3f169"
      },
      "cell_type": "code",
      "source": [
        "# Dato un file da 5GByte, quanti secondi prima un hard disk SATA 2 con\n",
        "# velocità 3Gbps termina il trasferimento rispetto ad un hard disk SATA 3 con\n",
        "# velocità 6Gbps ?\n",
        "kB = 2**10\n",
        "MB = 2**20\n",
        "GB = 2**30\n",
        "TB = 2**40\n",
        "t_sata2_bsec = 5 * GB * 8 / (3 * GB)\n",
        "print(t_sata2_bsec, \"secondi\")\n",
        "t_sata3_bsec = 5 * GB * 8 / (6 * GB)\n",
        "print(t_sata3_bsec, \"secondi\")\n",
        "delta = (t_sata2_bsec - t_sata3_bsec)\n",
        "print(delta, \"secondi prima\")\n"
      ],
      "execution_count": 2,
      "outputs": [
        {
          "output_type": "stream",
          "text": [
            "13.333333333333334 secondi\n",
            "6.666666666666667 secondi\n",
            "6.666666666666667 secondi prima\n"
          ],
          "name": "stdout"
        }
      ]
    },
    {
      "metadata": {
        "id": "ARrQFSVFmZsZ",
        "colab_type": "code",
        "colab": {
          "base_uri": "https://localhost:8080/",
          "height": 68
        },
        "outputId": "575a5a12-7f73-42cc-9dd1-321e31c064c9"
      },
      "cell_type": "code",
      "source": [
        "# Dato un file da 5GByte, quanti secondi prima un SSD M.2 x4 con velocità\n",
        "# 32 GBps termina prima rispetto ad un hard disk SATA 3 con velocità di\n",
        "# 6 Gbps ?\n",
        "kB = 2**10\n",
        "MB = 2**20\n",
        "GB = 2**30\n",
        "TB = 2**40\n",
        "t_ssd4_x4 = 5 * GB * 8 / (32 * GB * 8)\n",
        "print(t_ssd4_x4, \"secondi\")\n",
        "t_sata3_bsec = 5 * GB * 8 / (6 * GB)\n",
        "print(t_sata3_bsec, \"secondi\")\n",
        "delta = (t_sata3_bsec - t_ssd4_x4)\n",
        "print(delta, \"secondi prima\")\n"
      ],
      "execution_count": 3,
      "outputs": [
        {
          "output_type": "stream",
          "text": [
            "0.15625 secondi\n",
            "6.666666666666667 secondi\n",
            "6.510416666666667 secondi prima\n"
          ],
          "name": "stdout"
        }
      ]
    }
  ]
}