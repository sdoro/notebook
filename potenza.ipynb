{
  "nbformat": 4,
  "nbformat_minor": 0,
  "metadata": {
    "colab": {
      "name": "potenza.ipynb",
      "version": "0.3.2",
      "provenance": [],
      "collapsed_sections": []
    },
    "kernelspec": {
      "name": "python3",
      "display_name": "Python 3"
    }
  },
  "cells": [
    {
      "metadata": {
        "id": "2CK7FGEJum7g",
        "colab_type": "text"
      },
      "cell_type": "markdown",
      "source": [
        "[![Colab](https://colab.research.google.com/assets/colab-badge.svg)](https://colab.research.google.com/github/sdoro/notebooks/blob/master/potenza.ipynb)   [![Binder](http://mybinder.org/badge.svg)](http://mybinder.org/v2/gh/sdoro/notebooks/master?filepath=potenza.ipynb)\n",
        "\n",
        "# Definizione matematica della potenza\n",
        "\n",
        "In [Wikipedia](https://it.wikipedia.org/wiki/Potenza_(matematica%29) si definisce la potenza come quella operazione che associa a una coppia di numeri $a$ e $n$, detti rispettivamente base ed esponente, il numero dato dal prodotto di $n$ fattori uguali ad $a$:\n",
        "\n",
        "\\begin{matrix}a^{n}:=&\\underbrace {a\\cdot a\\cdot a\\cdots a} \\\\&n{\\mbox{ volte}}\\end{matrix}\n",
        "\n",
        "---\n",
        "\n",
        "La funzione potenza può anche essere definita in modo ricorsivo:\n",
        "\n",
        "\n",
        "\n",
        "$$a^{n}:=\\begin{cases} 1, & \\mbox{se }n\\mbox{ = 0}, \\\\ a \\cdot a^{n-1} , & \\mbox{se }n\\mbox{ $\\gt$ 0.}\n",
        "\\end{cases}$$\n"
      ]
    },
    {
      "metadata": {
        "id": "sg2i8pU-bOxE",
        "colab_type": "text"
      },
      "cell_type": "markdown",
      "source": [
        "### Calcolo della potenza in modo iterativo"
      ]
    },
    {
      "metadata": {
        "id": "REC7_N0LbIuL",
        "colab_type": "code",
        "outputId": "bc227a51-07a4-4157-c24f-42e5a074ed27",
        "colab": {
          "base_uri": "https://localhost:8080/",
          "height": 51
        }
      },
      "cell_type": "code",
      "source": [
        "def pIterativo(a, n):\n",
        "  res = 1\n",
        "  for i in range(n):\n",
        "    res *= a\n",
        "  return res\n",
        "\n",
        "# test\n",
        "print(pIterativo(5, 3))\n",
        "print(pIterativo(3, 4))"
      ],
      "execution_count": 0,
      "outputs": [
        {
          "output_type": "stream",
          "text": [
            "125\n",
            "81\n"
          ],
          "name": "stdout"
        }
      ]
    },
    {
      "metadata": {
        "id": "DTD4Qgc7bVfx",
        "colab_type": "text"
      },
      "cell_type": "markdown",
      "source": [
        "### Calcolo della potenza in modo ricorsivo"
      ]
    },
    {
      "metadata": {
        "id": "D8JkCa9ybZg0",
        "colab_type": "code",
        "outputId": "ff204085-80a5-4fb1-bc63-d1ed135c97ae",
        "colab": {
          "base_uri": "https://localhost:8080/",
          "height": 51
        }
      },
      "cell_type": "code",
      "source": [
        "def pRicorsivo(a, n):\n",
        "  if n == 0:                        # caso base\n",
        "    return 1\n",
        "  else:\n",
        "    return a * pRicorsivo(a, n-1)   # ricorsione\n",
        "\n",
        "# test\n",
        "print(pRicorsivo(5, 3))\n",
        "print(pRicorsivo(3, 4))"
      ],
      "execution_count": 0,
      "outputs": [
        {
          "output_type": "stream",
          "text": [
            "125\n",
            "81\n"
          ],
          "name": "stdout"
        }
      ]
    }
  ]
}