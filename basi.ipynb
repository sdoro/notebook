{
  "nbformat": 4,
  "nbformat_minor": 0,
  "metadata": {
    "colab": {
      "name": "basi.ipynb",
      "version": "0.3.2",
      "provenance": [],
      "collapsed_sections": []
    },
    "kernelspec": {
      "name": "python3",
      "display_name": "Python 3"
    }
  },
  "cells": [
    {
      "metadata": {
        "id": "5bgUZaH-AcSH",
        "colab_type": "text"
      },
      "cell_type": "markdown",
      "source": [
        "# Conversioni di base\n",
        "\n",
        "### Conversioni da stringa a numero in una base \n",
        "\n",
        "Prendiamo in cosiderazione la costruzione di funzioni che prendono come unico parametro un tipo  **string** che rappresenta il valore da convertire in intero in una data base.\n",
        "Verrà per prima soluzione la proposta di usare la funzione [built-in](https://docs.python.org/3.7/library/functions.html#int) di Python e poi una funzione realizzata per conto nostro.\n"
      ]
    },
    {
      "metadata": {
        "id": "D-VMMk3zINaR",
        "colab_type": "code",
        "colab": {
          "base_uri": "https://localhost:8080/",
          "height": 34
        },
        "outputId": "0522438d-cfd0-435f-b45b-9ab268b3f850"
      },
      "cell_type": "code",
      "source": [
        "# il più ovvio è la chiamata alla funzione int() \n",
        "a = int(\"123\")\n",
        "print(type(a), a)"
      ],
      "execution_count": 1,
      "outputs": [
        {
          "output_type": "stream",
          "text": [
            "<class 'int'> 123\n"
          ],
          "name": "stdout"
        }
      ]
    },
    {
      "metadata": {
        "id": "B3Sn7YUeIi6o",
        "colab_type": "code",
        "colab": {
          "base_uri": "https://localhost:8080/",
          "height": 69
        },
        "outputId": "0368a017-b71b-48bb-f3ff-f2af7aea4b2c"
      },
      "cell_type": "code",
      "source": [
        "# questa è la stessa funzionalità ma realizzata 'da noi'. Notare il parametro di default\n",
        "def myInt (stringa, base = 10):\n",
        "  tmp = 0\n",
        "  for i in range(len(stringa)):\n",
        "    tmp += base**(len(stringa)-i-1) * int(stringa[i])\n",
        "  return tmp\n",
        "\n",
        "a = myInt(\"123\")\n",
        "print(type(a), a)\n",
        "a = myInt(\"123\", 10)\n",
        "print(type(a), a)\n",
        "a = myInt(\"123\", 8)\n",
        "print(type(a), a)"
      ],
      "execution_count": 2,
      "outputs": [
        {
          "output_type": "stream",
          "text": [
            "<class 'int'> 123\n",
            "<class 'int'> 123\n",
            "<class 'int'> 83\n"
          ],
          "name": "stdout"
        }
      ]
    },
    {
      "metadata": {
        "id": "8RLwGDBCH3SO",
        "colab_type": "text"
      },
      "cell_type": "markdown",
      "source": [
        "### Conversioni da decimale in binario e viceversa\n",
        "\n",
        "Prendiamo in cosiderazione la costruzione di funzioni che prendono come unico parametro un **intero** che rappresenta il valore in decimale da convertire in binario.\n",
        "Distingueremo il caso in cui il valore di ritorno sia una stringa o sia un intero."
      ]
    },
    {
      "metadata": {
        "id": "IZ9AifrN6Znq",
        "colab_type": "code",
        "colab": {
          "base_uri": "https://localhost:8080/",
          "height": 52
        },
        "outputId": "5274c270-7dc5-45ef-de00-e021221a90fa"
      },
      "cell_type": "code",
      "source": [
        "# conversione da decimale (come intero) in binario (come stringa)\n",
        "def decimale2binario1 (b10):\n",
        "  b2 = []\n",
        "  while b10 > 0:\n",
        "    if b10 % 2 == 0:\n",
        "      b2.append(0)\n",
        "    else:\n",
        "      b2.append(1)\n",
        "    b10 = int(b10 / 2)\n",
        "\n",
        "  ret = ''\n",
        "  for i in b2:\n",
        "    ret = str(i) + ret\n",
        "  return ret\n",
        "\n",
        "# conversione da decimale (come intero) in binario (come intero)\n",
        "def decimale2binario2 (b10):\n",
        "  b2 = []\n",
        "  while b10 > 0:\n",
        "    if b10 % 2 == 0:\n",
        "      b2.append(0)\n",
        "    else:\n",
        "      b2.append(1)\n",
        "    b10 = int(b10 / 2)\n",
        "\n",
        "  ret = 0\n",
        "  for i in range(len(b2)):\n",
        "    ret += 10**i * b2[i]\n",
        "  return ret\n",
        "\n",
        "\n",
        "a = decimale2binario1(16)\n",
        "print(type(a), a)\n",
        "b = decimale2binario2(16)\n",
        "print(type(b), b)"
      ],
      "execution_count": 38,
      "outputs": [
        {
          "output_type": "stream",
          "text": [
            "<class 'str'> 10000\n",
            "<class 'int'> 10000\n"
          ],
          "name": "stdout"
        }
      ]
    },
    {
      "metadata": {
        "id": "Ln2aNQ-EBkRk",
        "colab_type": "text"
      },
      "cell_type": "markdown",
      "source": [
        "### Conversioni da decimale in binario e viceversa\n",
        "\n",
        "Prendiamo in cosiderazione la costruzione di funzioni che prendono come unico parametro una **stringa** che rappresenta il valore in decimale da convertire in binario.\n",
        "Distingueremo il caso in cui il valore di ritorno sia una stringa o sia un intero."
      ]
    },
    {
      "metadata": {
        "id": "EN85UjsxB553",
        "colab_type": "code",
        "colab": {
          "base_uri": "https://localhost:8080/",
          "height": 52
        },
        "outputId": "a2e487b0-ba0f-406c-855f-7cb94b501827"
      },
      "cell_type": "code",
      "source": [
        "# conversione da decimale (come stringa) in binario (come stringa)\n",
        "def decimale2binario3 (b10):\n",
        "  b10 = int(b10)\n",
        "  b2 = []\n",
        "  while b10 > 0:\n",
        "    if b10 % 2 == 0:\n",
        "      b2.append(0)\n",
        "    else:\n",
        "      b2.append(1)\n",
        "    b10 = int(b10 / 2)\n",
        "\n",
        "  ret = ''\n",
        "  for i in b2:\n",
        "    ret = str(i) + ret\n",
        "  return ret\n",
        "\n",
        "# conversione da decimale (come stringa) in binario (come intero)\n",
        "def decimale2binario4 (b10):\n",
        "  b10 = int(b10)\n",
        "  b2 = []\n",
        "  while b10 > 0:\n",
        "    if b10 % 2 == 0:\n",
        "      b2.append(0)\n",
        "    else:\n",
        "      b2.append(1)\n",
        "    b10 = int(b10 / 2)\n",
        "\n",
        "  ret = 0\n",
        "  for i in range(len(b2)):\n",
        "    ret += 10**i * b2[i]\n",
        "  return ret\n",
        "\n",
        "a = decimale2binario3(\"16\")\n",
        "print(type(a), a)\n",
        "b = decimale2binario4(\"16\")\n",
        "print(type(b), b)"
      ],
      "execution_count": 3,
      "outputs": [
        {
          "output_type": "stream",
          "text": [
            "<class 'str'> 10000\n",
            "<class 'int'> 10000\n"
          ],
          "name": "stdout"
        }
      ]
    }
  ]
}