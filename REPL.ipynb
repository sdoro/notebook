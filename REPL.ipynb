{
  "nbformat": 4,
  "nbformat_minor": 0,
  "metadata": {
    "colab": {
      "name": "REPL.ipynb",
      "version": "0.3.2",
      "provenance": [],
      "collapsed_sections": []
    },
    "kernelspec": {
      "name": "python3",
      "display_name": "Python 3"
    }
  },
  "cells": [
    {
      "metadata": {
        "id": "9J1RoGy8maER",
        "colab_type": "text"
      },
      "cell_type": "markdown",
      "source": [
        "# REPL Read–Eval–Print Loop\n",
        "\n",
        "Da [Wikipedia](https://it.wikipedia.org/wiki/Read%E2%80%93eval%E2%80%93print_loop) (in italiano) leggiamo che:\n",
        "\n",
        "\"A Read–Eval–Print Loop (REPL), noto anche come un interactive toplevel o linguaggio shell, è un ambiente di programmazione semplice e interattivo che accetta input da parte di un singolo utente (vale a dire singole espressioni), li valuta e restituisce il risultato all'utente; un programma scritto in un ambiente REPL viene eseguito a tratti. Il termine è solitamente usato per riferirsi a interfacce di programmazione simili al classico ambiente interattivo della macchina Lisp. Esempi comuni includono shell a riga di comando e ambienti simili per i linguaggi di programmazione ed è una particolare caratteristica dei linguaggi di scripting.\"\n",
        "\n",
        "# REPL.IT\n",
        "\n",
        "Esiste un sito https://repl.it appunto che mette a disposione un ambiente REPL per molti linguaggi come ad esempio python e bash."
      ]
    }
  ]
}