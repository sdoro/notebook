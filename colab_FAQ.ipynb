{
  "nbformat": 4,
  "nbformat_minor": 0,
  "metadata": {
    "colab": {
      "name": "colab_FAQ.ipynb",
      "version": "0.3.2",
      "provenance": [],
      "collapsed_sections": []
    },
    "kernelspec": {
      "name": "python3",
      "display_name": "Python 3"
    }
  },
  "cells": [
    {
      "metadata": {
        "id": "2-7Bp3Zo-tOO",
        "colab_type": "text"
      },
      "cell_type": "markdown",
      "source": [
        "[![Colab](https://colab.research.google.com/assets/colab-badge.svg)](https://colab.research.google.com/github/sdoro/notebooks/blob/master/colab_FAQ.ipynb)\n",
        "\n",
        "\n",
        "# FAQ \n",
        "\n",
        "Elenco di domande frequenti legate all'uso di [colab](https://colab.research.google.com/)\n",
        "\n",
        "---\n",
        "\n",
        "### Un file che ho costruito in precedenza ora non mi è più permesso modificarlo. Cosa posso fare ?\n",
        "\n",
        "Probabilmente utilizzi più account Google e lo hai generato con un account diverso da quello che stai usando in questo momento.\n",
        "\n",
        "---\n",
        "\n",
        "### Quale browser è consigliato ?\n",
        "\n",
        "Per non aver nessun tipo di problema usa [Chrome](https://www.google.com/intl/it_ALL/chrome/) oppure se hai un sistema a 32 bit dove oramai Chrome non è più supportato allora usa [Chromium](https://chromium.woolyss.com/download/it/).\n",
        "\n",
        "---\n",
        "\n",
        "### Ho vari account Google. Come posso selezionare quell'unico da usare con colab ?\n",
        "\n",
        "Apri Chrome in **incognito**. In questo modo non sei autenticato e a questo punto autenticati **SOLO** con l'account scolastico.\n"
      ]
    }
  ]
}