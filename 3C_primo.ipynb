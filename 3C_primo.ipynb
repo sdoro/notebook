{
  "nbformat": 4,
  "nbformat_minor": 0,
  "metadata": {
    "colab": {
      "name": "3C-primo.ipynb",
      "version": "0.3.2",
      "provenance": [],
      "collapsed_sections": [],
      "include_colab_link": true
    },
    "kernelspec": {
      "name": "python3",
      "display_name": "Python 3"
    }
  },
  "cells": [
    {
      "cell_type": "markdown",
      "metadata": {
        "id": "view-in-github",
        "colab_type": "text"
      },
      "source": [
        "[View in Colaboratory](https://colab.research.google.com/github/sdoro/notebook/blob/master/3C_primo.ipynb)"
      ]
    },
    {
      "metadata": {
        "id": "wXl4ml2R-8-W",
        "colab_type": "text"
      },
      "cell_type": "markdown",
      "source": [
        "### Prima lezione in 3C.\n",
        "Introduzione all'ambiente notebook.\n",
        "\n",
        "Come prima operazione occorre loggarsi in Google con l'account istituzionale. In seguito recarsi sul sito https://colab.research.google.com dove abbiamo la possibilità di aprire un notebook già esistente oppure di costruirne uno nuovo (scegliere versione 3).\n",
        "\n",
        "\n",
        "Cos'è un notebook ? è una applicazione web Open Source che mette a disposizione un ambiente di calcolo interattivo in cui si possono combinare codici di calcolo (in python) con testo arricchito da formule e grafici.\n",
        "\n",
        "Ad ogni notebook viene assegnata una macchina virtuale che sarà attivata alla prima esecuzione di una cella di codice.\n"
      ]
    },
    {
      "metadata": {
        "id": "3V_8eYNMBKpW",
        "colab_type": "text"
      },
      "cell_type": "markdown",
      "source": [
        "Il termine Macchina Virtuale (VM) è definito su Wikipedia.\n",
        "\n",
        "[Riportiamo l'estratto base minimo:](https://it.wikipedia.org/wiki/Macchina_virtuale)\n",
        "In informatica il termine macchina virtuale (VM) indica un software che, attraverso un processo di virtualizzazione, crea un ambiente virtuale che emula tipicamente il comportamento di una macchina fisica (PC client o server) grazie all'assegnazione di risorse hardware (porzioni di disco rigido, RAM e risorse di processamento) ed in cui alcune applicazioni possono essere eseguite come se interagissero con tale macchina"
      ]
    },
    {
      "metadata": {
        "id": "wjEzDp-U_Vgm",
        "colab_type": "code",
        "colab": {}
      },
      "cell_type": "code",
      "source": [
        "# commento\n",
        "print(\"Hello notebook\")"
      ],
      "execution_count": 0,
      "outputs": []
    },
    {
      "metadata": {
        "id": "ydEDRTbaEsCA",
        "colab_type": "text"
      },
      "cell_type": "markdown",
      "source": [
        "Iniziamo un discorso sulla efficienza."
      ]
    }
  ]
}