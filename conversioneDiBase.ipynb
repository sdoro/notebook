{
  "nbformat": 4,
  "nbformat_minor": 0,
  "metadata": {
    "colab": {
      "name": "conversioneDiBase.ipynb",
      "version": "0.3.2",
      "provenance": [],
      "collapsed_sections": []
    },
    "kernelspec": {
      "name": "python3",
      "display_name": "Python 3"
    }
  },
  "cells": [
    {
      "metadata": {
        "id": "5bgUZaH-AcSH",
        "colab_type": "text"
      },
      "cell_type": "markdown",
      "source": [
        "# Conversioni di base\n",
        "\n",
        "### Conversioni da stringa a numero in una base \n",
        "\n",
        "Prendiamo in cosiderazione la costruzione di funzioni che prendono come unico parametro un tipo  **string** che rappresenta il valore da convertire in intero in una data base.\n",
        "Verrà per prima soluzione la proposta di usare la funzione [built-in](https://docs.python.org/3.7/library/functions.html#int) di Python e poi una funzione realizzata per conto nostro.\n"
      ]
    },
    {
      "metadata": {
        "id": "D-VMMk3zINaR",
        "colab_type": "code",
        "colab": {
          "base_uri": "https://localhost:8080/",
          "height": 86
        },
        "outputId": "03f53e5e-d46d-4fb8-cf71-79e064105fd6"
      },
      "cell_type": "code",
      "source": [
        "# il più ovvio è la chiamata alla funzione int()\n",
        "N = \"123\"\n",
        "\n",
        "a = int(N)\n",
        "print(type(a))\n",
        "print(N, \" vale: \", a, \"in decimale\")\n",
        "print(N, \" vale: \", int(\"123\", 8), \" in ottale\")\n",
        "\n",
        "N = \"0101000011\"\n",
        "print(N, \" vale: \", int(N, 2), \"in binario\")"
      ],
      "execution_count": 6,
      "outputs": [
        {
          "output_type": "stream",
          "text": [
            "<class 'int'>\n",
            "123  vale:  123 in decimale\n",
            "123  vale:  83  in ottale\n",
            "0101000011  vale:  323 in binario\n"
          ],
          "name": "stdout"
        }
      ]
    },
    {
      "metadata": {
        "id": "B3Sn7YUeIi6o",
        "colab_type": "code",
        "colab": {
          "base_uri": "https://localhost:8080/",
          "height": 69
        },
        "outputId": "f7b16849-4534-4c74-e4e4-03a4e8eb5e11"
      },
      "cell_type": "code",
      "source": [
        "# questa è la stessa funzionalità ma realizzata 'da noi'. Notare il parametro di default\n",
        "def myInt (stringa, base = 10):\n",
        "  tmp = 0\n",
        "  for i in range(len(stringa)):\n",
        "    tmp += base**(len(stringa)-i-1) * int(stringa[i])\n",
        "  return tmp\n",
        "\n",
        "a = myInt(\"123\")\n",
        "print(type(a), a)\n",
        "a = myInt(\"123\", 10)\n",
        "print(type(a), a)\n",
        "a = myInt(\"123\", 8)\n",
        "print(type(a), a)"
      ],
      "execution_count": 7,
      "outputs": [
        {
          "output_type": "stream",
          "text": [
            "<class 'int'> 123\n",
            "<class 'int'> 123\n",
            "<class 'int'> 83\n"
          ],
          "name": "stdout"
        }
      ]
    },
    {
      "metadata": {
        "id": "8RLwGDBCH3SO",
        "colab_type": "text"
      },
      "cell_type": "markdown",
      "source": [
        "### Conversioni da decimale in binario e viceversa\n",
        "\n",
        "Prendiamo in cosiderazione la costruzione di funzioni che prendono come unico parametro un **intero** che rappresenta il valore in decimale da convertire in binario.\n",
        "Distingueremo il caso in cui il valore di ritorno sia una stringa o sia un intero."
      ]
    },
    {
      "metadata": {
        "id": "IZ9AifrN6Znq",
        "colab_type": "code",
        "colab": {
          "base_uri": "https://localhost:8080/",
          "height": 52
        },
        "outputId": "88f08224-5776-4908-c93d-78d780649621"
      },
      "cell_type": "code",
      "source": [
        "# conversione da decimale (come intero) in binario (come stringa)\n",
        "def decimale2binario1 (b10):\n",
        "  b2 = []\n",
        "  while b10 > 0:\n",
        "    if b10 % 2 == 0:\n",
        "      b2.append(0)\n",
        "    else:\n",
        "      b2.append(1)\n",
        "    b10 = int(b10 / 2)\n",
        "\n",
        "  ret = ''\n",
        "  for i in b2:\n",
        "    ret = str(i) + ret\n",
        "  return ret\n",
        "\n",
        "# conversione da decimale (come intero) in binario (come intero)\n",
        "def decimale2binario2 (b10):\n",
        "  b2 = []\n",
        "  while b10 > 0:\n",
        "    if b10 % 2 == 0:\n",
        "      b2.append(0)\n",
        "    else:\n",
        "      b2.append(1)\n",
        "    b10 = int(b10 / 2)\n",
        "\n",
        "  ret = 0\n",
        "  for i in range(len(b2)):\n",
        "    ret += 10**i * b2[i]\n",
        "  return ret\n",
        "\n",
        "\n",
        "a = decimale2binario1(16)\n",
        "print(type(a), a)\n",
        "b = decimale2binario2(16)\n",
        "print(type(b), b)"
      ],
      "execution_count": 8,
      "outputs": [
        {
          "output_type": "stream",
          "text": [
            "<class 'str'> 10000\n",
            "<class 'int'> 10000\n"
          ],
          "name": "stdout"
        }
      ]
    },
    {
      "metadata": {
        "id": "Ln2aNQ-EBkRk",
        "colab_type": "text"
      },
      "cell_type": "markdown",
      "source": [
        "### Conversioni da decimale in binario e viceversa\n",
        "\n",
        "Prendiamo in cosiderazione la costruzione di funzioni che prendono come unico parametro una **stringa** che rappresenta il valore in decimale da convertire in binario.\n",
        "Distingueremo il caso in cui il valore di ritorno sia una stringa o sia un intero."
      ]
    },
    {
      "metadata": {
        "id": "EN85UjsxB553",
        "colab_type": "code",
        "colab": {
          "base_uri": "https://localhost:8080/",
          "height": 52
        },
        "outputId": "409c4232-39df-40ec-9785-76c9642efca3"
      },
      "cell_type": "code",
      "source": [
        "# conversione da decimale (come stringa) in binario (come stringa)\n",
        "def decimale2binario3 (b10):\n",
        "  b10 = int(b10)\n",
        "  b2 = []\n",
        "  while b10 > 0:\n",
        "    if b10 % 2 == 0:\n",
        "      b2.append(0)\n",
        "    else:\n",
        "      b2.append(1)\n",
        "    b10 = int(b10 / 2)\n",
        "\n",
        "  ret = ''\n",
        "  for i in b2:\n",
        "    ret = str(i) + ret\n",
        "  return ret\n",
        "\n",
        "# conversione da decimale (come stringa) in binario (come intero)\n",
        "def decimale2binario4 (b10):\n",
        "  b10 = int(b10)\n",
        "  b2 = []\n",
        "  while b10 > 0:\n",
        "    if b10 % 2 == 0:\n",
        "      b2.append(0)\n",
        "    else:\n",
        "      b2.append(1)\n",
        "    b10 = int(b10 / 2)\n",
        "\n",
        "  ret = 0\n",
        "  for i in range(len(b2)):\n",
        "    ret += 10**i * b2[i]\n",
        "  return ret\n",
        "\n",
        "a = decimale2binario3(\"16\")\n",
        "print(type(a), a)\n",
        "b = decimale2binario4(\"16\")\n",
        "print(type(b), b)"
      ],
      "execution_count": 9,
      "outputs": [
        {
          "output_type": "stream",
          "text": [
            "<class 'str'> 10000\n",
            "<class 'int'> 10000\n"
          ],
          "name": "stdout"
        }
      ]
    }
  ]
}