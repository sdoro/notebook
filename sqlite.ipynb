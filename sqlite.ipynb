{
  "nbformat": 4,
  "nbformat_minor": 0,
  "metadata": {
    "colab": {
      "name": "sqlite.ipynb",
      "version": "0.3.2",
      "provenance": [],
      "collapsed_sections": []
    },
    "kernelspec": {
      "name": "python3",
      "display_name": "Python 3"
    }
  },
  "cells": [
    {
      "metadata": {
        "id": "6yvzEYx8Zb9B",
        "colab_type": "code",
        "colab": {}
      },
      "cell_type": "code",
      "source": [
        "# rewrite/create a file\n",
        "open('Sales.db', 'w')\n",
        "from google.colab import files\n",
        "# download a 0 size file\n",
        "files.download('Sales.db')"
      ],
      "execution_count": 0,
      "outputs": []
    },
    {
      "metadata": {
        "id": "dgHdU5VhKIlo",
        "colab_type": "code",
        "colab": {}
      },
      "cell_type": "code",
      "source": [
        "# upload (a previous downloaded file)\n",
        "from google.colab import files\n",
        "uploaded = files.upload()"
      ],
      "execution_count": 0,
      "outputs": []
    },
    {
      "metadata": {
        "id": "aA1Y2y3eQP_u",
        "colab_type": "code",
        "colab": {}
      },
      "cell_type": "code",
      "source": [
        "import sqlite3\n",
        "\n",
        "db_filename = 'Sales.db'\n",
        "conn = sqlite3.connect(db_filename)\n"
      ],
      "execution_count": 0,
      "outputs": []
    },
    {
      "metadata": {
        "id": "oCG5RZEUVmWp",
        "colab_type": "code",
        "colab": {}
      },
      "cell_type": "code",
      "source": [
        "c = conn.cursor()"
      ],
      "execution_count": 0,
      "outputs": []
    },
    {
      "metadata": {
        "id": "qhcf6Z1JV5bA",
        "colab_type": "code",
        "colab": {}
      },
      "cell_type": "code",
      "source": [
        "c.execute('CREATE TABLE Employee (Employee_ID INTEGER PRIMARY KEY, First_Name TEXT, Last_Name TEXT, Department TEXT, City TEXT)')"
      ],
      "execution_count": 0,
      "outputs": []
    },
    {
      "metadata": {
        "id": "sNLIwSnTV-Dh",
        "colab_type": "code",
        "colab": {}
      },
      "cell_type": "code",
      "source": [
        "c.execute(\"INSERT INTO Employee VALUES (10001, 'Daniel', 'Olson', 'Electronics', 'San Francisco')\")"
      ],
      "execution_count": 0,
      "outputs": []
    },
    {
      "metadata": {
        "id": "d45nGJuXWBd_",
        "colab_type": "code",
        "colab": {}
      },
      "cell_type": "code",
      "source": [
        "c.execute('SELECT * FROM Employee')\n",
        "print(c.fetchone())"
      ],
      "execution_count": 0,
      "outputs": []
    },
    {
      "metadata": {
        "id": "zOWefIQdWEGC",
        "colab_type": "code",
        "colab": {}
      },
      "cell_type": "code",
      "source": [
        "employees = [\n",
        "  (10002, 'Nick', 'Markmen', 'Clothes', 'San Francisco'),\n",
        "  (10003, 'Maria', 'Gonzales', 'Electronics', 'San Jose'),\n",
        "  (10004, 'George', 'Wong', 'Clothes', 'San Francisco'),\n",
        "  (10005, 'Stephanie', 'Williams', 'Clothes', 'Oakland'),\n",
        "  (10006, 'Miguel', 'Alva', 'Clothes', 'Oakland'),\n",
        "  (10007, 'Jessica', 'Collins',\t'Cosmetics', 'San Francisco'),\n",
        "  (10008, 'Ted', 'Anderson', 'Clothes', 'Oakland'),\n",
        "  (10009, 'Victoria', 'Garcia', 'Clothes', 'San Jose'),\n",
        "  (10010, 'Jasmine', 'Khan', 'Pharmacy, Health & Beauty',\t'Oakland'),\n",
        "  (10011, 'Adam',\t'Smith', 'Pharmacy, Health & Beauty',\t'San Jose'),\n",
        "  (10012, 'Rachel',\t'Kim', 'Electronics', 'San Jose')\n",
        "]"
      ],
      "execution_count": 0,
      "outputs": []
    },
    {
      "metadata": {
        "id": "HqvtnLNtY6py",
        "colab_type": "code",
        "colab": {}
      },
      "cell_type": "code",
      "source": [
        "c.executemany('INSERT INTO Employee VALUES (?,?,?,?,?)', employees)"
      ],
      "execution_count": 0,
      "outputs": []
    },
    {
      "metadata": {
        "id": "ZS0On2XVY-Vr",
        "colab_type": "code",
        "colab": {}
      },
      "cell_type": "code",
      "source": [
        "c.execute('SELECT * FROM Employee')\n",
        "print(c.fetchall())"
      ],
      "execution_count": 0,
      "outputs": []
    },
    {
      "metadata": {
        "id": "ECUNdBnFcqnA",
        "colab_type": "code",
        "colab": {}
      },
      "cell_type": "code",
      "source": [
        "c.execute('CREATE TABLE Customer \\\n",
        "  (Customer_ID INTEGER PRIMARY KEY, First_Name TEXT, Last_Name TEXT, City TEXT)')"
      ],
      "execution_count": 0,
      "outputs": []
    },
    {
      "metadata": {
        "id": "PSPhESfPcvUL",
        "colab_type": "code",
        "colab": {}
      },
      "cell_type": "code",
      "source": [
        "customers = [\n",
        "  (20001, 'Jack', 'Ward', 'San Jose'),\n",
        "  (20002, 'Steven', 'Martinez', 'San Francisco'),\n",
        "  (20003, 'Jessica', 'Collins', 'San Jose'),\n",
        "  (20004, 'Carie', 'Robinson', 'San Francisco'),\n",
        "  (20005, 'Zack', 'Peterson', 'Oakland'),\n",
        "  (20006, 'Bianca', 'Sanchez', 'San Francisco'),\n",
        "  (20007, 'James', 'Owen', 'Oakland'),\n",
        "  (20008, 'Lisa', 'Smith', 'San Francisco'),\n",
        "  (20009, 'Daniel',\t'Yasukawa', 'Oakland'),\n",
        "  (20010, 'Lauren',\t'Pham', 'San Jose'),\n",
        "  (20011, 'Juan',\t'Diaz', 'Oakland'),\n",
        "  (20012, 'Martha',\t'Diaz', 'San Francisco')\n",
        "]\n",
        "c.executemany('INSERT INTO Customer VALUES (?,?,?,?)', customers)\n"
      ],
      "execution_count": 0,
      "outputs": []
    },
    {
      "metadata": {
        "id": "oGZGYxHOcyjB",
        "colab_type": "code",
        "colab": {}
      },
      "cell_type": "code",
      "source": [
        "c.execute('SELECT * FROM Customer')\n",
        "print(c.fetchall())"
      ],
      "execution_count": 0,
      "outputs": []
    },
    {
      "metadata": {
        "id": "twjtniQNc1k3",
        "colab_type": "code",
        "colab": {}
      },
      "cell_type": "code",
      "source": [
        "c.execute('CREATE TABLE Product \\\n",
        "  (Product_ID INTEGER PRIMARY KEY, Product_Name TEXT, Price INTEGER, \\\n",
        "  Supplier_ID INTEGER, Supplier_Name TEXT)')"
      ],
      "execution_count": 0,
      "outputs": []
    },
    {
      "metadata": {
        "id": "WFERZc36c4BU",
        "colab_type": "code",
        "colab": {}
      },
      "cell_type": "code",
      "source": [
        "products = [\n",
        "  (30001, 'T-Shirt', 12.98, 40004, 'Studio Warehouse'),\n",
        "  (30002, 'Tooth Paste', 4.5, 40002, 'BioMed Inc'),\n",
        "  (30003, 'Speakers', 56.99, 40005, 'CompTech, Inc'),\n",
        "  (30004, 'Pants', 34.35, 40003, 'FashionRUs'),\n",
        "  (30005, 'Microphone', 46.21, 40001, 'Music Vibrations, Inc'),\n",
        "  (30006, 'Tie', 11.09, 40003, 'FashionRUs'),\n",
        "  (30007, 'Chap Stick', 3.67, 40002, 'BioMed Inc'),\n",
        "  (30008, 'Medicine', 23.96, 40002, 'BioMed Inc'),\n",
        "  (30009, 'Headphones', 31.44, 40001, 'Music Vibrations, Inc'),\n",
        "  (30010, 'Lotion',\t16.77, 40002, 'BioMed Inc'),\n",
        "  (30011, 'DVD Player',\t149.99, 40005, 'CompTech, Inc'),\n",
        "  (30012, 'Coat',\t56.33, 40004, 'Studio Warehouse')\n",
        "]\n",
        "c.executemany('INSERT INTO Product VALUES (?,?,?,?,?)', products)\n"
      ],
      "execution_count": 0,
      "outputs": []
    },
    {
      "metadata": {
        "id": "TotiAx9tc8ci",
        "colab_type": "code",
        "colab": {}
      },
      "cell_type": "code",
      "source": [
        "c.execute('CREATE TABLE Orders \\\n",
        "  (Order_ID INTEGER PRIMARY KEY, Customer_ID INTEGER, \\\n",
        "  Product_ID INTEGER, Employee_ID INTEGER, Date TEXT)')\n"
      ],
      "execution_count": 0,
      "outputs": []
    },
    {
      "metadata": {
        "id": "km62wT9Bc_XZ",
        "colab_type": "code",
        "colab": {}
      },
      "cell_type": "code",
      "source": [
        "orders = [\n",
        "  (50001, 20005, 30005, 10001, '17-02-12'),\n",
        "  (50002, 20003, 30008, 10011, '17-09-03'),\n",
        "  (50003, 20010, 30001, 10009, '17-11-23'),\n",
        "  (50004, 20004, 30008, 10010, '17-01-28'),\n",
        "  (50005, 20008, 30012, 10002, '17-08-11'),\n",
        "  (50006, 20011, 30011, 10001, '17-04-13'),\n",
        "  (50007, 20012, 30002, 10007, '17-10-07'),\n",
        "  (50008, 20002, 30001, 10004, '17-03-09'),\n",
        "  (50009, 20001, 30006, 10009, '17-12-26'),\n",
        "]\n",
        "c.executemany('INSERT INTO Orders VALUES (?,?,?,?,?)', orders)\n"
      ],
      "execution_count": 0,
      "outputs": []
    },
    {
      "metadata": {
        "id": "QDCiIvZ4dANM",
        "colab_type": "code",
        "colab": {}
      },
      "cell_type": "code",
      "source": [
        "c.execute('CREATE TABLE Supplier (Supplier_ID INTEGERS PRIMARY KEY, Name TEXT)')"
      ],
      "execution_count": 0,
      "outputs": []
    },
    {
      "metadata": {
        "id": "d-AZScAgdFnL",
        "colab_type": "code",
        "colab": {}
      },
      "cell_type": "code",
      "source": [
        "#c.execute('DROP TABLE Supplier')"
      ],
      "execution_count": 0,
      "outputs": []
    },
    {
      "metadata": {
        "id": "ca_hDht2dNF8",
        "colab_type": "text"
      },
      "cell_type": "markdown",
      "source": [
        "**Alter table:**"
      ]
    },
    {
      "metadata": {
        "id": "yz_TyX0EdHZe",
        "colab_type": "code",
        "colab": {}
      },
      "cell_type": "code",
      "source": [
        "c.execute('ALTER TABLE Supplier ADD City TEXT')"
      ],
      "execution_count": 0,
      "outputs": []
    },
    {
      "metadata": {
        "id": "Tvc8C49vdS95",
        "colab_type": "text"
      },
      "cell_type": "markdown",
      "source": [
        "**Insertion:**"
      ]
    },
    {
      "metadata": {
        "id": "8ll13E1QdWAi",
        "colab_type": "code",
        "colab": {}
      },
      "cell_type": "code",
      "source": [
        "suppliers = [\n",
        "  (40001, 'Music Vibrations, Inc', 'Oakland'),\n",
        "  (40002, 'BioMed Inc', 'San Francisco'),\n",
        "  (40003, 'FashionRUs', 'San Jose'),\n",
        "  (40004, 'Studio Warehouse', 'San Francisco'),\n",
        "  (40005, 'CompTech, Inc', 'San Jose'),\n",
        "]\n",
        "c.executemany('INSERT INTO Supplier VALUES (?,?,?)', suppliers)\n"
      ],
      "execution_count": 0,
      "outputs": []
    },
    {
      "metadata": {
        "id": "HDG-YzN_desv",
        "colab_type": "text"
      },
      "cell_type": "markdown",
      "source": [
        "**View and query table:**"
      ]
    },
    {
      "metadata": {
        "id": "da43lYtzdX0y",
        "colab_type": "code",
        "colab": {}
      },
      "cell_type": "code",
      "source": [
        "c.execute('SELECT * FROM Supplier')\n",
        "print(c.fetchall())"
      ],
      "execution_count": 0,
      "outputs": []
    },
    {
      "metadata": {
        "id": "OHqicZv4doWL",
        "colab_type": "text"
      },
      "cell_type": "markdown",
      "source": [
        "**Update record:**"
      ]
    },
    {
      "metadata": {
        "id": "vItMqfpGdpMS",
        "colab_type": "code",
        "colab": {}
      },
      "cell_type": "code",
      "source": [
        "c.execute(\"INSERT INTO Supplier VALUES (40006, 'Piper', 'Palo Alto')\")"
      ],
      "execution_count": 0,
      "outputs": []
    },
    {
      "metadata": {
        "id": "syPOoHYXdwXa",
        "colab_type": "code",
        "colab": {}
      },
      "cell_type": "code",
      "source": [
        "c.execute(\"UPDATE Supplier SET City = 'San Jose' WHERE Name = 'Piper'\")\n",
        "c.execute('SELECT * FROM Supplier')\n",
        "print(c.fetchall())"
      ],
      "execution_count": 0,
      "outputs": []
    },
    {
      "metadata": {
        "id": "qp56IMBfdrqg",
        "colab_type": "text"
      },
      "cell_type": "markdown",
      "source": [
        "**Delete record:**"
      ]
    },
    {
      "metadata": {
        "id": "_pidQgHld3Da",
        "colab_type": "code",
        "colab": {}
      },
      "cell_type": "code",
      "source": [
        "c.execute(\"DELETE FROM Supplier WHERE Name = 'Piper'\")\n",
        "c.execute('SELECT * FROM Supplier')\n",
        "print(c.fetchall())"
      ],
      "execution_count": 0,
      "outputs": []
    },
    {
      "metadata": {
        "id": "VesJVF2od7sV",
        "colab_type": "text"
      },
      "cell_type": "markdown",
      "source": [
        "**To be continued ... **"
      ]
    }
  ]
}