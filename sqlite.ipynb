{
  "nbformat": 4,
  "nbformat_minor": 0,
  "metadata": {
    "colab": {
      "name": "sqlite.ipynb",
      "version": "0.3.2",
      "provenance": [],
      "collapsed_sections": []
    },
    "kernelspec": {
      "name": "python3",
      "display_name": "Python 3"
    }
  },
  "cells": [
    {
      "metadata": {
        "id": "6yvzEYx8Zb9B",
        "colab_type": "code",
        "colab": {}
      },
      "cell_type": "code",
      "source": [
        "# rewrite/create a file\n",
        "open('Sales.db', 'w')\n",
        "from google.colab import files\n",
        "# download a 0 size file\n",
        "files.download('Sales.db')"
      ],
      "execution_count": 0,
      "outputs": []
    },
    {
      "metadata": {
        "id": "dgHdU5VhKIlo",
        "colab_type": "code",
        "colab": {}
      },
      "cell_type": "code",
      "source": [
        "# upload (a previous downloaded file)\n",
        "from google.colab import files\n",
        "uploaded = files.upload()"
      ],
      "execution_count": 0,
      "outputs": []
    },
    {
      "metadata": {
        "id": "aA1Y2y3eQP_u",
        "colab_type": "code",
        "colab": {}
      },
      "cell_type": "code",
      "source": [
        "import sqlite3\n",
        "\n",
        "db_filename = 'Sales.db'\n",
        "conn = sqlite3.connect(db_filename)\n"
      ],
      "execution_count": 0,
      "outputs": []
    },
    {
      "metadata": {
        "id": "oCG5RZEUVmWp",
        "colab_type": "code",
        "colab": {}
      },
      "cell_type": "code",
      "source": [
        "c = conn.cursor()"
      ],
      "execution_count": 0,
      "outputs": []
    },
    {
      "metadata": {
        "id": "qhcf6Z1JV5bA",
        "colab_type": "code",
        "colab": {}
      },
      "cell_type": "code",
      "source": [
        "c.execute('CREATE TABLE Employee (Employee_ID INTEGER PRIMARY KEY, First_Name TEXT, Last_Name TEXT, Department TEXT, City TEXT)')"
      ],
      "execution_count": 0,
      "outputs": []
    },
    {
      "metadata": {
        "id": "sNLIwSnTV-Dh",
        "colab_type": "code",
        "colab": {}
      },
      "cell_type": "code",
      "source": [
        "c.execute(\"INSERT INTO Employee VALUES (10001, 'Daniel', 'Olson', 'Electronics', 'San Francisco')\")"
      ],
      "execution_count": 0,
      "outputs": []
    },
    {
      "metadata": {
        "id": "d45nGJuXWBd_",
        "colab_type": "code",
        "colab": {}
      },
      "cell_type": "code",
      "source": [
        "c.execute('SELECT * FROM Employee')\n",
        "print(c.fetchone())"
      ],
      "execution_count": 0,
      "outputs": []
    },
    {
      "metadata": {
        "id": "zOWefIQdWEGC",
        "colab_type": "code",
        "colab": {}
      },
      "cell_type": "code",
      "source": [
        "employees = [\n",
        "  (10002, 'Nick', 'Markmen', 'Clothes', 'San Francisco'),\n",
        "  (10003, 'Maria', 'Gonzales', 'Electronics', 'San Jose'),\n",
        "  (10004, 'George', 'Wong', 'Clothes', 'San Francisco'),\n",
        "  (10005, 'Stephanie', 'Williams', 'Clothes', 'Oakland'),\n",
        "  (10006, 'Miguel', 'Alva', 'Clothes', 'Oakland'),\n",
        "  (10007, 'Jessica', 'Collins',\t'Cosmetics', 'San Francisco'),\n",
        "  (10008, 'Ted', 'Anderson', 'Clothes', 'Oakland'),\n",
        "  (10009, 'Victoria', 'Garcia', 'Clothes', 'San Jose'),\n",
        "  (10010, 'Jasmine', 'Khan', 'Pharmacy, Health & Beauty',\t'Oakland'),\n",
        "  (10011, 'Adam',\t'Smith', 'Pharmacy, Health & Beauty',\t'San Jose'),\n",
        "  (10012, 'Rachel',\t'Kim', 'Electronics', 'San Jose')\n",
        "]"
      ],
      "execution_count": 0,
      "outputs": []
    },
    {
      "metadata": {
        "id": "HqvtnLNtY6py",
        "colab_type": "code",
        "colab": {}
      },
      "cell_type": "code",
      "source": [
        "c.executemany('INSERT INTO Employee VALUES (?,?,?,?,?)', employees)"
      ],
      "execution_count": 0,
      "outputs": []
    },
    {
      "metadata": {
        "id": "ZS0On2XVY-Vr",
        "colab_type": "code",
        "colab": {}
      },
      "cell_type": "code",
      "source": [
        "c.execute('SELECT * FROM Employee')\n",
        "print(c.fetchall())"
      ],
      "execution_count": 0,
      "outputs": []
    }
  ]
}