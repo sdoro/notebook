{
  "nbformat": 4,
  "nbformat_minor": 0,
  "metadata": {
    "colab": {
      "name": "supermercato.ipynb",
      "version": "0.3.2",
      "provenance": [],
      "collapsed_sections": []
    },
    "kernelspec": {
      "name": "python3",
      "display_name": "Python 3"
    }
  },
  "cells": [
    {
      "metadata": {
        "id": "EE-gYCUj1W1R",
        "colab_type": "text"
      },
      "cell_type": "markdown",
      "source": [
        "[![Colab](https://colab.research.google.com/assets/colab-badge.svg)](https://colab.research.google.com/github/sdoro/notebooks/blob/master/supermercato.ipynb)   [![Binder](http://mybinder.org/badge.svg)](http://mybinder.org/v2/gh/sdoro/notebooks/master?filepath=supermercato.ipynb)\n",
        "\n",
        "# Esempio\n",
        "\n",
        "Un supermercato registra i prodotti con un id (INTEGER), un nome (TEXT) del prodotto, la quantità (INTEGER) o numero di pezzi e infine il corridoio (INTEGER) dove è presente il prodotto."
      ]
    },
    {
      "metadata": {
        "id": "wC1CMRgLfzJt",
        "colab_type": "text"
      },
      "cell_type": "markdown",
      "source": [
        "### Costruzione del database (Data Definition Language o DDL)\n",
        "\n"
      ]
    },
    {
      "metadata": {
        "id": "6yvzEYx8Zb9B",
        "colab_type": "code",
        "colab": {}
      },
      "cell_type": "code",
      "source": [
        "# to delets sales sql database in case we need to start from scratch\n",
        "import os\n",
        "os.remove('supermercato.db')"
      ],
      "execution_count": 0,
      "outputs": []
    },
    {
      "metadata": {
        "id": "PRy0rXYcSqE-",
        "colab_type": "code",
        "colab": {}
      },
      "cell_type": "code",
      "source": [
        "# to rewrite/create sales sql database in case we need to start from scratch\n",
        "open('supermercato.db', 'w')"
      ],
      "execution_count": 0,
      "outputs": []
    },
    {
      "metadata": {
        "id": "Saat_-35xPbe",
        "colab_type": "code",
        "colab": {}
      },
      "cell_type": "code",
      "source": [
        "# to download a previous file database\n",
        "from google.colab import files\n",
        "files.download('supermercato.db')"
      ],
      "execution_count": 0,
      "outputs": []
    },
    {
      "metadata": {
        "id": "JPvIEFplxTob",
        "colab_type": "code",
        "colab": {}
      },
      "cell_type": "code",
      "source": [
        "# to upload a previous downloaded file\n",
        "from google.colab import files\n",
        "uploaded = files.upload()"
      ],
      "execution_count": 0,
      "outputs": []
    },
    {
      "metadata": {
        "id": "nwmKL2_KtJyI",
        "colab_type": "code",
        "colab": {}
      },
      "cell_type": "code",
      "source": [
        "from google.colab import files\n",
        "# download a 0 size file\n",
        "files.download('supermercato.db')"
      ],
      "execution_count": 0,
      "outputs": []
    },
    {
      "metadata": {
        "id": "O0_xWl85apuV",
        "colab_type": "code",
        "colab": {}
      },
      "cell_type": "code",
      "source": [
        "%%bash\n",
        "ls -l\n",
        "#rm -f supermercato.db\n",
        "#df -h\n",
        "#mv supermercato.db /content/drive/My\\ Drive/Colab\\ Notebooks/data"
      ],
      "execution_count": 0,
      "outputs": []
    },
    {
      "metadata": {
        "id": "aA1Y2y3eQP_u",
        "colab_type": "code",
        "colab": {}
      },
      "cell_type": "code",
      "source": [
        "import sqlite3\n",
        "\n",
        "db_filename = 'supermercato.db'\n",
        "conn = sqlite3.connect(db_filename, timeout=10)\n",
        "\n",
        "c = conn.cursor()\n"
      ],
      "execution_count": 0,
      "outputs": []
    },
    {
      "metadata": {
        "id": "qhcf6Z1JV5bA",
        "colab_type": "code",
        "colab": {}
      },
      "cell_type": "code",
      "source": [
        "# costruzione db\n",
        "c.execute('''CREATE TABLE supermercato (\n",
        "              id INTEGER,\n",
        "              nome TEXT,\n",
        "              quantità TEXT,\n",
        "              corridoio INTEGER,\n",
        "              PRIMARY KEY (id))''')\n",
        "conn.commit()"
      ],
      "execution_count": 0,
      "outputs": []
    },
    {
      "metadata": {
        "id": "sNLIwSnTV-Dh",
        "colab_type": "code",
        "colab": {}
      },
      "cell_type": "code",
      "source": [
        "# popolamento\n",
        "c.execute('''INSERT INTO supermercato VALUES (1, \"Bananas\", 4, 7)''')\n",
        "c.execute('''INSERT INTO supermercato VALUES (2, \"Peanut Butter\", 1, 2)''')\n",
        "c.execute('''INSERT INTO supermercato VALUES (3, \"Dark Chocolate Bars\", 2, 2)''')\n",
        "c.execute('''INSERT INTO supermercato VALUES (4, \"Ice cream\", 1, 12);''')\n",
        "c.execute('''INSERT INTO supermercato VALUES (5, \"Cherries\", 6, 2)''')\n",
        "c.execute('''INSERT INTO supermercato VALUES (6, \"Chocolate syrup\", 1, 4)''')\n",
        "conn.commit()"
      ],
      "execution_count": 0,
      "outputs": []
    },
    {
      "metadata": {
        "id": "nKgEWm-yosI2",
        "colab_type": "code",
        "outputId": "d47d4e17-e9b1-4f37-f31a-6b606be3146d",
        "colab": {
          "base_uri": "https://localhost:8080/",
          "height": 54
        }
      },
      "cell_type": "code",
      "source": [
        "c.execute('SELECT * FROM supermercato')\n",
        "print(c.fetchall())"
      ],
      "execution_count": 4,
      "outputs": [
        {
          "output_type": "stream",
          "text": [
            "[(1, 'Bananas', '4', 7), (2, 'Peanut Butter', '1', 2), (3, 'Dark Chocolate Bars', '2', 2), (4, 'Ice cream', '1', 12), (5, 'Cherries', '6', 2), (6, 'Chocolate syrup', '1', 4)]\n"
          ],
          "name": "stdout"
        }
      ]
    },
    {
      "metadata": {
        "id": "be9JjyFkTjCI",
        "colab_type": "code",
        "colab": {
          "base_uri": "https://localhost:8080/",
          "height": 119
        },
        "outputId": "02f96c84-61bc-4d07-a5b4-130a69e6a3a2"
      },
      "cell_type": "code",
      "source": [
        "# usiamo il for e il print per stampare le righe della tabella\n",
        "c.execute('SELECT * FROM supermercato')\n",
        "for riga in c:\n",
        "  print(\"id: \", riga[0], \", \", end=\"\")\n",
        "  print(\"Nome: \", riga[1], \", \", end= \"\")\n",
        "  print(\"Quantità: \", riga[1], \", \", end= \"\")\n",
        "  print(\"Corridoio: \", riga[2])"
      ],
      "execution_count": 5,
      "outputs": [
        {
          "output_type": "stream",
          "text": [
            "id:  1 , Nome:  Bananas , Quantità:  Bananas , Corridoio:  4\n",
            "id:  2 , Nome:  Peanut Butter , Quantità:  Peanut Butter , Corridoio:  1\n",
            "id:  3 , Nome:  Dark Chocolate Bars , Quantità:  Dark Chocolate Bars , Corridoio:  2\n",
            "id:  4 , Nome:  Ice cream , Quantità:  Ice cream , Corridoio:  1\n",
            "id:  5 , Nome:  Cherries , Quantità:  Cherries , Corridoio:  6\n",
            "id:  6 , Nome:  Chocolate syrup , Quantità:  Chocolate syrup , Corridoio:  1\n"
          ],
          "name": "stdout"
        }
      ]
    },
    {
      "metadata": {
        "id": "WqYhQsJ9KX7z",
        "colab_type": "text"
      },
      "cell_type": "markdown",
      "source": [
        "### ORDER BY and WHERE"
      ]
    },
    {
      "metadata": {
        "id": "WTsWta0jKf8R",
        "colab_type": "code",
        "colab": {
          "base_uri": "https://localhost:8080/",
          "height": 34
        },
        "outputId": "e82fb250-ff49-4223-d29a-9d672c84d87f"
      },
      "cell_type": "code",
      "source": [
        "c.execute('SELECT * FROM supermercato WHERE corridoio > 5 ORDER BY Corridoio')\n",
        "print(c.fetchall())"
      ],
      "execution_count": 6,
      "outputs": [
        {
          "output_type": "stream",
          "text": [
            "[(1, 'Bananas', '4', 7), (4, 'Ice cream', '1', 12)]\n"
          ],
          "name": "stdout"
        }
      ]
    },
    {
      "metadata": {
        "id": "DXs_nQGILC1g",
        "colab_type": "code",
        "colab": {
          "base_uri": "https://localhost:8080/",
          "height": 54
        },
        "outputId": "a7439eb4-8145-413d-fbbb-1ff50ae82cc4"
      },
      "cell_type": "code",
      "source": [
        "c.execute('SELECT * FROM supermercato ORDER BY Corridoio')\n",
        "print(c.fetchall())"
      ],
      "execution_count": 7,
      "outputs": [
        {
          "output_type": "stream",
          "text": [
            "[(2, 'Peanut Butter', '1', 2), (3, 'Dark Chocolate Bars', '2', 2), (5, 'Cherries', '6', 2), (6, 'Chocolate syrup', '1', 4), (1, 'Bananas', '4', 7), (4, 'Ice cream', '1', 12)]\n"
          ],
          "name": "stdout"
        }
      ]
    },
    {
      "metadata": {
        "id": "O_Bh1LaALWDX",
        "colab_type": "text"
      },
      "cell_type": "markdown",
      "source": [
        "### AGGREGATING DATA"
      ]
    },
    {
      "metadata": {
        "id": "0CmbkGPqLZbL",
        "colab_type": "code",
        "colab": {
          "base_uri": "https://localhost:8080/",
          "height": 34
        },
        "outputId": "71926034-0ffe-429e-821e-5ab605acfe56"
      },
      "cell_type": "code",
      "source": [
        "c.execute('SELECT SUM(quantità) FROM supermercato')\n",
        "print(c.fetchall())"
      ],
      "execution_count": 8,
      "outputs": [
        {
          "output_type": "stream",
          "text": [
            "[(15,)]\n"
          ],
          "name": "stdout"
        }
      ]
    },
    {
      "metadata": {
        "id": "qTv1KE8SLk9N",
        "colab_type": "code",
        "colab": {
          "base_uri": "https://localhost:8080/",
          "height": 34
        },
        "outputId": "c6ea63ba-fc3d-4a21-d39c-63b8fd187326"
      },
      "cell_type": "code",
      "source": [
        "c.execute('SELECT MAX(quantità) FROM supermercato')\n",
        "print(c.fetchall())"
      ],
      "execution_count": 9,
      "outputs": [
        {
          "output_type": "stream",
          "text": [
            "[('6',)]\n"
          ],
          "name": "stdout"
        }
      ]
    },
    {
      "metadata": {
        "id": "yBm7FeKCLmKi",
        "colab_type": "code",
        "colab": {
          "base_uri": "https://localhost:8080/",
          "height": 34
        },
        "outputId": "c0896791-0dd3-4b3f-aac7-2467b0b99341"
      },
      "cell_type": "code",
      "source": [
        "c.execute('SELECT SUM(quantità) FROM supermercato GROUP BY corridoio')\n",
        "print(c.fetchall())"
      ],
      "execution_count": 10,
      "outputs": [
        {
          "output_type": "stream",
          "text": [
            "[(9,), (1,), (4,), (1,)]\n"
          ],
          "name": "stdout"
        }
      ]
    },
    {
      "metadata": {
        "id": "txDZHEDKL76W",
        "colab_type": "code",
        "colab": {
          "base_uri": "https://localhost:8080/",
          "height": 34
        },
        "outputId": "eceab502-423f-4e3c-c504-e5d80833ecf1"
      },
      "cell_type": "code",
      "source": [
        "c.execute('SELECT corridoio, SUM(quantità) FROM supermercato GROUP BY corridoio')\n",
        "print(c.fetchall())"
      ],
      "execution_count": 11,
      "outputs": [
        {
          "output_type": "stream",
          "text": [
            "[(2, 9), (4, 1), (7, 4), (12, 1)]\n"
          ],
          "name": "stdout"
        }
      ]
    },
    {
      "metadata": {
        "id": "Zt4yDodyaoc8",
        "colab_type": "code",
        "colab": {}
      },
      "cell_type": "code",
      "source": [
        "conn.commit()\n",
        "conn.close()"
      ],
      "execution_count": 0,
      "outputs": []
    }
  ]
}