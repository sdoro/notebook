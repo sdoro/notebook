{
  "nbformat": 4,
  "nbformat_minor": 0,
  "metadata": {
    "colab": {
      "name": "supermercato.ipynb",
      "version": "0.3.2",
      "provenance": [],
      "collapsed_sections": []
    },
    "kernelspec": {
      "name": "python3",
      "display_name": "Python 3"
    }
  },
  "cells": [
    {
      "metadata": {
        "id": "EE-gYCUj1W1R",
        "colab_type": "text"
      },
      "cell_type": "markdown",
      "source": [
        "[![Colab](https://colab.research.google.com/assets/colab-badge.svg)](https://colab.research.google.com/github/sdoro/notebooks/blob/master/supermercato.ipynb)   [![Binder](http://mybinder.org/badge.svg)](http://mybinder.org/v2/gh/sdoro/notebooks/master?filepath=supermercato.ipynb)\n",
        "\n",
        "# Esempio\n",
        "\n",
        "Un supermercato registra i prodotti con un id (INTEGER), un nome (TEXT) del prodotto, la quantità (INTEGER) o numero di pezzi e infine il corridoio (INTEGER) dove è presente il prodotto."
      ]
    },
    {
      "metadata": {
        "id": "wC1CMRgLfzJt",
        "colab_type": "text"
      },
      "cell_type": "markdown",
      "source": [
        "### Costruzione del database (Data Definition Language o DDL)\n",
        "\n"
      ]
    },
    {
      "metadata": {
        "id": "6yvzEYx8Zb9B",
        "colab_type": "code",
        "colab": {}
      },
      "cell_type": "code",
      "source": [
        "# to delets sales sql database in case we need to start from scratch\n",
        "import os\n",
        "os.remove('supermercato.db')"
      ],
      "execution_count": 0,
      "outputs": []
    },
    {
      "metadata": {
        "id": "PRy0rXYcSqE-",
        "colab_type": "code",
        "colab": {}
      },
      "cell_type": "code",
      "source": [
        "# to rewrite/create sales sql database in case we need to start from scratch\n",
        "open('supermercato.db', 'w')"
      ],
      "execution_count": 0,
      "outputs": []
    },
    {
      "metadata": {
        "id": "Saat_-35xPbe",
        "colab_type": "code",
        "colab": {}
      },
      "cell_type": "code",
      "source": [
        "# to download a previous file database\n",
        "from google.colab import files\n",
        "files.download('supermercato.db')"
      ],
      "execution_count": 0,
      "outputs": []
    },
    {
      "metadata": {
        "id": "JPvIEFplxTob",
        "colab_type": "code",
        "colab": {}
      },
      "cell_type": "code",
      "source": [
        "# to upload a previous downloaded file\n",
        "from google.colab import files\n",
        "uploaded = files.upload()"
      ],
      "execution_count": 0,
      "outputs": []
    },
    {
      "metadata": {
        "id": "nwmKL2_KtJyI",
        "colab_type": "code",
        "colab": {}
      },
      "cell_type": "code",
      "source": [
        "from google.colab import files\n",
        "# download a 0 size file\n",
        "files.download('supermercato.db')"
      ],
      "execution_count": 0,
      "outputs": []
    },
    {
      "metadata": {
        "id": "O0_xWl85apuV",
        "colab_type": "code",
        "colab": {}
      },
      "cell_type": "code",
      "source": [
        "%%bash\n",
        "ls -l\n",
        "#rm -f supermercato.db\n",
        "#df -h\n",
        "#mv supermercato.db /content/drive/My\\ Drive/Colab\\ Notebooks/data"
      ],
      "execution_count": 0,
      "outputs": []
    },
    {
      "metadata": {
        "id": "aA1Y2y3eQP_u",
        "colab_type": "code",
        "colab": {}
      },
      "cell_type": "code",
      "source": [
        "import sqlite3\n",
        "\n",
        "db_filename = 'supermercato.db'\n",
        "conn = sqlite3.connect(db_filename, timeout=10)\n",
        "\n",
        "c = conn.cursor()\n"
      ],
      "execution_count": 0,
      "outputs": []
    },
    {
      "metadata": {
        "id": "qhcf6Z1JV5bA",
        "colab_type": "code",
        "colab": {}
      },
      "cell_type": "code",
      "source": [
        "# costruzione db\n",
        "c.execute('''CREATE TABLE supermercato (\n",
        "              id INTEGER,\n",
        "              nome TEXT,\n",
        "              quantità TEXT,\n",
        "              corridoio INTEGER,\n",
        "              PRIMARY KEY (id))''')\n",
        "conn.commit()"
      ],
      "execution_count": 0,
      "outputs": []
    },
    {
      "metadata": {
        "id": "sNLIwSnTV-Dh",
        "colab_type": "code",
        "colab": {}
      },
      "cell_type": "code",
      "source": [
        "# popolamento\n",
        "c.execute('''INSERT INTO supermercato VALUES (1, \"Bananas\", 4, 7)''')\n",
        "c.execute('''INSERT INTO supermercato VALUES (2, \"Peanut Butter\", 1, 2)''')\n",
        "c.execute('''INSERT INTO supermercato VALUES (3, \"Dark Chocolate Bars\", 2, 2)''')\n",
        "c.execute('''INSERT INTO supermercato VALUES (4, \"Ice cream\", 1, 12);''')\n",
        "c.execute('''INSERT INTO supermercato VALUES (5, \"Cherries\", 6, 2)''')\n",
        "c.execute('''INSERT INTO supermercato VALUES (6, \"Chocolate syrup\", 1, 4)''')\n",
        "conn.commit()\n",
        "\n",
        "c.execute('''SELECT * \n",
        "             FROM supermercato''')\n",
        "print(c.fetchall())"
      ],
      "execution_count": 0,
      "outputs": []
    },
    {
      "metadata": {
        "id": "nKgEWm-yosI2",
        "colab_type": "code",
        "colab": {}
      },
      "cell_type": "code",
      "source": [
        "c.execute('SELECT * FROM Costi')\n",
        "print(c.fetchall())"
      ],
      "execution_count": 0,
      "outputs": []
    },
    {
      "metadata": {
        "id": "be9JjyFkTjCI",
        "colab_type": "code",
        "colab": {}
      },
      "cell_type": "code",
      "source": [
        "# usiamo il for e il print per stampare le righe della tabella\n",
        "c.execute('SELECT * FROM supermercato')\n",
        "for riga in c:\n",
        "  print(\"id: \", riga[0], \", \", end=\"\")\n",
        "  print(\"Nome: \", riga[1], \", \", end= \"\")\n",
        "  print(\"Quantità: \", riga[1], \", \", end= \"\")\n",
        "  print(\"Corridoio: \", riga[2])"
      ],
      "execution_count": 0,
      "outputs": []
    },
    {
      "metadata": {
        "id": "Zt4yDodyaoc8",
        "colab_type": "code",
        "colab": {}
      },
      "cell_type": "code",
      "source": [
        "conn.commit()\n",
        "conn.close()"
      ],
      "execution_count": 0,
      "outputs": []
    }
  ]
}