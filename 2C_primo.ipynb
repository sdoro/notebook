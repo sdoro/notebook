{
  "nbformat": 4,
  "nbformat_minor": 0,
  "metadata": {
    "colab": {
      "name": "2C-primo.ipynb",
      "version": "0.3.2",
      "provenance": [],
      "collapsed_sections": [],
      "include_colab_link": true
    },
    "kernelspec": {
      "name": "python3",
      "display_name": "Python 3"
    }
  },
  "cells": [
    {
      "cell_type": "markdown",
      "metadata": {
        "id": "view-in-github",
        "colab_type": "text"
      },
      "source": [
        "[View in Colaboratory](https://colab.research.google.com/github/sdoro/notebook/blob/master/2C_primo.ipynb)"
      ]
    },
    {
      "metadata": {
        "id": "kzi9KaZoPeyD",
        "colab_type": "text"
      },
      "cell_type": "markdown",
      "source": [
        "Chapter 8\n",
        "Liste\n",
        "\n",
        "Una lista è una serie ordinata di valori, ognuno identificato da un indice. I valori che fanno parte della lista sono chiamati elementi. Le liste sono simili alle stringhe essendo insiemi ordinati di caratteri, fatta eccezione per il fatto che gli elementi di una lista possono essere di tipo qualsiasi. Liste e stringhe (e altri tipi di dati che si comportano da insiemi ordinati) sono chiamate sequenze. "
      ]
    },
    {
      "metadata": {
        "id": "pwCYxGMIPuku",
        "colab_type": "text"
      },
      "cell_type": "markdown",
      "source": [
        "8.1 Valori della lista\n",
        "\n",
        "Ci sono parecchi modi di creare una lista nuova, e quello più semplice è racchiudere i suoi elementi tra parentesi quadrate ([ e ]): "
      ]
    },
    {
      "metadata": {
        "id": "1S6L7VdTP14W",
        "colab_type": "code",
        "colab": {
          "base_uri": "https://localhost:8080/",
          "height": 34
        },
        "outputId": "605b2986-3137-46ad-d90a-69a7a67d4822"
      },
      "cell_type": "code",
      "source": [
        "# costruisco una lista\n",
        "[10, 20, 30, 40]"
      ],
      "execution_count": 3,
      "outputs": [
        {
          "output_type": "execute_result",
          "data": {
            "text/plain": [
              "[10, 20, 30, 40]"
            ]
          },
          "metadata": {
            "tags": []
          },
          "execution_count": 3
        }
      ]
    },
    {
      "metadata": {
        "id": "On0iRUDTThQ1",
        "colab_type": "text"
      },
      "cell_type": "markdown",
      "source": [
        " Una lista all'interno di un'altra lista è detta lista annidata:"
      ]
    },
    {
      "metadata": {
        "id": "xBr50yFATkOE",
        "colab_type": "code",
        "colab": {
          "base_uri": "https://localhost:8080/",
          "height": 34
        },
        "outputId": "fb6457d8-1d6e-4baa-a9ee-d41917a6062c"
      },
      "cell_type": "code",
      "source": [
        "[\"ciao\", 2.0, 5, [10, 20]] "
      ],
      "execution_count": 6,
      "outputs": [
        {
          "output_type": "execute_result",
          "data": {
            "text/plain": [
              "['ciao', 2.0, 5, [10, 20]]"
            ]
          },
          "metadata": {
            "tags": []
          },
          "execution_count": 6
        }
      ]
    },
    {
      "metadata": {
        "id": "uJ30L9fMVbMq",
        "colab_type": "text"
      },
      "cell_type": "markdown",
      "source": [
        "Sperimentazione di stampa di una lista dapprima usando numeri \"fissi\" e poi utilizzando la funzione len() che fornisce come output la lunghezza."
      ]
    },
    {
      "metadata": {
        "id": "qesgQTOZTq9o",
        "colab_type": "code",
        "colab": {
          "base_uri": "https://localhost:8080/",
          "height": 69
        },
        "outputId": "03d9ca16-81ca-4b9d-e91c-a388ef50d995"
      },
      "cell_type": "code",
      "source": [
        "a = [\"ciao\", 2.0, 5, [10, 20]] \n",
        "print(a[0], \"ultimo elemento:\", a[3])\n",
        "print(len(a))\n",
        "print(a[0], \"ultimo elemento:\", a[len(a) - 1])\n"
      ],
      "execution_count": 9,
      "outputs": [
        {
          "output_type": "stream",
          "text": [
            "ciao ultimo elemento: [10, 20]\n",
            "4\n",
            "ciao ultimo elemento: [10, 20]\n"
          ],
          "name": "stdout"
        }
      ]
    },
    {
      "metadata": {
        "id": "HTHu3_spFdDQ",
        "colab_type": "text"
      },
      "cell_type": "markdown",
      "source": [
        "Ora introduciamo il concetto di ricerca di un elemento attraverso una  metafora usata con lo smarphone: i followers.\n",
        "Pensiamo di realizzare un'applicazione che data una lista di followes deve saper ricavare (stampare) se l'utente è già o meno un follower."
      ]
    },
    {
      "metadata": {
        "id": "-Ps0ngc2Eh3B",
        "colab_type": "code",
        "colab": {
          "base_uri": "https://localhost:8080/",
          "height": 34
        },
        "outputId": "200a5527-b6d9-4fc3-ad80-ca11a6886d41"
      },
      "cell_type": "code",
      "source": [
        "# inizializzazione\n",
        "followers = [ \"tizio\", \"caio\", \"sempronio\", \"pippo\", \"topolino\"]\n",
        "\n",
        "ilSottoscritto =\"caio\"\n",
        "for i in range(len(followers)):\n",
        "  # sarebbe ottimale \"if ilSottoscritto in followers\" ma NON lo usiamo qui\n",
        "  if followers[i] == ilSottoscritto:\n",
        "    print(\"sveglia! sei già follower!\")\n"
      ],
      "execution_count": 3,
      "outputs": [
        {
          "output_type": "stream",
          "text": [
            "sveglia! sei già follower!\n"
          ],
          "name": "stdout"
        }
      ]
    }
  ]
}