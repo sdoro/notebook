{
  "nbformat": 4,
  "nbformat_minor": 0,
  "metadata": {
    "colab": {
      "name": "prime.ipynb",
      "version": "0.3.2",
      "provenance": [],
      "collapsed_sections": []
    },
    "kernelspec": {
      "name": "python3",
      "display_name": "Python 3"
    }
  },
  "cells": [
    {
      "metadata": {
        "id": "pYLCqYcqNi44",
        "colab_type": "text"
      },
      "cell_type": "markdown",
      "source": [
        "[![Colab](https://colab.research.google.com/assets/colab-badge.svg)](https://colab.research.google.com/github/sdoro/notebooks/blob/master/prime.ipynb)   [![Binder](http://mybinder.org/badge.svg)](http://mybinder.org/v2/gh/sdoro/notebooks/master?filepath=prime.ipynb)\n",
        "\n",
        "# Primo utilizzo di colab\n",
        "\n",
        "Per prima cosa lo strumento principale: il browser.\n",
        "Per non incontrare problemi di NESSUN tipo useremo [Chrome](https://www.google.com/chrome/) o se stiamo utilizzando macchine molto vecchie con Sistema Operativo a 32 bit useremo [Chromium](https://chromium.woolyss.com/download/it/).\n",
        "\n"
      ]
    },
    {
      "metadata": {
        "id": "BJ_9MnstQX7Z",
        "colab_type": "text"
      },
      "cell_type": "markdown",
      "source": [
        "### Struttura di Colab\n",
        "\n",
        "Un lavoro in Colab si chiama Notebook e consiste in un insieme di celle che possono essere di tipo codice (CODE) o di tipo testo (TEXT) come questa stessa cella.\n",
        "\n",
        "Nelle celle di tipo testo possiamo mettere le descrizioni, relazioni, ipotesi e diari del nostro studio. Organizzeremo i nostri Notebook in modo appropriato per poter distinguire agilmente un lavoro da un altro.\n",
        "\n",
        "Nelle celle di tipo testo metteremo le istruzioni. Come inizio useremo il sistema per fare calcoli ma è molto più potente di un qualsiasi sistema che avete usato in precedenza!"
      ]
    },
    {
      "metadata": {
        "id": "xa9ziG9VPiCv",
        "colab_type": "text"
      },
      "cell_type": "markdown",
      "source": [
        "### Dove stanno i miei dati\n",
        "\n",
        "I file prodotti sono in una sottocartella del proprio Google Drive di nome \"Colab Notebooks\". Quindi i nostri lavori saranno sempre disponibili in ogni momento che abbiamo la connessione Internet."
      ]
    },
    {
      "metadata": {
        "id": "tiPQ8U6aPPJg",
        "colab_type": "text"
      },
      "cell_type": "markdown",
      "source": [
        "### Iniziamo a usarlo come calcolatrice\n",
        "\n",
        "Concetti fondanti: variabili, costanti, tipi, operatori e stampa."
      ]
    },
    {
      "metadata": {
        "id": "YvBGW5xGMUWS",
        "colab_type": "code",
        "outputId": "f7644932-25db-4a74-b0eb-983ffba22bfd",
        "colab": {
          "base_uri": "https://localhost:8080/",
          "height": 34
        }
      },
      "cell_type": "code",
      "source": [
        "a = 3\n",
        "print(a)"
      ],
      "execution_count": 1,
      "outputs": [
        {
          "output_type": "stream",
          "text": [
            "3\n"
          ],
          "name": "stdout"
        }
      ]
    }
  ]
}