{
  "nbformat": 4,
  "nbformat_minor": 0,
  "metadata": {
    "colab": {
      "name": "magic.ipynb",
      "version": "0.3.2",
      "provenance": [],
      "collapsed_sections": []
    },
    "kernelspec": {
      "name": "python3",
      "display_name": "Python 3"
    }
  },
  "cells": [
    {
      "cell_type": "markdown",
      "metadata": {
        "id": "6cdd_YvHft-9",
        "colab_type": "text"
      },
      "source": [
        "[from](https://github.com/catherinedevlin/ipython-sql)\n",
        "\n",
        "[this example](https://github.com/catherinedevlin/ipython-sql/blob/master/examples/writers.ipynb)\n"
      ]
    },
    {
      "cell_type": "code",
      "metadata": {
        "id": "odTwnLoOeE8F",
        "colab_type": "code",
        "colab": {}
      },
      "source": [
        "%load_ext sql"
      ],
      "execution_count": 0,
      "outputs": []
    },
    {
      "cell_type": "code",
      "metadata": {
        "id": "lfyygBZbeKkP",
        "colab_type": "code",
        "outputId": "7c0aa88e-87fc-4103-aa49-8bdd01751a3c",
        "colab": {
          "base_uri": "https://localhost:8080/",
          "height": 34
        }
      },
      "source": [
        "%sql sqlite://"
      ],
      "execution_count": 0,
      "outputs": [
        {
          "output_type": "execute_result",
          "data": {
            "text/plain": [
              "'Connected: @None'"
            ]
          },
          "metadata": {
            "tags": []
          },
          "execution_count": 5
        }
      ]
    },
    {
      "cell_type": "code",
      "metadata": {
        "id": "ufkB8SjFeQXT",
        "colab_type": "code",
        "outputId": "352c33c2-76c4-47a0-cefc-482ccea1fa55",
        "colab": {
          "base_uri": "https://localhost:8080/",
          "height": 102
        }
      },
      "source": [
        "%%sql\n",
        "CREATE TABLE writer (first_name, last_name, year_of_death);\n",
        "INSERT INTO writer VALUES ('William', 'Shakespeare', 1616);\n",
        "INSERT INTO writer VALUES ('Bertold', 'Brecht', 1956);"
      ],
      "execution_count": 0,
      "outputs": [
        {
          "output_type": "stream",
          "text": [
            " * sqlite://\n",
            "Done.\n",
            "1 rows affected.\n",
            "1 rows affected.\n"
          ],
          "name": "stdout"
        },
        {
          "output_type": "execute_result",
          "data": {
            "text/plain": [
              "[]"
            ]
          },
          "metadata": {
            "tags": []
          },
          "execution_count": 6
        }
      ]
    },
    {
      "cell_type": "code",
      "metadata": {
        "id": "nTzuEl-qfAjB",
        "colab_type": "code",
        "outputId": "67f6f534-6312-4b60-f3d7-cc435fd6725a",
        "colab": {
          "base_uri": "https://localhost:8080/",
          "height": 116
        }
      },
      "source": [
        "%sql select * from writer"
      ],
      "execution_count": 0,
      "outputs": [
        {
          "output_type": "stream",
          "text": [
            " * sqlite://\n",
            "Done.\n"
          ],
          "name": "stdout"
        },
        {
          "output_type": "execute_result",
          "data": {
            "text/html": [
              "<table>\n",
              "    <tr>\n",
              "        <th>first_name</th>\n",
              "        <th>last_name</th>\n",
              "        <th>year_of_death</th>\n",
              "    </tr>\n",
              "    <tr>\n",
              "        <td>William</td>\n",
              "        <td>Shakespeare</td>\n",
              "        <td>1616</td>\n",
              "    </tr>\n",
              "    <tr>\n",
              "        <td>Bertold</td>\n",
              "        <td>Brecht</td>\n",
              "        <td>1956</td>\n",
              "    </tr>\n",
              "</table>"
            ],
            "text/plain": [
              "[('William', 'Shakespeare', 1616), ('Bertold', 'Brecht', 1956)]"
            ]
          },
          "metadata": {
            "tags": []
          },
          "execution_count": 7
        }
      ]
    }
  ]
}