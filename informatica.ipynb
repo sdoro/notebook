{
  "nbformat": 4,
  "nbformat_minor": 0,
  "metadata": {
    "colab": {
      "name": "informatica.ipynb",
      "version": "0.3.2",
      "provenance": [],
      "collapsed_sections": []
    },
    "kernelspec": {
      "name": "python3",
      "display_name": "Python 3"
    }
  },
  "cells": [
    {
      "metadata": {
        "id": "v0KDU8gcdoYw",
        "colab_type": "text"
      },
      "cell_type": "markdown",
      "source": [
        "### L'informatica e i suoi strumenti\n",
        "\n",
        "L'unità 1 del libro descrive i seguenti concetti che è bene conoscere per superare la prova ma anche per essere un bravo cittadino digitale. All'inizio delle lezioni è bene domandare quello che non è chiaro.\n",
        "\n",
        "* definizione ed elenco di almeno 3 social network\n",
        "* digital divide\n",
        "* FOMO\n",
        "* informatica\n",
        "*telematica\n",
        "* software\n",
        "* hardware\n",
        "* firmware\n",
        "* ROM\n",
        "* definizione di computer\n",
        "* definizione di programma\n",
        "* linguaggio macchina\n",
        "* computer general purpose\n",
        "* supercomputer\n",
        "* personal computer\n",
        "* varie tipologie di pc\n",
        "* componenti principali all'interno del computer\n",
        "* schema di John von Neumann\n",
        "* funzionalità delle componenti del precedente schema\n",
        "* bus\n",
        "* CPU e schema interno\n",
        "* nomi principali di CPU intel\n",
        "* la memoria centrale, la cache e i registri\n",
        "* [byte](https://it.wikipedia.org/wiki/Byte) e bit\n",
        "* unità di misura di dimensione: conversioni\n",
        "* [DDR](https://it.wikipedia.org/wiki/DDR_SDRAM), ROM e BIOS\n",
        "* scheda madre (motherboard), socket, slot chipset\n",
        "* lavorare in sicurezza\n",
        "* data una foto identificare i componenti\n",
        "* dispositivi di input, output e memorie di massa\n",
        "* porte [USB](https://it.wikipedia.org/wiki/USB) ver. 1.0, 2.0, 3.0\n",
        "* porta VGA, DVI e HDMI\n",
        "* tastiera QWERTY\n",
        "* mouse e touchpad, trackball, trackpoint\n",
        "* scanner e risoluzione [dpi](https://it.wikipedia.org/wiki/Punti_per_pollice)\n",
        "* scheda video [GPU](https://it.wikipedia.org/wiki/Graphics_Processing_Unit) e monitor (dimensione, formato e risoluzione)\n",
        "* stampante\n",
        "* la memoria di massa (hard disk e seek, latency e hot swap); le unità SSD ; le pen Drive; le Secure Digital (SD)\n",
        "*  CD ROM e DVD ROM\n"
      ]
    },
    {
      "metadata": {
        "id": "OBDPlxI0qvrr",
        "colab_type": "text"
      },
      "cell_type": "markdown",
      "source": [
        "Alcuni calcoli che utilizzano le [unità di misura](https://it.wikipedia.org/wiki/Prefissi_per_multipli_binari) \"informatiche\""
      ]
    },
    {
      "metadata": {
        "id": "3sMcpspxdnLJ",
        "colab_type": "code",
        "colab": {
          "base_uri": "https://localhost:8080/",
          "height": 34
        },
        "outputId": "da86109f-3956-47d2-d833-a23ffb9fa326"
      },
      "cell_type": "code",
      "source": [
        "# 1,23 TB a quanti Mb corrisponde ?\n",
        "1.23 * 10**6 * 8"
      ],
      "execution_count": 1,
      "outputs": [
        {
          "output_type": "execute_result",
          "data": {
            "text/plain": [
              "9840000.0"
            ]
          },
          "metadata": {
            "tags": []
          },
          "execution_count": 1
        }
      ]
    },
    {
      "metadata": {
        "id": "zgugh1jNrkkJ",
        "colab_type": "code",
        "colab": {
          "base_uri": "https://localhost:8080/",
          "height": 34
        },
        "outputId": "98fed4af-cd8c-4f7a-d23d-39d7602cc848"
      },
      "cell_type": "code",
      "source": [
        "# un sensore trasmette 128 bit ogni secondo. Quanti byte trasmette dopo 30 giorni ?\n",
        "128 / 8 * 60*60*24*30"
      ],
      "execution_count": 2,
      "outputs": [
        {
          "output_type": "execute_result",
          "data": {
            "text/plain": [
              "41472000.0"
            ]
          },
          "metadata": {
            "tags": []
          },
          "execution_count": 2
        }
      ]
    },
    {
      "metadata": {
        "id": "siOGcsmDtO1T",
        "colab_type": "code",
        "colab": {
          "base_uri": "https://localhost:8080/",
          "height": 34
        },
        "outputId": "2df08ce2-6072-47de-c33f-4df30396b473"
      },
      "cell_type": "code",
      "source": [
        "# un pacemaker lancia un segnale ogni secondo composto da 12 byte. Dopo un anno (365 giorni) quanti bit ha trasmesso (espressi in Gb)?\n",
        "12*8 * 365*60*60*24 / 10**9"
      ],
      "execution_count": 3,
      "outputs": [
        {
          "output_type": "execute_result",
          "data": {
            "text/plain": [
              "3.027456"
            ]
          },
          "metadata": {
            "tags": []
          },
          "execution_count": 3
        }
      ]
    },
    {
      "metadata": {
        "id": "MxVkdbxpt8cE",
        "colab_type": "code",
        "colab": {
          "base_uri": "https://localhost:8080/",
          "height": 34
        },
        "outputId": "e04ce776-f725-45b0-f29c-c9b65af77b40"
      },
      "cell_type": "code",
      "source": [
        "# Un hard disk trasferisce dati alla velocità di 500MB/sec. Quanti minuti ci mette a trasferire 1TB ?\n",
        "1000000 / 500 / 60"
      ],
      "execution_count": 4,
      "outputs": [
        {
          "output_type": "execute_result",
          "data": {
            "text/plain": [
              "33.333333333333336"
            ]
          },
          "metadata": {
            "tags": []
          },
          "execution_count": 4
        }
      ]
    }
  ]
}