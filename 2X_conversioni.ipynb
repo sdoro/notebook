{
  "nbformat": 4,
  "nbformat_minor": 0,
  "metadata": {
    "colab": {
      "name": "2X_conversioni.ipynb",
      "version": "0.3.2",
      "provenance": [],
      "collapsed_sections": []
    },
    "kernelspec": {
      "name": "python3",
      "display_name": "Python 3"
    }
  },
  "cells": [
    {
      "metadata": {
        "id": "ND-RUyGIcvM3",
        "colab_type": "text"
      },
      "cell_type": "markdown",
      "source": [
        "[![Colab](https://colab.research.google.com/assets/colab-badge.svg)](https://colab.research.google.com/github/sdoro/notebooks/blob/master/2X_conversioni.ipynb)\n",
        "\n",
        "### Esercizi di calcolo di conversioni\n",
        "\n",
        "Dato un numero e la sua base, convertirlo in decimale. La base di un numero può essere un digit compreso tra 0 e 9 e una lettera compresa tra A e Z. Il valore corrispondente di A è 10, il valore di B è 11 e così via.\n",
        "\n",
        "Scrivere una funzione che converte il numero (fornito come tipo stringa) a decimale (come tipo intero).\n",
        "\n",
        "Esempio: \"1100\" in base = 2 corrisponde 12; \"11A\" in base = 16 corrisponde 282; \"123\" in base = 8 corrisponde 83.\n",
        "\n",
        "Di seguito formula che converte da una base qualsiasi a decimale (dove str è il numero in input come stringa e base è la base:\n",
        "\n",
        "\n",
        "$$ base^0*str[len-1] + base^1*str[len-2] + \\\\ (base)^2*str[len-3] + \\dots + (base)^{len-1}*str[0] $$\n",
        "\n",
        "o capovolta:\n",
        "\n",
        "$$(base)^{len-1}*str[0] + (base)^{len-2}*str[1] + \\dots +\\\\ base^1*str[len-2] + base^0*str[len-1] $$"
      ]
    },
    {
      "metadata": {
        "id": "FSTa-z6mctzJ",
        "colab_type": "code",
        "colab": {
          "base_uri": "https://localhost:8080/",
          "height": 68
        },
        "outputId": "ed88262a-260a-4d43-e76e-e940aa759bae"
      },
      "cell_type": "code",
      "source": [
        "# Ritorna il valore di un carattere\n",
        "#\n",
        "# Per esempio, per '2' ritorna 2. Per 'A' ritorna 10\n",
        "\n",
        "def char2value(c): \n",
        "  if c >= '0' and c <= '9': \n",
        "    return ord(c) - ord('0') \n",
        "  else: \n",
        "    return ord(c) - ord('A') + 10;\n",
        "\n",
        "# test\n",
        "print(char2value(\"B\"))\n",
        "print(char2value(\"Z\"))\n",
        "print(char2value(\"2\"))"
      ],
      "execution_count": 1,
      "outputs": [
        {
          "output_type": "stream",
          "text": [
            "11\n",
            "35\n",
            "2\n"
          ],
          "name": "stdout"
        }
      ]
    },
    {
      "metadata": {
        "id": "En5FUXnClCpg",
        "colab_type": "code",
        "colab": {
          "base_uri": "https://localhost:8080/",
          "height": 34
        },
        "outputId": "59ea85e9-316f-411c-8fd4-c5250b3239ff"
      },
      "cell_type": "code",
      "source": [
        "# Ritorna il valore di un carattere\n",
        "#\n",
        "# Per esempio, per '2' ritorna 2. Per 'A' ritorna 10\n",
        "\n",
        "def char2value(c): \n",
        "  if c >= '0' and c <= '9': \n",
        "    return ord(c) - ord('0') \n",
        "  else: \n",
        "    return ord(c) - ord('A') + 10;\n",
        "\n",
        "# converte un numero espresso in una base in decimale\n",
        "def strBase2Deci(str, base): \n",
        "    lung = len(str) \n",
        "    potenza = 1  # base^0\n",
        "    num = 0\n",
        "    for i in range(lung - 1, -1, -1): \n",
        "        # test correttezza cifra\n",
        "        if char2value(str[i]) >= base: \n",
        "            print('Numero invalido') \n",
        "            return -1\n",
        "        num += char2value(str[i]) * potenza \n",
        "        potenza = potenza * base \n",
        "    return num\n",
        "\n",
        "# test\n",
        "print(strBase2Deci(\"BF\", 16))   # 11*16+15"
      ],
      "execution_count": 2,
      "outputs": [
        {
          "output_type": "stream",
          "text": [
            "191\n"
          ],
          "name": "stdout"
        }
      ]
    },
    {
      "metadata": {
        "id": "j8TZHGXkpD9A",
        "colab_type": "text"
      },
      "cell_type": "markdown",
      "source": [
        "### Convertire un numero decimale in binario\n",
        "\n",
        "Per questa operazione usiamo il metodo delle divisioni successive e poi considerando la sequenza invertita dei resti."
      ]
    },
    {
      "metadata": {
        "id": "S-5TigAM6NPp",
        "colab_type": "code",
        "colab": {
          "base_uri": "https://localhost:8080/",
          "height": 51
        },
        "outputId": "977dc0c8-e82c-4dca-cf60-6c02e0576dcb"
      },
      "cell_type": "code",
      "source": [
        "def dec2binario(n):\n",
        "  ret = ''\n",
        "  while n > 0:\n",
        "    ret = str(n%2) + ret\n",
        "    n = n // 2\n",
        "  return ret\n",
        "\n",
        "# test\n",
        "print(dec2binario(10))\n",
        "print(dec2binario(2047))"
      ],
      "execution_count": 3,
      "outputs": [
        {
          "output_type": "stream",
          "text": [
            "1010\n",
            "11111111111\n"
          ],
          "name": "stdout"
        }
      ]
    },
    {
      "metadata": {
        "id": "QUE1bIHo7RmJ",
        "colab_type": "text"
      },
      "cell_type": "markdown",
      "source": [
        "Scrivere la rappresentazione binaria dei seguenti numeri decimali:\n",
        "1) 30\n",
        "2) 36\n",
        "3) 45\n",
        "4) 54\n",
        "5) 78\n",
        "6) 99\n",
        "7) 100\n",
        "8) 127\n",
        "9) 200\n",
        "10) 255"
      ]
    },
    {
      "metadata": {
        "id": "KQIgPpjR7cFU",
        "colab_type": "code",
        "colab": {
          "base_uri": "https://localhost:8080/",
          "height": 187
        },
        "outputId": "39d88077-07e9-4c35-83a9-cd88d700b7fb"
      },
      "cell_type": "code",
      "source": [
        "print(1, dec2binario(30))\n",
        "print(2, dec2binario(36))\n",
        "print(3, dec2binario(45))\n",
        "print(4, dec2binario(54))\n",
        "print(5, dec2binario(78))\n",
        "print(6, dec2binario(99))\n",
        "print(7, dec2binario(100))\n",
        "print(8, dec2binario(127))\n",
        "print(9, dec2binario(200))\n",
        "print(10, dec2binario(255))"
      ],
      "execution_count": 4,
      "outputs": [
        {
          "output_type": "stream",
          "text": [
            "1 11110\n",
            "2 100100\n",
            "3 101101\n",
            "4 110110\n",
            "5 1001110\n",
            "6 1100011\n",
            "7 1100100\n",
            "8 1111111\n",
            "9 11001000\n",
            "10 11111111\n"
          ],
          "name": "stdout"
        }
      ]
    },
    {
      "metadata": {
        "id": "NgNH0g838IOK",
        "colab_type": "text"
      },
      "cell_type": "markdown",
      "source": [
        "Scrivere la rappresentazione decimale dei seguenti numeri binari:\n",
        "1) 1010\n",
        "2) 11101\n",
        "3) 110011\n",
        "4) 010101\n",
        "5) 1010101\n",
        "6) 1111000\n",
        "7) 1111111\n",
        "8) 10011001\n",
        "9) 10101010\n",
        "10) 11001101"
      ]
    },
    {
      "metadata": {
        "id": "mKlDe7Jc8PLT",
        "colab_type": "code",
        "colab": {
          "base_uri": "https://localhost:8080/",
          "height": 187
        },
        "outputId": "a02a2c31-96f4-472f-cecd-c2b2186c429c"
      },
      "cell_type": "code",
      "source": [
        "print(1, strBase2Deci(\"1010\", 2))\n",
        "print(2, strBase2Deci(\"11101\", 2))\n",
        "print(3, strBase2Deci(\"110011\", 2))\n",
        "print(4, strBase2Deci(\"010101\", 2))\n",
        "print(5, strBase2Deci(\"1010101\", 2))\n",
        "print(6, strBase2Deci(\"1111000\", 2))\n",
        "print(7, strBase2Deci(\"1111111\", 2))\n",
        "print(8, strBase2Deci(\"10011001\", 2))\n",
        "print(9, strBase2Deci(\"10101010\", 2))\n",
        "print(10, strBase2Deci(\"11001101\", 2))"
      ],
      "execution_count": 5,
      "outputs": [
        {
          "output_type": "stream",
          "text": [
            "1 10\n",
            "2 29\n",
            "3 51\n",
            "4 21\n",
            "5 85\n",
            "6 120\n",
            "7 127\n",
            "8 153\n",
            "9 170\n",
            "10 205\n"
          ],
          "name": "stdout"
        }
      ]
    }
  ]
}