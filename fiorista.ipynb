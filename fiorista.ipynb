{
  "nbformat": 4,
  "nbformat_minor": 0,
  "metadata": {
    "colab": {
      "name": "fiorista.ipynb",
      "version": "0.3.2",
      "provenance": [],
      "collapsed_sections": []
    },
    "kernelspec": {
      "name": "python3",
      "display_name": "Python 3"
    }
  },
  "cells": [
    {
      "metadata": {
        "id": "EE-gYCUj1W1R",
        "colab_type": "text"
      },
      "cell_type": "markdown",
      "source": [
        "[![Colab](https://colab.research.google.com/assets/colab-badge.svg)](https://colab.research.google.com/github/sdoro/notebooks/blob/master/fiorista.ipynb)   [![Binder](http://mybinder.org/badge.svg)](http://mybinder.org/v2/gh/sdoro/notebooks/master?filepath=fiorista.ipynb)\n",
        "\n",
        "# Esercitazione 4X - Novembre 2018\n",
        "\n",
        "Un fiorista registra i prodotti con un id (INTEGER), un nome (TEXT) del fiore, il colore (TEXT), la quantità (INTEGER) o numero di pezzi e infine il prezzo (INTEGER)."
      ]
    },
    {
      "metadata": {
        "id": "wC1CMRgLfzJt",
        "colab_type": "text"
      },
      "cell_type": "markdown",
      "source": [
        "### Costruzione del database (Data Definition Language o DDL)\n",
        "\n"
      ]
    },
    {
      "metadata": {
        "id": "6yvzEYx8Zb9B",
        "colab_type": "code",
        "colab": {}
      },
      "cell_type": "code",
      "source": [
        "# to delete flowers sql database in case we need to start from scratch\n",
        "import os\n",
        "os.remove('fiorista.db')"
      ],
      "execution_count": 0,
      "outputs": []
    },
    {
      "metadata": {
        "id": "PRy0rXYcSqE-",
        "colab_type": "code",
        "colab": {}
      },
      "cell_type": "code",
      "source": [
        "# to rewrite/create flowers sql database in case we need to start from scratch\n",
        "open('supermercato.db', 'w')"
      ],
      "execution_count": 0,
      "outputs": []
    },
    {
      "metadata": {
        "id": "Saat_-35xPbe",
        "colab_type": "code",
        "colab": {}
      },
      "cell_type": "code",
      "source": [
        "# to download a previous file database\n",
        "from google.colab import files\n",
        "files.download('fiorista.db')"
      ],
      "execution_count": 0,
      "outputs": []
    },
    {
      "metadata": {
        "id": "JPvIEFplxTob",
        "colab_type": "code",
        "colab": {}
      },
      "cell_type": "code",
      "source": [
        "# to upload a previous downloaded file\n",
        "from google.colab import files\n",
        "uploaded = files.upload()"
      ],
      "execution_count": 0,
      "outputs": []
    },
    {
      "metadata": {
        "id": "nwmKL2_KtJyI",
        "colab_type": "code",
        "colab": {}
      },
      "cell_type": "code",
      "source": [
        "from google.colab import files\n",
        "# download a 0 size file\n",
        "files.download('fiorista.db')"
      ],
      "execution_count": 0,
      "outputs": []
    },
    {
      "metadata": {
        "id": "O0_xWl85apuV",
        "colab_type": "code",
        "colab": {}
      },
      "cell_type": "code",
      "source": [
        "%%bash\n",
        "ls -l\n",
        "#rm -f fiorista.db\n",
        "#df -h\n",
        "#mv fiorista.db /content/drive/My\\ Drive/Colab\\ Notebooks/data"
      ],
      "execution_count": 0,
      "outputs": []
    },
    {
      "metadata": {
        "id": "aA1Y2y3eQP_u",
        "colab_type": "code",
        "colab": {}
      },
      "cell_type": "code",
      "source": [
        "import sqlite3\n",
        "\n",
        "db_filename = 'fiorista.db'\n",
        "conn = sqlite3.connect(db_filename, timeout=10)\n",
        "\n",
        "c = conn.cursor()\n"
      ],
      "execution_count": 0,
      "outputs": []
    },
    {
      "metadata": {
        "id": "qhcf6Z1JV5bA",
        "colab_type": "code",
        "colab": {}
      },
      "cell_type": "code",
      "source": [
        "# costruzione db\n",
        "c.execute('''\n",
        "            CREATE TABLE fiorista (\n",
        "               id INTEGER,\n",
        "               nome TEXT,\n",
        "               colore TEXT,\n",
        "               quantità INTEGER,\n",
        "               prezzo  INTEGER,\n",
        "               PRIMARY KEY (id)\n",
        "            )\n",
        "          ''')\n",
        "conn.commit()"
      ],
      "execution_count": 0,
      "outputs": []
    },
    {
      "metadata": {
        "id": "sNLIwSnTV-Dh",
        "colab_type": "code",
        "colab": {}
      },
      "cell_type": "code",
      "source": [
        "# popolamento\n",
        "c.execute('''INSERT INTO fiorista VALUES (1, \"Cherry Blossam\", \"pink\", 10, 10)''')\n",
        "c.execute('''INSERT INTO fiorista VALUES (2, \"Tulip\", \"red\", 18, 18)''')\n",
        "c.execute('''INSERT INTO fiorista VALUES (3, \"Lilly of the Valley\", \"white\", 10, 12)''')\n",
        "c.execute('''INSERT INTO fiorista VALUES (4, \"Rose\", \"yellow\",20, 30)''')\n",
        "c.execute('''INSERT INTO fiorista VALUES (5, \"Clematis\", \"purple\", 15, 15)''')\n",
        "c.execute('''INSERT INTO fiorista VALUES (6, \" Hydrangea\", \"pink\", 20, 16)''')\n",
        "c.execute('''INSERT INTO fiorista VALUES (7, \" Marigold\" , \"red\", 5, 8)''')\n",
        "c.execute('''INSERT INTO fiorista VALUES (8, \" Lilac\", \"purple\", 30, 20)''')\n",
        "c.execute('''INSERT INTO fiorista VALUES (9, \" Daisy\", \"white\", 50, 10)''')\n",
        "c.execute('''INSERT INTO fiorista VALUES (10, \" Violet\", \"purple\", 25, 12)''')\n",
        "\n",
        "conn.commit()"
      ],
      "execution_count": 0,
      "outputs": []
    },
    {
      "metadata": {
        "id": "nKgEWm-yosI2",
        "colab_type": "code",
        "outputId": "fec26d3f-b062-4215-ec2c-2a17362e5813",
        "colab": {
          "base_uri": "https://localhost:8080/",
          "height": 54
        }
      },
      "cell_type": "code",
      "source": [
        "c.execute('SELECT * FROM fiorista')\n",
        "print(c.fetchall())"
      ],
      "execution_count": 4,
      "outputs": [
        {
          "output_type": "stream",
          "text": [
            "[(1, 'Cherry Blossam', 'pink', 10, 10), (2, 'Tulip', 'red', 18, 18), (3, 'Lilly of the Valley', 'white', 10, 12), (4, 'Rose', 'yellow', 20, 30), (5, 'Clematis', 'purple', 15, 15), (6, ' Hydrangea', 'pink', 20, 16), (7, ' Marigold', 'red', 5, 8), (8, ' Lilac', 'purple', 30, 20), (9, ' Daisy', 'white', 50, 10), (10, ' Violet', 'purple', 25, 12)]\n"
          ],
          "name": "stdout"
        }
      ]
    },
    {
      "metadata": {
        "id": "be9JjyFkTjCI",
        "colab_type": "code",
        "outputId": "16c870da-aff4-47aa-8686-679277f11b22",
        "colab": {
          "base_uri": "https://localhost:8080/",
          "height": 187
        }
      },
      "cell_type": "code",
      "source": [
        "# usiamo il for e il print per stampare le righe della tabella\n",
        "c.execute('SELECT * FROM fiorista')\n",
        "for riga in c:\n",
        "  print(\"id: \", riga[0], \", \", end=\"\")\n",
        "  print(\"Nome: \", riga[1], \", \", end= \"\")\n",
        "  print(\"Colore: \", riga[2], \", \", end= \"\")\n",
        "  print(\"Quantità: \", riga[3], \", \", end= \"\")\n",
        "  print(\"Prezzo: \", riga[4])"
      ],
      "execution_count": 5,
      "outputs": [
        {
          "output_type": "stream",
          "text": [
            "id:  1 , Nome:  Cherry Blossam , Colore:  pink , Quantità:  10 , Prezzo:  10\n",
            "id:  2 , Nome:  Tulip , Colore:  red , Quantità:  18 , Prezzo:  18\n",
            "id:  3 , Nome:  Lilly of the Valley , Colore:  white , Quantità:  10 , Prezzo:  12\n",
            "id:  4 , Nome:  Rose , Colore:  yellow , Quantità:  20 , Prezzo:  30\n",
            "id:  5 , Nome:  Clematis , Colore:  purple , Quantità:  15 , Prezzo:  15\n",
            "id:  6 , Nome:   Hydrangea , Colore:  pink , Quantità:  20 , Prezzo:  16\n",
            "id:  7 , Nome:   Marigold , Colore:  red , Quantità:  5 , Prezzo:  8\n",
            "id:  8 , Nome:   Lilac , Colore:  purple , Quantità:  30 , Prezzo:  20\n",
            "id:  9 , Nome:   Daisy , Colore:  white , Quantità:  50 , Prezzo:  10\n",
            "id:  10 , Nome:   Violet , Colore:  purple , Quantità:  25 , Prezzo:  12\n"
          ],
          "name": "stdout"
        }
      ]
    },
    {
      "metadata": {
        "id": "WqYhQsJ9KX7z",
        "colab_type": "text"
      },
      "cell_type": "markdown",
      "source": [
        "### 1. Visualizzare tutti i dati immessi"
      ]
    },
    {
      "metadata": {
        "id": "WTsWta0jKf8R",
        "colab_type": "code",
        "outputId": "1039e842-691d-48db-846a-eb837655752f",
        "colab": {
          "base_uri": "https://localhost:8080/",
          "height": 54
        }
      },
      "cell_type": "code",
      "source": [
        "c.execute('SELECT * FROM fiorista')\n",
        "print(c.fetchall())"
      ],
      "execution_count": 6,
      "outputs": [
        {
          "output_type": "stream",
          "text": [
            "[(1, 'Cherry Blossam', 'pink', 10, 10), (2, 'Tulip', 'red', 18, 18), (3, 'Lilly of the Valley', 'white', 10, 12), (4, 'Rose', 'yellow', 20, 30), (5, 'Clematis', 'purple', 15, 15), (6, ' Hydrangea', 'pink', 20, 16), (7, ' Marigold', 'red', 5, 8), (8, ' Lilac', 'purple', 30, 20), (9, ' Daisy', 'white', 50, 10), (10, ' Violet', 'purple', 25, 12)]\n"
          ],
          "name": "stdout"
        }
      ]
    },
    {
      "metadata": {
        "id": "5-mULwuflnIv",
        "colab_type": "text"
      },
      "cell_type": "markdown",
      "source": [
        "### 2. Visualizzare solo tutti i nomi dei fiori"
      ]
    },
    {
      "metadata": {
        "id": "DXs_nQGILC1g",
        "colab_type": "code",
        "outputId": "480ad029-899d-483d-eac4-6062ef2c4d2d",
        "colab": {
          "base_uri": "https://localhost:8080/",
          "height": 54
        }
      },
      "cell_type": "code",
      "source": [
        "c.execute('SELECT nome FROM fiorista ORDER BY nome')\n",
        "print(c.fetchall())"
      ],
      "execution_count": 7,
      "outputs": [
        {
          "output_type": "stream",
          "text": [
            "[(' Daisy',), (' Hydrangea',), (' Lilac',), (' Marigold',), (' Violet',), ('Cherry Blossam',), ('Clematis',), ('Lilly of the Valley',), ('Rose',), ('Tulip',)]\n"
          ],
          "name": "stdout"
        }
      ]
    },
    {
      "metadata": {
        "id": "GyZFlLklmRfo",
        "colab_type": "text"
      },
      "cell_type": "markdown",
      "source": [
        "### 3. Visualizzare solo i prezzi superiori a 10 in ordine crescente"
      ]
    },
    {
      "metadata": {
        "id": "XBGHh-uBmbu-",
        "colab_type": "code",
        "colab": {
          "base_uri": "https://localhost:8080/",
          "height": 34
        },
        "outputId": "ec31b41e-d1ff-4199-ab48-d1b258bed806"
      },
      "cell_type": "code",
      "source": [
        "c.execute('SELECT prezzo FROM fiorista WHERE prezzo > 10 ORDER BY prezzo')\n",
        "print(c.fetchall())"
      ],
      "execution_count": 8,
      "outputs": [
        {
          "output_type": "stream",
          "text": [
            "[(12,), (12,), (15,), (16,), (18,), (20,), (30,)]\n"
          ],
          "name": "stdout"
        }
      ]
    },
    {
      "metadata": {
        "id": "wqZ9ohmCmneU",
        "colab_type": "text"
      },
      "cell_type": "markdown",
      "source": [
        "### 4. Visualizzare la quantità massima presente;"
      ]
    },
    {
      "metadata": {
        "id": "BlLNTcWWmsBu",
        "colab_type": "code",
        "colab": {
          "base_uri": "https://localhost:8080/",
          "height": 34
        },
        "outputId": "768bed2e-a5c1-4034-a816-94e01c6fa5d0"
      },
      "cell_type": "code",
      "source": [
        "c.execute('SELECT MAX(quantità) FROM fiorista')\n",
        "print(c.fetchall())"
      ],
      "execution_count": 9,
      "outputs": [
        {
          "output_type": "stream",
          "text": [
            "[(50,)]\n"
          ],
          "name": "stdout"
        }
      ]
    },
    {
      "metadata": {
        "id": "BSnrcadim0rN",
        "colab_type": "text"
      },
      "cell_type": "markdown",
      "source": [
        "### 5. Visualizzare la somma delle quantità per fascia di prezzo"
      ]
    },
    {
      "metadata": {
        "id": "xh-xE_r9m5gC",
        "colab_type": "code",
        "colab": {
          "base_uri": "https://localhost:8080/",
          "height": 34
        },
        "outputId": "035011aa-4a49-4e40-bd1b-86119291306a"
      },
      "cell_type": "code",
      "source": [
        "c.execute('SELECT prezzo, SUM(quantità) FROM fiorista GROUP BY prezzo')\n",
        "# ci sono due fiori che costano 10 (l'1 e il 9) e 12 (il 3 e il 10)\n",
        "print(c.fetchall())"
      ],
      "execution_count": 10,
      "outputs": [
        {
          "output_type": "stream",
          "text": [
            "[(8, 5), (10, 60), (12, 35), (15, 15), (16, 20), (18, 18), (20, 30), (30, 20)]\n"
          ],
          "name": "stdout"
        }
      ]
    },
    {
      "metadata": {
        "id": "JdaYGcPVnwDN",
        "colab_type": "text"
      },
      "cell_type": "markdown",
      "source": [
        "### 6. Visualizzare tutti i nomi dei fiori che costano più di 15 in ordine di prezzo"
      ]
    },
    {
      "metadata": {
        "id": "84ziHP93n1Dk",
        "colab_type": "code",
        "colab": {
          "base_uri": "https://localhost:8080/",
          "height": 34
        },
        "outputId": "8ab36be9-2114-44c9-b222-a1e0436067f1"
      },
      "cell_type": "code",
      "source": [
        "c.execute('SELECT nome FROM fiorista WHERE prezzo > 15 ORDER BY PREZZO')\n",
        "print(c.fetchall())"
      ],
      "execution_count": 11,
      "outputs": [
        {
          "output_type": "stream",
          "text": [
            "[(' Hydrangea',), ('Tulip',), (' Lilac',), ('Rose',)]\n"
          ],
          "name": "stdout"
        }
      ]
    },
    {
      "metadata": {
        "id": "Zt4yDodyaoc8",
        "colab_type": "code",
        "colab": {}
      },
      "cell_type": "code",
      "source": [
        "conn.commit()\n",
        "conn.close()"
      ],
      "execution_count": 0,
      "outputs": []
    }
  ]
}