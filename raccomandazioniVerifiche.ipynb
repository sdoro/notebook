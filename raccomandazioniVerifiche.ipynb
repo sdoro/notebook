{
  "nbformat": 4,
  "nbformat_minor": 0,
  "metadata": {
    "colab": {
      "name": "raccomandazioniVerifiche.ipynb",
      "version": "0.3.2",
      "provenance": [],
      "collapsed_sections": []
    },
    "kernelspec": {
      "name": "python3",
      "display_name": "Python 3"
    }
  },
  "cells": [
    {
      "metadata": {
        "id": "IF7rAhv8uScv",
        "colab_type": "text"
      },
      "cell_type": "markdown",
      "source": [
        "[![Colab](https://colab.research.google.com/assets/colab-badge.svg)](https://colab.research.google.com/github/sdoro/notebooks/blob/master/raccomandazioniVerifiche.ipynb)   [![Binder](http://mybinder.org/badge.svg)](http://mybinder.org/v2/gh/sdoro/notebooks/master?filepath=raccomandazioniVerifiche.ipynb)\n",
        "\n",
        "\n",
        "### Raccomandazioni per la compilazione delle verifiche (per non subire penalizzazioni)\n",
        "\n",
        "\n",
        "\n",
        "* attenzione all’indentazione (spaziatura orizzontale) visto che è essenziale per Python! Usa dunque almeno 3 quadretti di spaziatura in modo da rendere non ambiguo l’allineamento;\n",
        "* commenta quando serve;\n",
        "* scrivi sempre il numero dell’esercizio prima della soluzione;\n",
        "* usa nomi di variabile significativi (ma brevi) e usa la forma a cammello 😁!\n",
        "* usa righe vuote per separare fasi distinte della soluzione;\n",
        "* NON usare l’input da tastiera: sappiamo che sapete leggere da tastiera!\n",
        "* Evita di spezzare la soluzione su più pagine;\n",
        "*  Il linguaggio Python usa maiuscole e minuscole quindi usale come richiesto;\n",
        "* produci la soluzione rigorosamente divisa in parte risolutiva seguita dalla parte di test;\n",
        "* eventuali pedici o indici in Python NON esistono;\n",
        "* dichiara le variabili in prossimità del codice che le utilizzerà.\n",
        "\n"
      ]
    }
  ]
}