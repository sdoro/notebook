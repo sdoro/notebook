{
  "nbformat": 4,
  "nbformat_minor": 0,
  "metadata": {
    "colab": {
      "name": "raccomandazioniVerifiche.ipynb",
      "version": "0.3.2",
      "provenance": [],
      "collapsed_sections": []
    },
    "kernelspec": {
      "name": "python3",
      "display_name": "Python 3"
    }
  },
  "cells": [
    {
      "metadata": {
        "id": "IF7rAhv8uScv",
        "colab_type": "text"
      },
      "cell_type": "markdown",
      "source": [
        "[![Colab](https://colab.research.google.com/assets/colab-badge.svg)](https://colab.research.google.com/github/sdoro/notebooks/blob/master/raccomandazioniVerifiche.ipynb)   [![Binder](http://mybinder.org/badge.svg)](http://mybinder.org/v2/gh/sdoro/notebooks/master?filepath=raccomandazioniVerifiche.ipynb)\n",
        "\n",
        "\n",
        "### Raccomandazioni per la compilazione delle verifiche (per non subire penalizzazioni)\n",
        "\n",
        "\n",
        "\n",
        "* attenzione **all’indentazione** (spaziatura orizzontale) visto che è essenziale per Python! Usa dunque almeno **3 quadretti** di spaziatura in modo da rendere non ambiguo l’allineamento;\n",
        "\n",
        "* **commenta** quando serve o quando vuoi chiarire qualche aspetto;\n",
        "\n",
        "* scrivi sempre il **numero** dell’esercizio prima della soluzione;\n",
        "\n",
        "* SOLO per gli esercizi per casa **ripeti** il testo dell'esericizio;\n",
        "\n",
        "* usa nomi di variabile **significativi** (ma brevi) e usa la forma a cammello 😁!\n",
        "\n",
        "* usa righe **vuote** per separare fasi distinte della soluzione;\n",
        "\n",
        "* NON usare l’**input da tastiera**: sappiamo che sapete leggere da tastiera!\n",
        "\n",
        "* NON **spezzare** la soluzione su più pagine;\n",
        "\n",
        "* il linguaggio Python usa maiuscole e **minuscole** quindi usale come serve;\n",
        "\n",
        "* produci la soluzione rigorosamente divisa in parte risolutiva **seguita** dalla parte di test;\n",
        "\n",
        "* NON esistono in Python **pedici** o **indici**;\n",
        "\n",
        "* inizializza le variabili in **prossimità** del codice che le utilizzerà;\n",
        "\n",
        "* usa obbligatoriamente nomi di parametri formali distinti dai nomi dei parametri attuali;\n",
        "\n",
        "* **non stampare** se non esplicitamente richiesto.\n",
        "\n"
      ]
    }
  ]
}