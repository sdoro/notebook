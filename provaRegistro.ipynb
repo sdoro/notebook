{
  "nbformat": 4,
  "nbformat_minor": 0,
  "metadata": {
    "colab": {
      "name": "provaRegistro.ipynb",
      "version": "0.3.2",
      "provenance": [],
      "collapsed_sections": []
    },
    "kernelspec": {
      "name": "python3",
      "display_name": "Python 3"
    }
  },
  "cells": [
    {
      "metadata": {
        "id": "AUm2DoKXAyY-",
        "colab_type": "text"
      },
      "cell_type": "markdown",
      "source": [
        "### Costruzione del dizionario\n",
        "\n",
        "Per prima cosa devo costruire il dizionario e per seconda cosa devo costruire la lista (una per ogni chiave)."
      ]
    },
    {
      "metadata": {
        "id": "zx8w_7_BAhfO",
        "colab_type": "code",
        "colab": {
          "base_uri": "https://localhost:8080/",
          "height": 34
        },
        "outputId": "719945de-a815-4838-f2af-0e2fadf304b7"
      },
      "cell_type": "code",
      "source": [
        "# costruzione del dizionario\n",
        "d = {}\n",
        "\n",
        "# costruzione delle liste per ognuna delle tre chiavi\n",
        "d['a-f'] = []\n",
        "d['g-o'] = []\n",
        "d['p-z'] = []\n",
        "\n",
        "# test del risultato\n",
        "print(d)"
      ],
      "execution_count": 1,
      "outputs": [
        {
          "output_type": "stream",
          "text": [
            "{'a-f': [], 'g-o': [], 'p-z': []}\n"
          ],
          "name": "stdout"
        }
      ]
    },
    {
      "metadata": {
        "id": "1p-KeGL3B9bA",
        "colab_type": "text"
      },
      "cell_type": "markdown",
      "source": [
        "### Prova di aggiunta di una chiave"
      ]
    },
    {
      "metadata": {
        "id": "PZIZErqzGtKB",
        "colab_type": "code",
        "colab": {
          "base_uri": "https://localhost:8080/",
          "height": 34
        },
        "outputId": "a10ce9eb-4644-4832-dd0a-03dce7815967"
      },
      "cell_type": "code",
      "source": [
        "# aggiungo due student e i relativi voti\n",
        "d['a-f'] += [['andrea', 8]]\n",
        "d['a-f'] += [['antonio', 7]]\n",
        "\n",
        "# test del risultato\n",
        "print(d)\n"
      ],
      "execution_count": 2,
      "outputs": [
        {
          "output_type": "stream",
          "text": [
            "{'a-f': [['andrea', 8], ['antonio', 7]], 'g-o': [], 'p-z': []}\n"
          ],
          "name": "stdout"
        }
      ]
    },
    {
      "metadata": {
        "id": "Poyn1N7DDTtm",
        "colab_type": "text"
      },
      "cell_type": "markdown",
      "source": [
        "### Inserimento generico\n",
        "\n",
        "Per inserire un nuovo studente e relativo voto devo determinare la sua chiave."
      ]
    },
    {
      "metadata": {
        "id": "yoW9e1isDgJs",
        "colab_type": "code",
        "colab": {
          "base_uri": "https://localhost:8080/",
          "height": 52
        },
        "outputId": "d8f65242-86de-4665-d16a-5bfabb9e3f07"
      },
      "cell_type": "code",
      "source": [
        "# costruzione elemento da inserire\n",
        "nuovoStudente = 'giulia'\n",
        "voto = 8\n",
        "# test\n",
        "print(\"prima dell'inserimento: \", d)\n",
        "\n",
        "\n",
        "# istruzioni per inserire l'elemento nel dizionario associando la giusta chiave\n",
        "chiave = '?'\n",
        "if (nuovoStudente[0][0] < \"g\") and nuovoStudente[0][0] >= \"a\":\n",
        "  chiave = 'a-f'\n",
        "if (nuovoStudente[0][0] < \"p\") and nuovoStudente[0][0] > \"f\":\n",
        "  chiave = 'g-o'\n",
        "if (nuovoStudente[0][0] > \"o\") and nuovoStudente[0][0] <= \"z\":\n",
        "  chiave = 'p-z'\n",
        "# inserimento \n",
        "if chiave != '?':  \n",
        "  d[chiave] += [[nuovoStudente, voto]]\n",
        "\n",
        "# test del risultato\n",
        "print(\"dopo l'inserimento: \", d)\n"
      ],
      "execution_count": 3,
      "outputs": [
        {
          "output_type": "stream",
          "text": [
            "prima dell'inserimento:  {'a-f': [['andrea', 8], ['antonio', 7]], 'g-o': [], 'p-z': []}\n",
            "dopo l'inserimento:  {'a-f': [['andrea', 8], ['antonio', 7]], 'g-o': [['giulia', 8]], 'p-z': []}\n"
          ],
          "name": "stdout"
        }
      ]
    },
    {
      "metadata": {
        "id": "S70QQTD2EEPw",
        "colab_type": "text"
      },
      "cell_type": "markdown",
      "source": [
        "### Trasformo il prototipo in funzione\n",
        "\n",
        "Prendiamo il codice della cella di codice precedente e la trasformiamo in funzione come richiesto dal testo."
      ]
    },
    {
      "metadata": {
        "id": "ASY5MyYbMN8W",
        "colab_type": "code",
        "colab": {
          "base_uri": "https://localhost:8080/",
          "height": 52
        },
        "outputId": "e079f3eb-4a85-4811-e56f-11a88fb19e6a"
      },
      "cell_type": "code",
      "source": [
        "# definiziona della funzione di inserimento\n",
        "def inserisci(nuovoStudente, voto):\n",
        "  chiave = '?'\n",
        "  if (nuovoStudente[0][0] < \"g\") and nuovoStudente[0][0] >= \"a\":\n",
        "    chiave = 'a-f'\n",
        "  if (nuovoStudente[0][0] < \"p\") and nuovoStudente[0][0] > \"f\":\n",
        "    chiave = 'g-o'\n",
        "  if (nuovoStudente[0][0] > \"o\") and nuovoStudente[0][0] <= \"z\":\n",
        "    chiave = 'p-z'\n",
        "  \n",
        "  if chiave != '?':\n",
        "    d[chiave] += [[nuovoStudente, voto]]\n",
        "\n",
        "\n",
        "# test della funzione\n",
        "print(\"prima dell'inserimento: \", d)\n",
        "inserisci ('amelia', 8)\n",
        "print(\"dopo l'inserimento: \", d)"
      ],
      "execution_count": 4,
      "outputs": [
        {
          "output_type": "stream",
          "text": [
            "prima dell'inserimento:  {'a-f': [['andrea', 8], ['antonio', 7]], 'g-o': [['giulia', 8]], 'p-z': []}\n",
            "dopo l'inserimento:  {'a-f': [['andrea', 8], ['antonio', 7], ['amelia', 8]], 'g-o': [['giulia', 8]], 'p-z': []}\n"
          ],
          "name": "stdout"
        }
      ]
    },
    {
      "metadata": {
        "id": "4vQP1RrKE0RB",
        "colab_type": "code",
        "colab": {
          "base_uri": "https://localhost:8080/",
          "height": 52
        },
        "outputId": "5e1dfff1-645e-4647-af96-07cbe92689bc"
      },
      "cell_type": "code",
      "source": [
        "# definizione della funzione di cancellazione\n",
        "def elimina(studente):\n",
        "  chiave = '?'\n",
        "  if (studente[0][0] < \"g\") and studente[0][0] >= \"a\":\n",
        "    chiave = 'a-f'\n",
        "  if (studente[0][0] < \"p\") and studente[0][0] > \"f\":\n",
        "    chiave = 'g-o'\n",
        "  if (studente[0][0] > \"o\") and studente[0][0] <= \"z\":\n",
        "    chiave = 'p-z'\n",
        "  \n",
        "  if chiave != '?':\n",
        "    lista = d[chiave]\n",
        "    # inizializzo la lista risultato \n",
        "    res = []\n",
        "    for i in lista:\n",
        "      if i[0] != studente:\n",
        "        res.append(i)\n",
        "        \n",
        "  # sostituisco la lista vecchia con quella nuova (priva dell'elemento passato)\n",
        "  d[chiave] = res\n",
        "\n",
        "\n",
        "# test della funzione\n",
        "print(\"prima della rimozione: \", d)\n",
        "elimina ('amelia')\n",
        "print(\"dopo la rimozione: \", d)"
      ],
      "execution_count": 5,
      "outputs": [
        {
          "output_type": "stream",
          "text": [
            "prima della rimozione:  {'a-f': [['andrea', 8], ['antonio', 7], ['amelia', 8]], 'g-o': [['giulia', 8]], 'p-z': []}\n",
            "dopo la rimozione:  {'a-f': [['andrea', 8], ['antonio', 7]], 'g-o': [['giulia', 8]], 'p-z': []}\n"
          ],
          "name": "stdout"
        }
      ]
    }
  ]
}