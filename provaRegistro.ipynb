{
  "nbformat": 4,
  "nbformat_minor": 0,
  "metadata": {
    "colab": {
      "name": "provaRegistro.ipynb",
      "version": "0.3.2",
      "provenance": [],
      "collapsed_sections": []
    },
    "kernelspec": {
      "name": "python3",
      "display_name": "Python 3"
    }
  },
  "cells": [
    {
      "metadata": {
        "id": "AUm2DoKXAyY-",
        "colab_type": "text"
      },
      "cell_type": "markdown",
      "source": [
        "### Costruzione del dizionario\n",
        "\n",
        "Per prima cosa occorre costruire il dizionario e in seguito per ogni chiave occorre costruire una lista."
      ]
    },
    {
      "metadata": {
        "id": "zx8w_7_BAhfO",
        "colab_type": "code",
        "colab": {
          "base_uri": "https://localhost:8080/",
          "height": 34
        },
        "outputId": "0c0bea7c-6ed4-4ea0-f026-c7c9c593ccbc"
      },
      "cell_type": "code",
      "source": [
        "# costruzione del dizionario\n",
        "d = {}\n",
        "\n",
        "# costruzione delle liste, una per ogni chiave\n",
        "d['a-f'] = []\n",
        "d['g-o'] = []\n",
        "d['p-z'] = []\n",
        "\n",
        "# test di prova\n",
        "print(d)"
      ],
      "execution_count": 1,
      "outputs": [
        {
          "output_type": "stream",
          "text": [
            "{'a-f': [], 'g-o': [], 'p-z': []}\n"
          ],
          "name": "stdout"
        }
      ]
    },
    {
      "metadata": {
        "id": "1p-KeGL3B9bA",
        "colab_type": "text"
      },
      "cell_type": "markdown",
      "source": [
        "### Prova di aggiunta manuale di due chiavi\n",
        "\n",
        "Per aggiungere un elemento in una lista si può usare l'operatore += o il metodo append. Li proviamo entrambe:"
      ]
    },
    {
      "metadata": {
        "id": "PZIZErqzGtKB",
        "colab_type": "code",
        "colab": {
          "base_uri": "https://localhost:8080/",
          "height": 34
        },
        "outputId": "7e06fb68-3c70-46d5-ec66-a1efc3214ed2"
      },
      "cell_type": "code",
      "source": [
        "# aggiungo uno studente e il relativo voto con l'operatore +=\n",
        "d['a-f'] += [['andrea', 8]]\n",
        "\n",
        "# aggiungo un altro studente con il metodo append\n",
        "d['g-o'].append(['giulia', 9])\n",
        "\n",
        "# test di prova\n",
        "print(d)\n"
      ],
      "execution_count": 2,
      "outputs": [
        {
          "output_type": "stream",
          "text": [
            "{'a-f': [['andrea', 8]], 'g-o': [['giulia', 9]], 'p-z': []}\n"
          ],
          "name": "stdout"
        }
      ]
    },
    {
      "metadata": {
        "id": "Poyn1N7DDTtm",
        "colab_type": "text"
      },
      "cell_type": "markdown",
      "source": [
        "### Prototipo di inserimento nuovo studente\n",
        "\n",
        "Per inserire un nuovo studente (e relativo voto) dobbiamo determinare la sua chiave che attraverso il dizionario ci permetterà di accedere alla lista dove effettueremo l'operazione richiesta."
      ]
    },
    {
      "metadata": {
        "id": "yoW9e1isDgJs",
        "colab_type": "code",
        "colab": {
          "base_uri": "https://localhost:8080/",
          "height": 52
        },
        "outputId": "d0cc3c3b-75e5-4533-9fc2-4b69f79d71b1"
      },
      "cell_type": "code",
      "source": [
        "# costruzione elemento da inserire\n",
        "nuovoStudente = 'pino'\n",
        "voto = 8\n",
        "\n",
        "# test di prova\n",
        "print(\"prima dell'inserimento: \", d)\n",
        "\n",
        "# costruzione della chiave\n",
        "chiave = '?'\n",
        "if (nuovoStudente[0] < \"g\") and nuovoStudente[0] >= \"a\":\n",
        "  chiave = 'a-f'\n",
        "if (nuovoStudente[0] < \"p\") and nuovoStudente[0] > \"f\":\n",
        "  chiave = 'g-o'\n",
        "if (nuovoStudente[0] > \"o\") and nuovoStudente[0] <= \"z\":\n",
        "  chiave = 'p-z'\n",
        "# inserimento nella lista\n",
        "if chiave != '?':  \n",
        "  d[chiave].append([nuovoStudente, voto])\n",
        "\n",
        "# test di prova\n",
        "print(\"dopo l'inserimento: \", d)\n"
      ],
      "execution_count": 3,
      "outputs": [
        {
          "output_type": "stream",
          "text": [
            "prima dell'inserimento:  {'a-f': [['andrea', 8]], 'g-o': [['giulia', 9]], 'p-z': []}\n",
            "dopo l'inserimento:  {'a-f': [['andrea', 8]], 'g-o': [['giulia', 9]], 'p-z': [['pino', 8]]}\n"
          ],
          "name": "stdout"
        }
      ]
    },
    {
      "metadata": {
        "id": "S70QQTD2EEPw",
        "colab_type": "text"
      },
      "cell_type": "markdown",
      "source": [
        "### Trasformiamo il prototipo in funzione\n",
        "\n",
        "Prendiamo il codice della cella di codice precedente e la trasformiamo in funzione come richiesto dal testo."
      ]
    },
    {
      "metadata": {
        "id": "ASY5MyYbMN8W",
        "colab_type": "code",
        "colab": {
          "base_uri": "https://localhost:8080/",
          "height": 52
        },
        "outputId": "d421832b-8f92-45d7-ccb8-bc3334b985ff"
      },
      "cell_type": "code",
      "source": [
        "# definiziona della funzione di inserimento\n",
        "def inserisci(nuovoStudente, voto):\n",
        "  chiave = '?'\n",
        "  if (nuovoStudente[0] < \"g\") and nuovoStudente[0] >= \"a\":\n",
        "    chiave = 'a-f'\n",
        "  if (nuovoStudente[0] < \"p\") and nuovoStudente[0] > \"f\":\n",
        "    chiave = 'g-o'\n",
        "  if (nuovoStudente[0] > \"o\") and nuovoStudente[0] <= \"z\":\n",
        "    chiave = 'p-z'\n",
        "  \n",
        "  if chiave != '?':\n",
        "    d[chiave].append([nuovoStudente, voto])\n",
        "\n",
        "\n",
        "# test di prova\n",
        "print(\"prima dell'inserimento: \", d)\n",
        "inserisci ('amelia', 8)\n",
        "# test di prova\n",
        "print(\"dopo l'inserimento: \", d)"
      ],
      "execution_count": 4,
      "outputs": [
        {
          "output_type": "stream",
          "text": [
            "prima dell'inserimento:  {'a-f': [['andrea', 8]], 'g-o': [['giulia', 9]], 'p-z': [['pino', 8]]}\n",
            "dopo l'inserimento:  {'a-f': [['andrea', 8], ['amelia', 8]], 'g-o': [['giulia', 9]], 'p-z': [['pino', 8]]}\n"
          ],
          "name": "stdout"
        }
      ]
    },
    {
      "metadata": {
        "id": "5yPEso2UDPAh",
        "colab_type": "text"
      },
      "cell_type": "markdown",
      "source": [
        "### Costruzione della funzione di cancellazione\n",
        "\n",
        "Ipotizziamo che la funzione di cancellazione abbia bisogno di un solo parametro che è il nome dello studente da cancellare. Per prima cosa ricaviamo la chiave (nello stesso modo che abbiamo usato per l'inserimento). Poi attraverso il dizionario e la chiave ricaviamo la lista associata. Come ultimo passaggio dobbiamo eliminare l'elemento dalla lista."
      ]
    },
    {
      "metadata": {
        "id": "4vQP1RrKE0RB",
        "colab_type": "code",
        "colab": {
          "base_uri": "https://localhost:8080/",
          "height": 52
        },
        "outputId": "60d27b59-414f-4dc4-e86a-7a20aeb8d0da"
      },
      "cell_type": "code",
      "source": [
        "# definizione della funzione di cancellazione\n",
        "def elimina(studente):\n",
        "  chiave = '?'\n",
        "  if (studente[0] < \"g\") and studente[0] >= \"a\":\n",
        "    chiave = 'a-f'\n",
        "  if (studente[0] < \"p\") and studente[0] > \"f\":\n",
        "    chiave = 'g-o'\n",
        "  if (studente[0] > \"o\") and studente[0] <= \"z\":\n",
        "    chiave = 'p-z'\n",
        "  \n",
        "  if chiave != '?':\n",
        "    # inizializzo la lista risultato \n",
        "    res = []\n",
        "    # scorro la lista associata alla chiave e copio quando non corrisponde alla chiave cercata\n",
        "    for i in d[chiave]:\n",
        "      if i[0] != studente:\n",
        "        res.append(i)      # operazione di copia\n",
        "        \n",
        "  # sostituisco la lista vecchia con quella nuova (priva della chiave)\n",
        "  d[chiave] = res\n",
        "\n",
        "\n",
        "# test della funzione\n",
        "print(\"prima della rimozione: \", d)\n",
        "elimina ('amelia')\n",
        "print(\"dopo la rimozione: \", d)"
      ],
      "execution_count": 5,
      "outputs": [
        {
          "output_type": "stream",
          "text": [
            "prima della rimozione:  {'a-f': [['andrea', 8], ['amelia', 8]], 'g-o': [['giulia', 9]], 'p-z': [['pino', 8]]}\n",
            "dopo la rimozione:  {'a-f': [['andrea', 8]], 'g-o': [['giulia', 9]], 'p-z': [['pino', 8]]}\n"
          ],
          "name": "stdout"
        }
      ]
    }
  ]
}