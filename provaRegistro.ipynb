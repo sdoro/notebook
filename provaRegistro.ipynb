{
  "nbformat": 4,
  "nbformat_minor": 0,
  "metadata": {
    "colab": {
      "name": "provaRegistro.ipynb",
      "version": "0.3.2",
      "provenance": [],
      "collapsed_sections": []
    },
    "kernelspec": {
      "name": "python3",
      "display_name": "Python 3"
    }
  },
  "cells": [
    {
      "metadata": {
        "id": "AUm2DoKXAyY-",
        "colab_type": "text"
      },
      "cell_type": "markdown",
      "source": [
        "### Costruzione del dizionario\n",
        "\n",
        "Per prima cosa devo costruire il dizionario e per seconda cosa devo costruire la lista (una per ogni chiave)."
      ]
    },
    {
      "metadata": {
        "id": "zx8w_7_BAhfO",
        "colab_type": "code",
        "colab": {
          "base_uri": "https://localhost:8080/",
          "height": 34
        },
        "outputId": "7706f203-6dcf-4b0b-c4fc-c84109c2f7fd"
      },
      "cell_type": "code",
      "source": [
        "# costruzione del dizionario\n",
        "d = {}\n",
        "\n",
        "# costruzione delle liste per ognuna delle tre chiavi\n",
        "d['a-f'] = []\n",
        "d['g-o'] = []\n",
        "d['p-z'] = []\n",
        "\n",
        "# test del risultato\n",
        "print(d)"
      ],
      "execution_count": 1,
      "outputs": [
        {
          "output_type": "stream",
          "text": [
            "{'a-f': [], 'g-o': [], 'p-z': []}\n"
          ],
          "name": "stdout"
        }
      ]
    },
    {
      "metadata": {
        "id": "1p-KeGL3B9bA",
        "colab_type": "text"
      },
      "cell_type": "markdown",
      "source": [
        "### Prova di aggiunta di una chiave"
      ]
    },
    {
      "metadata": {
        "id": "PZIZErqzGtKB",
        "colab_type": "code",
        "colab": {
          "base_uri": "https://localhost:8080/",
          "height": 34
        },
        "outputId": "5cd98392-f8fd-44e6-9d07-ef64967fa831"
      },
      "cell_type": "code",
      "source": [
        "# aggiungo uno studente e il voto\n",
        "d['a-f'] += [['antonio', 2000]]\n",
        "\n",
        "# test del risultato\n",
        "print(d)\n"
      ],
      "execution_count": 2,
      "outputs": [
        {
          "output_type": "stream",
          "text": [
            "{'a-f': [['antonio', 2000]], 'g-o': [], 'p-z': []}\n"
          ],
          "name": "stdout"
        }
      ]
    },
    {
      "metadata": {
        "id": "Poyn1N7DDTtm",
        "colab_type": "text"
      },
      "cell_type": "markdown",
      "source": [
        "### Inserimento generico\n",
        "\n",
        "Per inserire un nuovo studente e relativo voto devo determinare la sua chiave."
      ]
    },
    {
      "metadata": {
        "id": "yoW9e1isDgJs",
        "colab_type": "code",
        "colab": {
          "base_uri": "https://localhost:8080/",
          "height": 52
        },
        "outputId": "9b8fdf72-3d57-40a4-d6d5-76b45bcac664"
      },
      "cell_type": "code",
      "source": [
        "# costruzione elemento da inserire\n",
        "nuovoStudente = 'giulia'\n",
        "voto = 8\n",
        "# test\n",
        "print(\"prima dell'inserimento: \", d)\n",
        "\n",
        "\n",
        "# istruzioni per inserire l'elemento nel dizionario associando la giusta chiave\n",
        "chiave = '?'\n",
        "if (nuovoStudente[0][0] < \"g\") and nuovoStudente[0][0] >= \"a\":\n",
        "  chiave = 'a-f'\n",
        "if (nuovoStudente[0][0] < \"p\") and nuovoStudente[0][0] > \"f\":\n",
        "  chiave = 'g-o'\n",
        "if (nuovoStudente[0][0] > \"o\") and nuovoStudente[0][0] <= \"z\":\n",
        "  chiave = 'p-z'\n",
        "# inserimento \n",
        "if chiave != '?':  \n",
        "  d[chiave] += [[nuovoStudente, voto]]\n",
        "\n",
        "# test del risultato\n",
        "print(\"dopo l'inserimento: \", d)\n"
      ],
      "execution_count": 3,
      "outputs": [
        {
          "output_type": "stream",
          "text": [
            "prima dell'inserimento:  {'a-f': [['antonio', 2000]], 'g-o': [], 'p-z': []}\n",
            "dopo l'inserimento:  {'a-f': [['antonio', 2000]], 'g-o': [['giulia', 8]], 'p-z': []}\n"
          ],
          "name": "stdout"
        }
      ]
    },
    {
      "metadata": {
        "id": "S70QQTD2EEPw",
        "colab_type": "text"
      },
      "cell_type": "markdown",
      "source": [
        "### Trasformo il prototipo in funzione\n",
        "\n",
        "Prendiamo il codice della cella di codice precedente e la trasformiamo in funzione come richiesto dal testo."
      ]
    },
    {
      "metadata": {
        "id": "ASY5MyYbMN8W",
        "colab_type": "code",
        "colab": {
          "base_uri": "https://localhost:8080/",
          "height": 52
        },
        "outputId": "aec18816-ecf0-498a-9c7a-b14088bda897"
      },
      "cell_type": "code",
      "source": [
        "# definiziona della funzione di inserimento\n",
        "def inserisci(nuovoStudente, voto):\n",
        "  chiave = '?'\n",
        "  if (nuovoStudente[0][0] < \"g\") and nuovoStudente[0][0] >= \"a\":\n",
        "    chiave = 'a-f'\n",
        "  if (nuovoStudente[0][0] < \"p\") and nuovoStudente[0][0] > \"f\":\n",
        "    chiave = 'g-o'\n",
        "  if (nuovoStudente[0][0] > \"o\") and nuovoStudente[0][0] <= \"z\":\n",
        "    chiave = 'p-z'\n",
        "  \n",
        "  if chiave != '?':\n",
        "    d[chiave] += [[nuovoStudente, voto]]\n",
        "\n",
        "\n",
        "# test della funzione\n",
        "print(\"prima dell'inserimento: \", d)\n",
        "inserisci ('amelia', 8)\n",
        "print(\"dopo l'inserimento: \", d)"
      ],
      "execution_count": 4,
      "outputs": [
        {
          "output_type": "stream",
          "text": [
            "prima dell'inserimento:  {'a-f': [['antonio', 2000]], 'g-o': [['giulia', 8]], 'p-z': []}\n",
            "dopo l'inserimento:  {'a-f': [['antonio', 2000], ['amelia', 8]], 'g-o': [['giulia', 8]], 'p-z': []}\n"
          ],
          "name": "stdout"
        }
      ]
    },
    {
      "metadata": {
        "id": "4vQP1RrKE0RB",
        "colab_type": "code",
        "colab": {
          "base_uri": "https://localhost:8080/",
          "height": 52
        },
        "outputId": "94e40fcc-b44f-4729-ee18-795b89d4dc6e"
      },
      "cell_type": "code",
      "source": [
        "# definizione della funzione di cancellazione\n",
        "def elimina(studente):\n",
        "  chiave = '?'\n",
        "  if (studente[0][0] < \"g\") and studente[0][0] >= \"a\":\n",
        "    chiave = 'a-f'\n",
        "  if (studente[0][0] < \"p\") and studente[0][0] > \"f\":\n",
        "    chiave = 'g-o'\n",
        "  if (studente[0][0] > \"o\") and studente[0][0] <= \"z\":\n",
        "    chiave = 'p-z'\n",
        "  \n",
        "  if chiave != '?':\n",
        "    lista = d[chiave]\n",
        "    # inizializzo la lista risultato \n",
        "    res = []\n",
        "    for i in lista:\n",
        "      if i[0] != studente:\n",
        "        res.append(i)\n",
        "        \n",
        "  # sostituisco la lista vecchia con quella nuova (priva dell'elemento passato)\n",
        "  d[chiave] = res\n",
        "\n",
        "\n",
        "# test della funzione\n",
        "print(\"prima della rimozione: \", d)\n",
        "elimina ('amelia')\n",
        "print(\"dopo la rimozione: \", d)"
      ],
      "execution_count": 5,
      "outputs": [
        {
          "output_type": "stream",
          "text": [
            "prima della rimozione:  {'a-f': [['antonio', 2000], ['amelia', 8]], 'g-o': [['giulia', 8]], 'p-z': []}\n",
            "dopo la rimozione:  {'a-f': [['antonio', 2000]], 'g-o': [['giulia', 8]], 'p-z': []}\n"
          ],
          "name": "stdout"
        }
      ]
    }
  ]
}