{
  "nbformat": 4,
  "nbformat_minor": 0,
  "metadata": {
    "colab": {
      "name": "1X-esercizi.ipynb",
      "version": "0.3.2",
      "provenance": [],
      "collapsed_sections": []
    },
    "kernelspec": {
      "name": "python3",
      "display_name": "Python 3"
    }
  },
  "cells": [
    {
      "metadata": {
        "id": "FswgKNDKcsvf",
        "colab_type": "text"
      },
      "cell_type": "markdown",
      "source": [
        "[![Colab](https://colab.research.google.com/assets/colab-badge.svg)](https://colab.research.google.com/github/sdoro/notebooks/blob/master/1X_esercizi.ipynb)\n",
        "\n",
        "### Esercizi di calcolo su grandezze in uso in informatica"
      ]
    },
    {
      "metadata": {
        "id": "k1ouMBO8cpgX",
        "colab_type": "code",
        "colab": {
          "base_uri": "https://localhost:8080/",
          "height": 69
        },
        "outputId": "1acef8c2-d07e-4a46-900a-3e3d2312a8ff"
      },
      "cell_type": "code",
      "source": [
        "# Dato un file da 5GByte, quanti minuti prima una periferica USB 3.0 con \n",
        "# velocità reale di 3.2 Gbps termina il trasferimento rispetto ad una periferica\n",
        "# USB 2.0 con velocità reale di 7Mbps ?\n",
        "t_usb3_bsec = 5 * 10**9 * 8 / (3.2 * 10**9)\n",
        "print(t_usb3_bsec, \"secondi, ossia in minuti: \", t_usb3_bsec/60)\n",
        "t_usb2_bsec = 5 * 10**9 * 8 / (7 * 10**6)\n",
        "print(t_usb2_bsec, \"secondi, ossia in minuti: \", t_usb2_bsec/60)\n",
        "delta = (t_usb2_bsec-t_usb3_bsec) / 60\n",
        "print(delta, \"minuti prima\")"
      ],
      "execution_count": 1,
      "outputs": [
        {
          "output_type": "stream",
          "text": [
            "12.5 secondi, ossia in minuti:  0.20833333333333334\n",
            "5714.285714285715 secondi, ossia in minuti:  95.23809523809524\n",
            "95.02976190476191 minuti prima\n"
          ],
          "name": "stdout"
        }
      ]
    },
    {
      "metadata": {
        "id": "yTXFySB0g2Th",
        "colab_type": "code",
        "colab": {
          "base_uri": "https://localhost:8080/",
          "height": 69
        },
        "outputId": "e7064bf8-7d90-4dff-d582-0744c1eb7d62"
      },
      "cell_type": "code",
      "source": [
        "# Dato un file da 5GByte, quanti secondi prima un hard disk SATA 2 con\n",
        "# velocità 3Gbps termina il trasferimento rispetto ad un hard disk SATA 3 con\n",
        "# velocità 6Gbps ?\n",
        "t_sata2_bsec = 5 * 10**9 * 8 / (3 * 10**9)\n",
        "print(t_sata2_bsec, \"secondi\")\n",
        "t_sata3_bsec = 5 * 10**9 * 8 / (6 * 10**9)\n",
        "print(t_sata3_bsec, \"secondi\")\n",
        "delta = (t_sata2_bsec-t_sata3_bsec)\n",
        "print(delta, \"secondi prima\")\n"
      ],
      "execution_count": 2,
      "outputs": [
        {
          "output_type": "stream",
          "text": [
            "13.333333333333334 secondi\n",
            "6.666666666666667 secondi\n",
            "6.666666666666667 secondi prima\n"
          ],
          "name": "stdout"
        }
      ]
    },
    {
      "metadata": {
        "id": "ARrQFSVFmZsZ",
        "colab_type": "code",
        "colab": {
          "base_uri": "https://localhost:8080/",
          "height": 69
        },
        "outputId": "398220c4-cd0e-48ba-bb52-44388525281e"
      },
      "cell_type": "code",
      "source": [
        "# Dato un file da 5GByte, quanti secondi prima un SSD M.2 x4 con velocità\n",
        "# 32 GBps termina prima rispetto ad un hard disk SATA 3 con velocità di\n",
        "# 6 Gbps ?\n",
        "t_ssd4_x4 = 5 * 10**9 * 8 / (32 * 10**9 *8)\n",
        "print(t_ssd4_x4, \"secondi\")\n",
        "t_sata3_bsec = 5 * 10**9 * 8 / (6 * 10**9)\n",
        "print(t_sata3_bsec, \"secondi\")\n",
        "delta = (t_sata3_bsec - t_ssd4_x4)\n",
        "print(delta, \"secondi prima\")\n"
      ],
      "execution_count": 3,
      "outputs": [
        {
          "output_type": "stream",
          "text": [
            "0.15625 secondi\n",
            "6.666666666666667 secondi\n",
            "6.510416666666667 secondi prima\n"
          ],
          "name": "stdout"
        }
      ]
    }
  ]
}