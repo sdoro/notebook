{
  "nbformat": 4,
  "nbformat_minor": 0,
  "metadata": {
    "colab": {
      "name": "bigData.ipynb",
      "version": "0.3.2",
      "provenance": [],
      "collapsed_sections": []
    },
    "kernelspec": {
      "name": "python3",
      "display_name": "Python 3"
    }
  },
  "cells": [
    {
      "metadata": {
        "id": "j5oYWmDKEzGn",
        "colab_type": "text"
      },
      "cell_type": "markdown",
      "source": [
        "[![Colab](https://colab.research.google.com/assets/colab-badge.svg)](https://colab.research.google.com/github/sdoro/notebooks/blob/master/bigData.ipynb)   [![Binder](http://mybinder.org/badge.svg)](http://mybinder.org/v2/gh/sdoro/notebooks/master?filepath=bigData.ipynb)\n",
        "\n",
        "\n",
        "# Prefissi della unità di misura (decimali)\n",
        "\n",
        "I [Prefissi nel Sistema Internazionale (di misura)](https://it.wikipedia.org/wiki/Prefissi_del_Sistema_internazionale_di_unit%C3%A0_di_misura) hanno nomi molto poco comuni. Completano estendendo i nomi i [bilioni](https://it.wikipedia.org/wiki/Bilione) e le voci correlate. Un altro riferimento è la categoria dei [numeri grandi](https://it.wikipedia.org/wiki/Categoria:Numeri_grandi).\n",
        "\n",
        "\n"
      ]
    },
    {
      "metadata": {
        "id": "UgCXXRwNQKHV",
        "colab_type": "text"
      },
      "cell_type": "markdown",
      "source": [
        "### Riassunto\n",
        "\n",
        "| Numero decimale | Scala lunga | Prefisso italiano | $10^n$ |\n",
        "|  ---------------------------  | ------------------ | -------------------------- | ------------ | \n",
        "| 1 000 000 000 000 000 000 000 000 000 000 000 | Quintiliardo | -  | $10^{33}$ |\n",
        "| 1 000 000 000 000 000 000 000 000 000 000 | Quintilione | - | $10^{30}$ |\n",
        "| 1 000 000 000 000 000 000 000 000 000 | Quadriliardo | - | $10^{27}$ |\n",
        "| 1 000 000 000 000 000 000 000 000 | Quadrilione | yotta | $10^{24}$ |\n",
        "| 1 000 000 000 000 000 000 000 | Triliardo | zetta | $10^{21}$ |\n",
        "| 1 000 000 000 000 000 000 | Trilione | exa | $10^{18}$ |\n",
        "| 1 000 000 000 000 000 | Biliardo | peta | $10^{15}$ |\n",
        "| 1 000 000 000 000 | Bilione | tera | $10^{12}$ |\n",
        "| 1 000 000 000 | Miliardo | giga | $10^{9}$ |\n",
        "| 1 000 000 | Milione | mega | $10^{6}$ |\n",
        "| 1 000 | Mille | chilo | $10^{3}$ |\n",
        "\n",
        "\n",
        "\n",
        "\n",
        "\n",
        "\n",
        "\n"
      ]
    },
    {
      "metadata": {
        "id": "GLOXlvAoKePt",
        "colab_type": "text"
      },
      "cell_type": "markdown",
      "source": [
        "La quantità di dati che produciamo ogni giorno è davvero sbalorditiva. Ci sono 2,5 quintilioni di byte di dati creati ogni giorno al nostro ritmo attuale, ma tale ritmo sta solo accelerando con la crescita dell'Internet of Things (IoT). Solo negli ultimi due anni è stato generato il 90% dei dati nel mondo. Quanto vale in numeri ?"
      ]
    },
    {
      "metadata": {
        "id": "WPURIHy_KKnR",
        "colab_type": "code",
        "outputId": "3707cb95-27db-4b57-8815-d14b3a1a9cf3",
        "colab": {
          "base_uri": "https://localhost:8080/",
          "height": 102
        }
      },
      "cell_type": "code",
      "source": [
        "n = 2.5 * 10**30\n",
        "print(\"Il valore di 2.5 quintilioni al giorno è: {:20,.0f}\".format(n))\n",
        "TRILIARDI = 10**21\n",
        "n = 2.5 * 10**30 / TRILIARDI\n",
        "print(\"Il valore di 2.5 quintilioni al giorno in triliardi è: {:13,.0f}\\n\".format(n))\n",
        "n = 2.5 * 10**30 / 3600\n",
        "print(\"Il valore di 2.5 quintilioni al secondo è: {:20,.0f}\".format(n))\n",
        "QUADRILIONI = 10**24\n",
        "n = 2.5 * 10**30 / 3600 / QUADRILIONI\n",
        "print(\"Il valore di 2.5 quintilioni al secondo è: {:4,.2f} quadrilioni\".format(n))"
      ],
      "execution_count": 1,
      "outputs": [
        {
          "output_type": "stream",
          "text": [
            "Il valore di 2.5 quintilioni al giorno è: 2,499,999,999,999,999,908,974,073,741,312\n",
            "Il valore di 2.5 quintilioni al giorno in triliardi è: 2,500,000,000\n",
            "\n",
            "Il valore di 2.5 quintilioni al secondo è: 694,444,444,444,444,354,410,446,848\n",
            "Il valore di 2.5 quintilioni al secondo è: 694.44 quadrilioni\n"
          ],
          "name": "stdout"
        }
      ]
    },
    {
      "metadata": {
        "id": "8CXevg4Eo9hB",
        "colab_type": "text"
      },
      "cell_type": "markdown",
      "source": [
        "In media, Google elabora più di 40.000 ricerche OGNI secondo (3,5 miliardi di ricerche al giorno)!"
      ]
    },
    {
      "metadata": {
        "id": "oIal5eckpD2n",
        "colab_type": "code",
        "outputId": "316822c3-0a97-4c13-ac66-f6924ebc3dd1",
        "colab": {
          "base_uri": "https://localhost:8080/",
          "height": 102
        }
      },
      "cell_type": "code",
      "source": [
        "n = 40000 * 3600 * 24\n",
        "print(\"Il numero di ricerche elaborate da Google al giorno è: {:10,.0f}\".format(n))\n",
        "GIGA = 10**9\n",
        "n = 40000 * 3600 * 24 / GIGA\n",
        "print(\"Il numero di ricerche elaborate da Google al giorno è: {:3,.2f} Giga\\n\".format(n))\n",
        "n = 40000 * 3600 *24 * 365\n",
        "print(\"Il numero di ricerche elaborate da Google in un anno è: {:10,.0f}\".format(n))\n",
        "TERA = 10**12\n",
        "n = 40000 * 3600 *24 * 365 / TERA\n",
        "print(\"Il numero di ricerche elaborate da Google in un anno è: {:3,.2f} Tera\".format(n))"
      ],
      "execution_count": 2,
      "outputs": [
        {
          "output_type": "stream",
          "text": [
            "Il numero di ricerche elaborate da Google al giorno è: 3,456,000,000\n",
            "Il numero di ricerche elaborate da Google al giorno è: 3.46 Giga\n",
            "\n",
            "Il numero di ricerche elaborate da Google in un anno è: 1,261,440,000,000\n",
            "Il numero di ricerche elaborate da Google in un anno è: 1.26 Tera\n"
          ],
          "name": "stdout"
        }
      ]
    },
    {
      "metadata": {
        "id": "0cpx6ZtHpv_j",
        "colab_type": "text"
      },
      "cell_type": "markdown",
      "source": [
        "Dall'articolo [How Much Data Do We Create Every Day?](https://goo.gl/TpLFrk) si possono fare esercizi di calcolo interessanti e curiosi. I precedenti due calcoli ne sono un esempio.\n",
        "Si possono costruire anche esempi di calcoli del tipo: \"dopo una settimana ...\", oppure \"se la lunghezza fosse ...\" o ancora \"se la velocità fosse ...\""
      ]
    },
    {
      "metadata": {
        "id": "PwmrHhrzKSAo",
        "colab_type": "text"
      },
      "cell_type": "markdown",
      "source": [
        "# Prefissi delle unità di misura (binarie)\n",
        "\n",
        "I [Prefissi per multipli binari](https://it.wikipedia.org/wiki/Prefissi_per_multipli_binari).\n",
        "\n",
        "[The Zettabyte Era: Trends and Analysis](https://www.cisco.com/c/en/us/solutions/collateral/service-provider/visual-networking-index-vni/vni-hyperconnectivity-wp.html) è un bel articolo (Cisco 2017) dove ci sono molti numeri esageratamente GRANDI."
      ]
    },
    {
      "metadata": {
        "id": "LOAQc1jtXTRv",
        "colab_type": "text"
      },
      "cell_type": "markdown",
      "source": [
        "### Riassunto\n",
        "\n",
        "| Valore | Fattore | Simbolo | Nome esteso | Equivalente | Fattore | Errore |\n",
        "| ---------- | -----------  | ------------- | --------------------- | ------------------- | -----------  | --------- |\n",
        "| 1 024\t| $2^{10}$ |\tKi\t| kilobinary\t| ≈\tchilo\t| $10^3$ |\t+2,4%\n",
        "| 1 048 576\t| $2^{20}$ |\tMi\t| megabinary\t| ≈\tmega\t| $10^6$ |\t+4,9%\n",
        "| 1 073 741 824\t| $2^{30}$ |\tGi\t| gigabinary\t| ≈\tgiga\t| $10^9$\t|+7,4%\n",
        "| 1 099 511 627 776\t| $2^{40}$ |\tTi\t| terabinary\t| ≈\ttera\t| $10^{12}$ |\t+10,0%\n",
        "| 1 125 899 906 842 624\t| $2^{50}$ \t| Pi\t| petabinary\t| ≈\tpeta\t| $10^{15}$\t| +12,6%\n",
        "| 1 152 921 504 606 846 976\t| $2^{60}$ |\tEi\t| exabinary\t| ≈\texa\t| $10^{18}$ |\t+15,3%\n",
        "| 1 180 591 620 717 411 303 424\t| $2^{70}$ |\tZi\t| zettabinary\t| ≈\tzetta\t| $10^{21}$ | \t+18,1%\n",
        "| 1 208 925 819 614 629 174 706 176\t| $2^{80}$ |\tYi\t| yottabinary\t| ≈\tyotta\t| $10^{24}$ |\t+20,9%\n"
      ]
    },
    {
      "metadata": {
        "id": "z0S-VSbYbHhS",
        "colab_type": "text"
      },
      "cell_type": "markdown",
      "source": [
        "### Calcolo d'esempio reale"
      ]
    },
    {
      "metadata": {
        "id": "cGJEPfARKit8",
        "colab_type": "code",
        "outputId": "0f4fe4d7-3cda-4b4e-ca25-7261fefea5df",
        "colab": {
          "base_uri": "https://localhost:8080/",
          "height": 34
        }
      },
      "cell_type": "code",
      "source": [
        "# the total IP traffic in 2016 was around 1.2ZB (Cisco 2017).\n",
        "n = 1.2 * 2**70\n",
        "print(\"Il traffico IP nel 2016 fu di circa: {:25,.0f} bytes (fonte Cisco 2017).\".format(n))"
      ],
      "execution_count": 3,
      "outputs": [
        {
          "output_type": "stream",
          "text": [
            "Il traffico IP nel 2016 fu di circa: 1,416,709,944,860,893,511,680 bytes (fonte Cisco 2017).\n"
          ],
          "name": "stdout"
        }
      ]
    },
    {
      "metadata": {
        "id": "_uPXhZNuN6Yz",
        "colab_type": "text"
      },
      "cell_type": "markdown",
      "source": [
        "# Ordini di grandezza\n",
        "\n",
        "Un elenco di [Ordini di grandezza](https://it.wikipedia.org/wiki/Ordini_di_grandezza_(numeri&#41;) che offre spunti per esercizi."
      ]
    },
    {
      "metadata": {
        "id": "--pJieEdWrA6",
        "colab_type": "text"
      },
      "cell_type": "markdown",
      "source": [
        "### Astronomia\n",
        "La galassia Andromeda che può essere individuata nel cielo notturno, in realtà si trova a una distanza di 2,54 milioni di anni luce. Un [anno luce](https://it.wikipedia.org/wiki/Anno_luce) è la distanza che la luce, che si muove a 300.000 km al secondo, percorre in un anno: approssimativamente 9,46 bilioni di km. Questo significa che la galassia Andromeda che vediamo oggi è quella di 2,54 milioni di anni fa! La luce che raggiunge i nostri occhi in questo momento, è stata emessa molto prima della comparsa dell'Homo Sapiens. Quando dialoghiamo con le stelle, in realtà ci colleghiamo con l'infinito passato."
      ]
    },
    {
      "metadata": {
        "id": "ed0zvETmW9Mq",
        "colab_type": "code",
        "outputId": "703fed9e-3598-4094-b6bb-025d6e411ac6",
        "colab": {
          "base_uri": "https://localhost:8080/",
          "height": 102
        }
      },
      "cell_type": "code",
      "source": [
        "d = 2540000\n",
        "print(\"Distanza dalla Terra della galassia Andromeda: {0:9,.0f} anni luce ({0:.2e}).\".format(d))\n",
        "\n",
        "v = 300000\n",
        "print(\"Velocità della luce: {0:7,.0f} km al secondo ({0:.0e}).\".format(v))\n",
        "\n",
        "ns_anno = 24*3600*365\n",
        "print(\"Numero di secondi in un anno: {0:10,.0f} ({0:.0e}).\".format(ns_anno))\n",
        "\n",
        "dluce_anno = v * ns_anno\n",
        "print(\"Distanza percorsa dalla luce in un anno: {0:10,.0f} in km (circa 9,4 bilioni di km) ({0:.1e}).\".format(dluce_anno))\n",
        "\n",
        "dkm = v * ns_anno * d\n",
        "print(\"Distanza dalla Terra della galassia Andromeda: {0:10,.0f} in km (circa 24 triliardi di km) ({0:.1e}).\".format(dkm))"
      ],
      "execution_count": 4,
      "outputs": [
        {
          "output_type": "stream",
          "text": [
            "Distanza dalla Terra della galassia Andromeda: 2,540,000 anni luce (2.54e+06).\n",
            "Velocità della luce: 300,000 km al secondo (3e+05).\n",
            "Numero di secondi in un anno: 31,536,000 (3e+07).\n",
            "Distanza percorsa dalla luce in un anno: 9,460,800,000,000 in km (circa 9,4 bilioni di km) (9.5e+12).\n",
            "Distanza dalla Terra della galassia Andromeda: 24,030,432,000,000,000,000 in km (circa 24 triliardi di km) (2.4e+19).\n"
          ],
          "name": "stdout"
        }
      ]
    },
    {
      "metadata": {
        "id": "JIOCSjXpxZa9",
        "colab_type": "text"
      },
      "cell_type": "markdown",
      "source": [
        "### Tecnologia di produzione delle CPU\n",
        "\n",
        "All’interno del processore sono contenuti microscopici componenti, disposti su una griglia di quadrati che agiscono come switch On e Off, permettendo e ostacolando il passaggio della corrente elettrica dando luogo ad una sequenza di segnali elettrici codificati nel sistema binario in 0 e 1.\n",
        "\n",
        "La dimensione media del gate di ogni singolo transistor si misura, per l’appunto, in [nanometri](https://it.wikipedia.org/wiki/Nanometro). Un nanometro non è altro che la miliardesima parte di un metro. Per capire quanto piccolo un nanometro sia, prendete come riferimento lo spessore medio di un capello umano: 80000 nm.\n",
        "\n",
        "Dunque a parità di superficie, minore sarà la distanza tra i componenti del microprocessore maggiore sarà il loro numero. Ecco spiegato il motivo per cui processi produttivi più piccoli tendono a realizzare processori con una velocità di calcolo superiore.\n",
        "\n",
        "### Calcolo die per wafer\n",
        "\n",
        "Il [die](https://it.wikipedia.org/wiki/Die_(elettronica&#42;) è il sottile strato di materiale semiconduttore sul quale è realizzato il circuito elettronico. Nel caso di una CPU di tipo Xeon E7440 [processo a 45 nm ]è all'incirca quadrato: 22 x 22 mm; in un i7 8700K [processo a 22nm] è circa 12 x 12 mm. Il [numero di transistori](https://en.wikipedia.org/wiki/Transistor_count) è circa 2000 milioni.\n",
        "Il [wafer](https://it.wikipedia.org/wiki/Wafer_(elettronica&#42;) è una sottile fetta di materiale semiconduttore di solito dal raggio tra 200 e 300 cm e su cui si stampano il numero massimo di die separati da una zona \"di taglio\" utile quando si separano i die.\n",
        "\n",
        "### Esercizio\n",
        "Dato un wafer di diametro 300 mm e un die di ampiezza 12 mm e un'area di taglio di 1mm, quanti die, al minimo, si possono produrre ?\n",
        "Considerando l'intero wafer, quanti transistori si producono ?"
      ]
    },
    {
      "metadata": {
        "id": "TNIEuja-cS1U",
        "colab_type": "code",
        "outputId": "ecc0a250-0b0f-41fe-b861-37bb7261fdeb",
        "colab": {
          "base_uri": "https://localhost:8080/",
          "height": 51
        }
      },
      "cell_type": "code",
      "source": [
        "import math\n",
        "lato_quadrato_inscritto = 300 * math.sqrt(2)\n",
        "\n",
        "die = 12\n",
        "taglio = 1\n",
        "numero_die_minimo = (int) (lato_quadrato_inscritto / (die + taglio))\n",
        "numero_die_minimo *= numero_die_minimo\n",
        "print(\"Il numero di die producibili per wafer (di 300 mm) è maggiore di: \", numero_die_minimo)\n",
        "\n",
        "nt = 2000 * 10**6\n",
        "ntt = numero_die_minimo * nt\n",
        "print(\"Numero di transistori per wafer (di 300 mm) è maggiore di: {0:10,.0f} (circa 2 biliardi) ({0:.1e}).\".format(ntt))"
      ],
      "execution_count": 5,
      "outputs": [
        {
          "output_type": "stream",
          "text": [
            "Il numero di die producibili per wafer (di 300 mm) è maggiore di:  1024\n",
            "Numero di transistori per wafer (di 300 mm) è maggiore di: 2,048,000,000,000 (circa 2 biliardi) (2.0e+12).\n"
          ],
          "name": "stdout"
        }
      ]
    }
  ]
}