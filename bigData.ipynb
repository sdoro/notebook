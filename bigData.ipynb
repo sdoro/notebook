{
  "nbformat": 4,
  "nbformat_minor": 0,
  "metadata": {
    "colab": {
      "name": "bigData.ipynb",
      "version": "0.3.2",
      "provenance": [],
      "collapsed_sections": []
    },
    "kernelspec": {
      "name": "python3",
      "display_name": "Python 3"
    }
  },
  "cells": [
    {
      "metadata": {
        "id": "j5oYWmDKEzGn",
        "colab_type": "text"
      },
      "cell_type": "markdown",
      "source": [
        "# Prefissi della unità di misura (decimali)\n",
        "\n",
        "I [Prefissi nel Sistema Internazionale (di misura)](https://it.wikipedia.org/wiki/Prefissi_del_Sistema_internazionale_di_unit%C3%A0_di_misura) hanno nomi molto poco comuni. Completano estendendo i nomi i [bilioni](https://it.wikipedia.org/wiki/Bilione) e le voci correlate. Un altro riferimento è la categoria dei [numeri grandi](https://it.wikipedia.org/wiki/Categoria:Numeri_grandi).\n",
        "\n",
        "\n"
      ]
    },
    {
      "metadata": {
        "id": "GLOXlvAoKePt",
        "colab_type": "text"
      },
      "cell_type": "markdown",
      "source": [
        "La quantità di dati che produciamo ogni giorno è davvero sbalorditiva. Ci sono 2,5 quintilioni di byte di dati creati ogni giorno al nostro ritmo attuale, ma tale ritmo sta solo accelerando con la crescita dell'Internet of Things (IoT). Solo negli ultimi due anni è stato generato il 90% dei dati nel mondo. Quanto vale in numeri ?"
      ]
    },
    {
      "metadata": {
        "id": "WPURIHy_KKnR",
        "colab_type": "code",
        "colab": {
          "base_uri": "https://localhost:8080/",
          "height": 34
        },
        "outputId": "f60dcd35-3296-49ef-de3f-4f3f5e423a53"
      },
      "cell_type": "code",
      "source": [
        "n = 2.5*(10**30)\n",
        "print(\"Il valore di 2.5 quintilioni è: {:20,.0f}\".format(n))"
      ],
      "execution_count": 7,
      "outputs": [
        {
          "output_type": "stream",
          "text": [
            "Il valore di 2.5 quintilioni è: 2,499,999,999,999,999,908,974,073,741,312\n"
          ],
          "name": "stdout"
        }
      ]
    },
    {
      "metadata": {
        "id": "8CXevg4Eo9hB",
        "colab_type": "text"
      },
      "cell_type": "markdown",
      "source": [
        "In media, Google elabora più di 40.000 ricerche OGNI secondo (3,5 miliardi di ricerche al giorno)!"
      ]
    },
    {
      "metadata": {
        "id": "oIal5eckpD2n",
        "colab_type": "code",
        "colab": {
          "base_uri": "https://localhost:8080/",
          "height": 34
        },
        "outputId": "a7dff931-a78c-4e16-875b-107955616bf4"
      },
      "cell_type": "code",
      "source": [
        "n = 40000*3600*24\n",
        "print(\"Il numero di ricerche elaborate da Google al giorno è: {:10,.0f}\".format(n))"
      ],
      "execution_count": 8,
      "outputs": [
        {
          "output_type": "stream",
          "text": [
            "Il numero di ricerche elaborate da Google al giorno è: 3,456,000,000\n"
          ],
          "name": "stdout"
        }
      ]
    },
    {
      "metadata": {
        "id": "0cpx6ZtHpv_j",
        "colab_type": "text"
      },
      "cell_type": "markdown",
      "source": [
        "Dall'articolo [How Much Data Do We Create Every Day?](https://goo.gl/TpLFrk) si possono fare esercizi di calcolo interessanti e curiosi. I precedenti due calcoli ne sono un esempio.\n",
        "Si possono costruire anche esempi di calcoli del tipo: \"dopo una settimana ...\", oppure \"se la lunghezza fosse ...\" o ancora \"se la velocità fosse ...\""
      ]
    },
    {
      "metadata": {
        "id": "PwmrHhrzKSAo",
        "colab_type": "text"
      },
      "cell_type": "markdown",
      "source": [
        "# Prefissi delle unità di misura (binarie)\n",
        "\n",
        "I [Prefissi per multipli binari](https://it.wikipedia.org/wiki/Prefissi_per_multipli_binari).\n",
        "\n",
        "[The Zettabyte Era: Trends and Analysis](https://www.cisco.com/c/en/us/solutions/collateral/service-provider/visual-networking-index-vni/vni-hyperconnectivity-wp.html) è un bel articolo (Cisco 2017) dove ci sono molti numeri esageratamente GRANDI."
      ]
    },
    {
      "metadata": {
        "id": "cGJEPfARKit8",
        "colab_type": "code",
        "colab": {
          "base_uri": "https://localhost:8080/",
          "height": 34
        },
        "outputId": "a1a77231-fad0-4960-92b4-1a86db274104"
      },
      "cell_type": "code",
      "source": [
        "# the total IP traffic in 2016 was around 1.2ZB (Cisco 2017).\n",
        "n = 1.2 * 2**70\n",
        "print(\"Il traffico IP nel 2016 fu di circa: {:10,.0f} bytes (fonte Cisco 2017).\".format(n))"
      ],
      "execution_count": 9,
      "outputs": [
        {
          "output_type": "stream",
          "text": [
            "Il traffico IP nel 2016 fu di circa: 1,416,709,944,860,893,511,680 bytes (fonte Cisco 2017).\n"
          ],
          "name": "stdout"
        }
      ]
    },
    {
      "metadata": {
        "id": "_uPXhZNuN6Yz",
        "colab_type": "text"
      },
      "cell_type": "markdown",
      "source": [
        "# Ordini di grandezza\n",
        "\n",
        "Un elenco di [Ordini di grandezza](https://it.wikipedia.org/wiki/Ordini_di_grandezza_(numeri&#41;) che offre spunti per esercizi."
      ]
    }
  ]
}