{
  "nbformat": 4,
  "nbformat_minor": 0,
  "metadata": {
    "colab": {
      "name": "bigData.ipynb",
      "version": "0.3.2",
      "provenance": [],
      "collapsed_sections": []
    },
    "kernelspec": {
      "name": "python3",
      "display_name": "Python 3"
    }
  },
  "cells": [
    {
      "metadata": {
        "id": "j5oYWmDKEzGn",
        "colab_type": "text"
      },
      "cell_type": "markdown",
      "source": [
        "[![Colab](https://colab.research.google.com/assets/colab-badge.svg)](https://colab.research.google.com/github/sdoro/notebooks/blob/master/bigData.ipynb)   [![Binder](http://mybinder.org/badge.svg)](http://mybinder.org/v2/gh/sdoro/notebooks/master?filepath=bigData.ipynb)\n",
        "\n",
        "\n",
        "# Prefissi della unità di misura (decimali)\n",
        "\n",
        "I [Prefissi nel Sistema Internazionale (di misura)](https://it.wikipedia.org/wiki/Prefissi_del_Sistema_internazionale_di_unit%C3%A0_di_misura) hanno nomi molto poco comuni. Completano estendendo i nomi i [bilioni](https://it.wikipedia.org/wiki/Bilione) e le voci correlate. Un altro riferimento è la categoria dei [numeri grandi](https://it.wikipedia.org/wiki/Categoria:Numeri_grandi).\n",
        "\n",
        "\n"
      ]
    },
    {
      "metadata": {
        "id": "GLOXlvAoKePt",
        "colab_type": "text"
      },
      "cell_type": "markdown",
      "source": [
        "La quantità di dati che produciamo ogni giorno è davvero sbalorditiva. Ci sono 2,5 quintilioni di byte di dati creati ogni giorno al nostro ritmo attuale, ma tale ritmo sta solo accelerando con la crescita dell'Internet of Things (IoT). Solo negli ultimi due anni è stato generato il 90% dei dati nel mondo. Quanto vale in numeri ?"
      ]
    },
    {
      "metadata": {
        "id": "WPURIHy_KKnR",
        "colab_type": "code",
        "outputId": "e4ce2d41-deb9-42aa-b9c1-17281a5bbc88",
        "colab": {
          "base_uri": "https://localhost:8080/",
          "height": 34
        }
      },
      "cell_type": "code",
      "source": [
        "n = 2.5*(10**30)\n",
        "print(\"Il valore di 2.5 quintilioni è: {:20,.0f}\".format(n))"
      ],
      "execution_count": 1,
      "outputs": [
        {
          "output_type": "stream",
          "text": [
            "Il valore di 2.5 quintilioni è: 2,499,999,999,999,999,908,974,073,741,312\n"
          ],
          "name": "stdout"
        }
      ]
    },
    {
      "metadata": {
        "id": "8CXevg4Eo9hB",
        "colab_type": "text"
      },
      "cell_type": "markdown",
      "source": [
        "In media, Google elabora più di 40.000 ricerche OGNI secondo (3,5 miliardi di ricerche al giorno)!"
      ]
    },
    {
      "metadata": {
        "id": "oIal5eckpD2n",
        "colab_type": "code",
        "outputId": "89775b03-2281-4575-ac3b-eeb8cabffe38",
        "colab": {
          "base_uri": "https://localhost:8080/",
          "height": 34
        }
      },
      "cell_type": "code",
      "source": [
        "n = 40000*3600*24\n",
        "print(\"Il numero di ricerche elaborate da Google al giorno è: {:10,.0f}\".format(n))"
      ],
      "execution_count": 2,
      "outputs": [
        {
          "output_type": "stream",
          "text": [
            "Il numero di ricerche elaborate da Google al giorno è: 3,456,000,000\n"
          ],
          "name": "stdout"
        }
      ]
    },
    {
      "metadata": {
        "id": "0cpx6ZtHpv_j",
        "colab_type": "text"
      },
      "cell_type": "markdown",
      "source": [
        "Dall'articolo [How Much Data Do We Create Every Day?](https://goo.gl/TpLFrk) si possono fare esercizi di calcolo interessanti e curiosi. I precedenti due calcoli ne sono un esempio.\n",
        "Si possono costruire anche esempi di calcoli del tipo: \"dopo una settimana ...\", oppure \"se la lunghezza fosse ...\" o ancora \"se la velocità fosse ...\""
      ]
    },
    {
      "metadata": {
        "id": "PwmrHhrzKSAo",
        "colab_type": "text"
      },
      "cell_type": "markdown",
      "source": [
        "# Prefissi delle unità di misura (binarie)\n",
        "\n",
        "I [Prefissi per multipli binari](https://it.wikipedia.org/wiki/Prefissi_per_multipli_binari).\n",
        "\n",
        "[The Zettabyte Era: Trends and Analysis](https://www.cisco.com/c/en/us/solutions/collateral/service-provider/visual-networking-index-vni/vni-hyperconnectivity-wp.html) è un bel articolo (Cisco 2017) dove ci sono molti numeri esageratamente GRANDI."
      ]
    },
    {
      "metadata": {
        "id": "cGJEPfARKit8",
        "colab_type": "code",
        "outputId": "a22fda55-7410-4bb5-cd63-c9ea7fd023d9",
        "colab": {
          "base_uri": "https://localhost:8080/",
          "height": 34
        }
      },
      "cell_type": "code",
      "source": [
        "# the total IP traffic in 2016 was around 1.2ZB (Cisco 2017).\n",
        "n = 1.2 * 2**70\n",
        "print(\"Il traffico IP nel 2016 fu di circa: {:10,.0f} bytes (fonte Cisco 2017).\".format(n))"
      ],
      "execution_count": 3,
      "outputs": [
        {
          "output_type": "stream",
          "text": [
            "Il traffico IP nel 2016 fu di circa: 1,416,709,944,860,893,511,680 bytes (fonte Cisco 2017).\n"
          ],
          "name": "stdout"
        }
      ]
    },
    {
      "metadata": {
        "id": "_uPXhZNuN6Yz",
        "colab_type": "text"
      },
      "cell_type": "markdown",
      "source": [
        "# Ordini di grandezza\n",
        "\n",
        "Un elenco di [Ordini di grandezza](https://it.wikipedia.org/wiki/Ordini_di_grandezza_(numeri&#41;) che offre spunti per esercizi."
      ]
    },
    {
      "metadata": {
        "id": "--pJieEdWrA6",
        "colab_type": "text"
      },
      "cell_type": "markdown",
      "source": [
        "### Astronomia\n",
        "La galassia Andromeda che può essere individuata nel cielo notturno, in realtà si trova a una distanza di 2,54 milioni di anni luce. Un [anno luce](https://it.wikipedia.org/wiki/Anno_luce) è la distanza che la luce, che si muove a 300.000 km al secondo, percorre in un anno: approssimativamente 9,46 bilioni di km. Questo significa che la galassia Andromeda che vediamo oggi è quella di 2,54 milioni di anni fa! La luce che raggiunge i nostri occhi in questo momento, è stata emessa molto prima della comparsa dell'Homo Sapiens. Quando dialoghiamo con le stelle, in realtà ci colleghiamo con l'infinito passato."
      ]
    },
    {
      "metadata": {
        "id": "ed0zvETmW9Mq",
        "colab_type": "code",
        "outputId": "c09ac574-aaf0-4e7d-c875-8663a18b5fc3",
        "colab": {
          "base_uri": "https://localhost:8080/",
          "height": 122
        }
      },
      "cell_type": "code",
      "source": [
        "d = 2540000\n",
        "print(\"Distanza dalla Terra della galassia Andromeda: {0:9,.0f} anni luce ({0:.2e}).\".format(d))\n",
        "\n",
        "v = 300000\n",
        "print(\"Velocità della luce: {0:7,.0f} km al secondo ({0:.0e}).\".format(v))\n",
        "\n",
        "ns_anno = 24*3600*365\n",
        "print(\"Numero di secondi in un anno: {0:10,.0f} ({0:.0e}).\".format(ns_anno))\n",
        "\n",
        "dluce_anno = v * ns_anno\n",
        "print(\"Distanza percorsa dalla luce in un anno: {0:10,.0f} in km (circa 9,4 bilioni di km) ({0:.1e}).\".format(dluce_anno))\n",
        "\n",
        "dkm = v * ns_anno * d\n",
        "print(\"Distanza dalla Terra della galassia Andromeda: {0:10,.0f} in km (circa 24 triliardi di km) ({0:.1e}).\".format(dkm))"
      ],
      "execution_count": 4,
      "outputs": [
        {
          "output_type": "stream",
          "text": [
            "Distanza dalla Terra della galassia Andromeda: 2,540,000 anni luce (2.54e+06).\n",
            "Velocità della luce: 300,000 km al secondo (3e+05).\n",
            "Numero di secondi in un anno: 31,536,000 (3e+07).\n",
            "Distanza percorsa dalla luce in un anno: 9,460,800,000,000 in km (circa 9,4 bilioni di km) (9.5e+12).\n",
            "Distanza dalla Terra della galassia Andromeda: 24,030,432,000,000,000,000 in km (circa 24 triliardi di km) (2.4e+19).\n"
          ],
          "name": "stdout"
        }
      ]
    },
    {
      "metadata": {
        "id": "JIOCSjXpxZa9",
        "colab_type": "text"
      },
      "cell_type": "markdown",
      "source": [
        "### Tecnologia di produzione delle CPU\n",
        "\n",
        "All’interno del processore sono contenuti microscopici componenti, disposti su una griglia di quadrati che agiscono come switch On e Off, permettendo e ostacolando il passaggio della corrente elettrica dando luogo ad una sequenza di segnali elettrici codificati nel sistema binario in 0 e 1.\n",
        "\n",
        "La dimensione media del gate di ogni singolo transistor si misura, per l’appunto, in [nanometri](https://it.wikipedia.org/wiki/Nanometro). Un nanometro non è altro che la miliardesima parte di un metro. Per capire quanto piccolo un nanometro sia, prendete come riferimento lo spessore medio di un capello umano: 80000 nm.\n",
        "\n",
        "Dunque a parità di superficie, minore sarà la distanza tra i componenti del microprocessore maggiore sarà il loro numero. Ecco spiegato il motivo per cui processi produttivi più piccoli tendono a realizzare processori con una velocità di calcolo superiore.\n",
        "\n",
        "### Calcolo die per wafer\n",
        "\n",
        "Il [die](https://it.wikipedia.org/wiki/Die_(elettronica&#42;) è il sottile strato di materiale semiconduttore sul quale è realizzato il circuito elettronico. Nel caso di una CPU di tipo Xeon E7440 [processo a 45 nm ]è all'incirca quadrato: 22 x 22 mm; in un i7 8700K [processo a 22nm] è circa 12 x 12 mm. Il [numero di transistori](https://en.wikipedia.org/wiki/Transistor_count) è circa 2000 milioni.\n",
        "Il [wafer](https://it.wikipedia.org/wiki/Wafer_(elettronica&#42;) è una sottile fetta di materiale semiconduttore di solito dal raggio tra 200 e 300 cm e su cui si stampano il numero massimo di die separati da una zona \"di taglio\" utile quando si separano i die.\n",
        "\n",
        "### Esercizio\n",
        "Dato un wafer di diametro 300 mm e un die di ampiezza 12 mm e un'area di taglio di 1mm, quanti die, al minimo, si possono produrre ?\n",
        "Considerando l'intero wafer, quanti transistori si producono ?"
      ]
    },
    {
      "metadata": {
        "id": "TNIEuja-cS1U",
        "colab_type": "code",
        "outputId": "f6c70bfb-4d6c-468c-94bd-f8a2eadf20ed",
        "colab": {
          "base_uri": "https://localhost:8080/",
          "height": 51
        }
      },
      "cell_type": "code",
      "source": [
        "import math\n",
        "lato_quadrato_inscritto = 300 * math.sqrt(2)\n",
        "\n",
        "die = 12\n",
        "taglio = 1\n",
        "numero_die_minimo = (int) (lato_quadrato_inscritto / (die + taglio))\n",
        "numero_die_minimo *= numero_die_minimo\n",
        "print(\"Il numero di die producibili è maggiore di: \", numero_die_minimo)\n",
        "\n",
        "nt = 2000 * 10**6\n",
        "ntt = numero_die_minimo * nt\n",
        "print(\"Numero di transistori per wafer superiore a: {0:10,.0f} (circa 2 biliardi) ({0:.1e}).\".format(ntt))"
      ],
      "execution_count": 5,
      "outputs": [
        {
          "output_type": "stream",
          "text": [
            "Il numero di die producibili è maggiore di:  1024\n",
            "Numero di transistori per wafer superiore a: 2,048,000,000,000 (circa 2 biliardi) (2.0e+12).\n"
          ],
          "name": "stdout"
        }
      ]
    }
  ]
}