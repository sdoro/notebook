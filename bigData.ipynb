{
  "nbformat": 4,
  "nbformat_minor": 0,
  "metadata": {
    "colab": {
      "name": "bigData.ipynb",
      "version": "0.3.2",
      "provenance": [],
      "collapsed_sections": []
    },
    "kernelspec": {
      "name": "python3",
      "display_name": "Python 3"
    }
  },
  "cells": [
    {
      "metadata": {
        "id": "j5oYWmDKEzGn",
        "colab_type": "text"
      },
      "cell_type": "markdown",
      "source": [
        "# Prefissi della unità di misura (decimali)\n",
        "\n",
        "I [Prefissi nel Sistema Internazionale (di misura)](https://it.wikipedia.org/wiki/Prefissi_del_Sistema_internazionale_di_unit%C3%A0_di_misura) hanno nomi molto poco comuni. Completano estendendo i nomi i [bilioni](https://it.wikipedia.org/wiki/Bilione) e le voci correlate. Un altro riferimento è la categoria dei [numeri grandi](https://it.wikipedia.org/wiki/Categoria:Numeri_grandi).\n",
        "\n",
        "\n"
      ]
    },
    {
      "metadata": {
        "id": "GLOXlvAoKePt",
        "colab_type": "text"
      },
      "cell_type": "markdown",
      "source": [
        "La quantità di dati che produciamo ogni giorno è davvero sbalorditiva. Ci sono 2,5 quintilioni di byte di dati creati ogni giorno al nostro ritmo attuale, ma tale ritmo sta solo accelerando con la crescita dell'Internet of Things (IoT). Solo negli ultimi due anni è stato generato il 90% dei dati nel mondo. Quanto vale in numeri ?"
      ]
    },
    {
      "metadata": {
        "id": "WPURIHy_KKnR",
        "colab_type": "code",
        "colab": {
          "base_uri": "https://localhost:8080/",
          "height": 34
        },
        "outputId": "b8e354a4-5292-43d9-a88f-ad92bc5eb3f8"
      },
      "cell_type": "code",
      "source": [
        "n = 2.5*(10**30)\n",
        "print(\"Il valore di 2.5 quintilioni è: {:20,.0f}\".format(n))"
      ],
      "execution_count": 1,
      "outputs": [
        {
          "output_type": "stream",
          "text": [
            "Il valore di 2.5 quintilioni è: 2,499,999,999,999,999,908,974,073,741,312\n"
          ],
          "name": "stdout"
        }
      ]
    },
    {
      "metadata": {
        "id": "8CXevg4Eo9hB",
        "colab_type": "text"
      },
      "cell_type": "markdown",
      "source": [
        "In media, Google elabora più di 40.000 ricerche OGNI secondo (3,5 miliardi di ricerche al giorno)!"
      ]
    },
    {
      "metadata": {
        "id": "oIal5eckpD2n",
        "colab_type": "code",
        "colab": {
          "base_uri": "https://localhost:8080/",
          "height": 34
        },
        "outputId": "2e7951e9-7fff-497f-bd3b-3cc3b8ab481d"
      },
      "cell_type": "code",
      "source": [
        "n = 40000*3600*24\n",
        "print(\"Il numero di ricerche elaborate da Google al giorno è: {:10,.0f}\".format(n))"
      ],
      "execution_count": 2,
      "outputs": [
        {
          "output_type": "stream",
          "text": [
            "Il numero di ricerche elaborate da Google al giorno è: 3,456,000,000\n"
          ],
          "name": "stdout"
        }
      ]
    },
    {
      "metadata": {
        "id": "0cpx6ZtHpv_j",
        "colab_type": "text"
      },
      "cell_type": "markdown",
      "source": [
        "Dall'articolo [How Much Data Do We Create Every Day?](https://goo.gl/TpLFrk) si possono fare esercizi di calcolo interessanti e curiosi. I precedenti due calcoli ne sono un esempio.\n",
        "Si possono costruire anche esempi di calcoli del tipo: \"dopo una settimana ...\", oppure \"se la lunghezza fosse ...\" o ancora \"se la velocità fosse ...\""
      ]
    },
    {
      "metadata": {
        "id": "PwmrHhrzKSAo",
        "colab_type": "text"
      },
      "cell_type": "markdown",
      "source": [
        "# Prefissi delle unità di misura (binarie)\n",
        "\n",
        "I [Prefissi per multipli binari](https://it.wikipedia.org/wiki/Prefissi_per_multipli_binari).\n",
        "\n",
        "[The Zettabyte Era: Trends and Analysis](https://www.cisco.com/c/en/us/solutions/collateral/service-provider/visual-networking-index-vni/vni-hyperconnectivity-wp.html) è un bel articolo (Cisco 2017) dove ci sono molti numeri esageratamente GRANDI."
      ]
    },
    {
      "metadata": {
        "id": "cGJEPfARKit8",
        "colab_type": "code",
        "colab": {
          "base_uri": "https://localhost:8080/",
          "height": 34
        },
        "outputId": "3a3c5c08-56e9-4eb7-a9bf-36466ab64a24"
      },
      "cell_type": "code",
      "source": [
        "# the total IP traffic in 2016 was around 1.2ZB (Cisco 2017).\n",
        "n = 1.2 * 2**70\n",
        "print(\"Il traffico IP nel 2016 fu di circa: {:10,.0f} bytes (fonte Cisco 2017).\".format(n))"
      ],
      "execution_count": 3,
      "outputs": [
        {
          "output_type": "stream",
          "text": [
            "Il traffico IP nel 2016 fu di circa: 1,416,709,944,860,893,511,680 bytes (fonte Cisco 2017).\n"
          ],
          "name": "stdout"
        }
      ]
    },
    {
      "metadata": {
        "id": "_uPXhZNuN6Yz",
        "colab_type": "text"
      },
      "cell_type": "markdown",
      "source": [
        "# Ordini di grandezza\n",
        "\n",
        "Un elenco di [Ordini di grandezza](https://it.wikipedia.org/wiki/Ordini_di_grandezza_(numeri&#41;) che offre spunti per esercizi."
      ]
    },
    {
      "metadata": {
        "id": "--pJieEdWrA6",
        "colab_type": "text"
      },
      "cell_type": "markdown",
      "source": [
        "### Astronomia\n",
        "La galassia Andromeda che può essere individuata nel cielo notturno, in realtà si trova a una distanza di 2,54 milioni di anni luce. Un [anno luce](https://it.wikipedia.org/wiki/Anno_luce) è la distanza che la luce, che si muove a 300.000 km al secondo, percorre in un anno: approssimativamente 9,46 bilioni di km. Questo significa che la galassia Andromeda che vediamo oggi è quella di 2,54 milioni di anni fa! La luce che raggiunge i nostri occhi in questo momento, è stata emessa molto prima della comparsa dell'Homo Sapiens. Quando dialoghiamo con le stelle, in realtà ci colleghiamo con l'infinito passato."
      ]
    },
    {
      "metadata": {
        "id": "ed0zvETmW9Mq",
        "colab_type": "code",
        "colab": {
          "base_uri": "https://localhost:8080/",
          "height": 102
        },
        "outputId": "66df6cb2-16b8-4ef4-f197-87c5cd755fd8"
      },
      "cell_type": "code",
      "source": [
        "d = 2540000\n",
        "print(\"Distanza dalla Terra della galassia Andromeda: {0:9,.0f} anni luce ({0:.2e}).\".format(d))\n",
        "\n",
        "v = 300000\n",
        "print(\"Velocità della luce: {0:7,.0f} km al secondo ({0:.0e}).\".format(v))\n",
        "\n",
        "ns_anno = 24*3600*365\n",
        "print(\"Numero di secondi in un anno: {0:10,.0f} ({0:.0e}).\".format(ns_anno))\n",
        "\n",
        "dluce_anno = v * ns_anno\n",
        "print(\"Distanza percorsa dalla luce in un anno: {0:10,.0f} in km (circa 9,4 bilioni di km) ({0:.1e}).\".format(dluce_anno))\n",
        "\n",
        "dkm = v * ns_anno * d\n",
        "print(\"Distanza dalla Terra della galassia Andromeda: {0:10,.0f} in km (circa 24 triliardi di km) ({0:.1e}).\".format(dkm))"
      ],
      "execution_count": 4,
      "outputs": [
        {
          "output_type": "stream",
          "text": [
            "Distanza dalla Terra della galassia Andromeda: 2,540,000 anni luce (2.54e+06).\n",
            "Velocità della luce: 300,000 km al secondo (3e+05).\n",
            "Numero di secondi in un anno: 31,536,000 (3e+07).\n",
            "Distanza percorsa dalla luce in un anno: 9,460,800,000,000 in km (circa 9,4 bilioni di km) (9.5e+12).\n",
            "Distanza dalla Terra della galassia Andromeda: 24,030,432,000,000,000,000 in km (circa 24 triliardi di km) (2.4e+19).\n"
          ],
          "name": "stdout"
        }
      ]
    }
  ]
}